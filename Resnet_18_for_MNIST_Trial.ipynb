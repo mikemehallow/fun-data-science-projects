{
  "nbformat": 4,
  "nbformat_minor": 0,
  "metadata": {
    "colab": {
      "provenance": [],
      "machine_shape": "hm",
      "gpuType": "L4",
      "authorship_tag": "ABX9TyPeYBqv/Fkq91PmYeIm9hnB",
      "include_colab_link": true
    },
    "kernelspec": {
      "name": "python3",
      "display_name": "Python 3"
    },
    "language_info": {
      "name": "python"
    },
    "accelerator": "GPU"
  },
  "cells": [
    {
      "cell_type": "markdown",
      "metadata": {
        "id": "view-in-github",
        "colab_type": "text"
      },
      "source": [
        "<a href=\"https://colab.research.google.com/github/mikemehallow/fun-data-science-projects/blob/master/Resnet_18_for_MNIST_Trial.ipynb\" target=\"_parent\"><img src=\"https://colab.research.google.com/assets/colab-badge.svg\" alt=\"Open In Colab\"/></a>"
      ]
    },
    {
      "cell_type": "code",
      "source": [
        "!pip install transformers\n",
        "from transformers import ViTModel\n",
        "import torch.nn as nn\n",
        "\n",
        "import pickle,gzip,math,os,time,shutil,torch,matplotlib as mpl, numpy as np\n",
        "from pathlib import Path\n",
        "from torch import tensor\n",
        "from fastcore.test import test_close\n",
        "torch.manual_seed(42)\n",
        "\n",
        "from PIL import Image\n",
        "import torchvision.models as models\n",
        "import torchvision.transforms as T\n",
        "from torch.utils.data import TensorDataset, DataLoader\n",
        "from torch.optim.lr_scheduler import OneCycleLR\n",
        "\n",
        "import tensorflow as tf\n",
        "import time\n",
        "from sklearn.metrics import confusion_matrix\n",
        "\n",
        "\n",
        "mpl.rcParams['image.cmap'] = 'gray'\n",
        "torch.set_printoptions(precision=2, linewidth=125, sci_mode=False)\n",
        "np.set_printoptions(precision=2, linewidth=125)"
      ],
      "metadata": {
        "colab": {
          "base_uri": "https://localhost:8080/"
        },
        "id": "ht5QDtDPrHIa",
        "outputId": "2b26abd5-ebbb-4135-a561-79c44d879926"
      },
      "execution_count": 13,
      "outputs": [
        {
          "output_type": "stream",
          "name": "stdout",
          "text": [
            "Requirement already satisfied: transformers in /usr/local/lib/python3.11/dist-packages (4.47.1)\n",
            "Requirement already satisfied: filelock in /usr/local/lib/python3.11/dist-packages (from transformers) (3.17.0)\n",
            "Requirement already satisfied: huggingface-hub<1.0,>=0.24.0 in /usr/local/lib/python3.11/dist-packages (from transformers) (0.27.1)\n",
            "Requirement already satisfied: numpy>=1.17 in /usr/local/lib/python3.11/dist-packages (from transformers) (1.26.4)\n",
            "Requirement already satisfied: packaging>=20.0 in /usr/local/lib/python3.11/dist-packages (from transformers) (24.2)\n",
            "Requirement already satisfied: pyyaml>=5.1 in /usr/local/lib/python3.11/dist-packages (from transformers) (6.0.2)\n",
            "Requirement already satisfied: regex!=2019.12.17 in /usr/local/lib/python3.11/dist-packages (from transformers) (2024.11.6)\n",
            "Requirement already satisfied: requests in /usr/local/lib/python3.11/dist-packages (from transformers) (2.32.3)\n",
            "Requirement already satisfied: tokenizers<0.22,>=0.21 in /usr/local/lib/python3.11/dist-packages (from transformers) (0.21.0)\n",
            "Requirement already satisfied: safetensors>=0.4.1 in /usr/local/lib/python3.11/dist-packages (from transformers) (0.5.2)\n",
            "Requirement already satisfied: tqdm>=4.27 in /usr/local/lib/python3.11/dist-packages (from transformers) (4.67.1)\n",
            "Requirement already satisfied: fsspec>=2023.5.0 in /usr/local/lib/python3.11/dist-packages (from huggingface-hub<1.0,>=0.24.0->transformers) (2024.10.0)\n",
            "Requirement already satisfied: typing-extensions>=3.7.4.3 in /usr/local/lib/python3.11/dist-packages (from huggingface-hub<1.0,>=0.24.0->transformers) (4.12.2)\n",
            "Requirement already satisfied: charset-normalizer<4,>=2 in /usr/local/lib/python3.11/dist-packages (from requests->transformers) (3.4.1)\n",
            "Requirement already satisfied: idna<4,>=2.5 in /usr/local/lib/python3.11/dist-packages (from requests->transformers) (3.10)\n",
            "Requirement already satisfied: urllib3<3,>=1.21.1 in /usr/local/lib/python3.11/dist-packages (from requests->transformers) (2.3.0)\n",
            "Requirement already satisfied: certifi>=2017.4.17 in /usr/local/lib/python3.11/dist-packages (from requests->transformers) (2024.12.14)\n"
          ]
        }
      ]
    },
    {
      "cell_type": "code",
      "execution_count": 15,
      "metadata": {
        "id": "o_PJhFawrF42"
      },
      "outputs": [],
      "source": [
        "# path_data = Path('data')\n",
        "# path_gz = path_data/'mnist.pkl.gz'\n",
        "# with gzip.open(path_gz, 'rb') as f: ((x_train, y_train), (x_valid, y_valid), _) = pickle.load(f, encoding='latin-1')\n",
        "# Load the MNIST dataset\n",
        "mnist = tf.keras.datasets.mnist\n",
        "(x_train, y_train), (x_valid, y_valid) = mnist.load_data()\n",
        "\n",
        "x_train, y_train, x_valid, y_valid = map(tensor, [x_train, y_train, x_valid, y_valid])\n",
        "\n",
        "x_train = x_train[:, None,:,:].float()\n",
        "x_valid = x_valid[:, None,:,:].float()"
      ]
    },
    {
      "cell_type": "code",
      "source": [
        "# 2. Create a DataLoader for your training data\n",
        "train_dataset = TensorDataset(x_train, y_train)\n",
        "valid_dataset = TensorDataset(x_valid, y_valid)\n",
        "train_loader = DataLoader(train_dataset, batch_size=32*2*2*2, shuffle=True)\n",
        "valid_loader = DataLoader(valid_dataset, batch_size=32*2*2*2, shuffle=True)"
      ],
      "metadata": {
        "id": "RYsYXO__uWqy"
      },
      "execution_count": 56,
      "outputs": []
    },
    {
      "cell_type": "code",
      "source": [
        "model = models.resnet18(pretrained=True)"
      ],
      "metadata": {
        "colab": {
          "base_uri": "https://localhost:8080/"
        },
        "id": "7Piq0h3crIbd",
        "outputId": "8a327ffe-13f4-470b-bff0-8ad3052a58a6"
      },
      "execution_count": 201,
      "outputs": [
        {
          "output_type": "stream",
          "name": "stderr",
          "text": [
            "/usr/local/lib/python3.11/dist-packages/torchvision/models/_utils.py:208: UserWarning: The parameter 'pretrained' is deprecated since 0.13 and may be removed in the future, please use 'weights' instead.\n",
            "  warnings.warn(\n",
            "/usr/local/lib/python3.11/dist-packages/torchvision/models/_utils.py:223: UserWarning: Arguments other than a weight enum or `None` for 'weights' are deprecated since 0.13 and may be removed in the future. The current behavior is equivalent to passing `weights=ResNet18_Weights.IMAGENET1K_V1`. You can also use `weights=ResNet18_Weights.DEFAULT` to get the most up-to-date weights.\n",
            "  warnings.warn(msg)\n"
          ]
        }
      ]
    },
    {
      "cell_type": "code",
      "source": [],
      "metadata": {
        "id": "YTz2JaY46olj"
      },
      "execution_count": 201,
      "outputs": []
    },
    {
      "cell_type": "code",
      "source": [
        "# Modify the first convolutional layer to accept 1 input channel (for grayscale images)\n",
        "model.conv1 = nn.Conv2d(1, 64, kernel_size=(3, 3), stride=(1, 1), padding=(1, 1), bias=False)\n",
        "\n",
        "num_classes = 10  # Replace with your number of classes\n",
        "model.fc = nn.Sequential(\n",
        "    nn.Linear(model.fc.in_features, 256),  # First fully connected layer (512 output features - adjust as needed)\n",
        "    nn.ReLU(),                    # Activation function (ReLU is common)\n",
        "    nn.Dropout(0.2),              # Optional dropout for regularization\n",
        "    nn.Linear(256, num_classes)   # Second fully connected layer (num_classes is your number of output classes)\n",
        ")"
      ],
      "metadata": {
        "id": "2dJY971zrOCL"
      },
      "execution_count": 202,
      "outputs": []
    },
    {
      "cell_type": "code",
      "source": [
        "\n",
        "# 4. Freeze all layers except the last fully connected layer\n",
        "for param in model.parameters():\n",
        "    param.requires_grad = True\n",
        "\n",
        "# Unfreeze the last fully connected layer\n",
        "for param in model.fc.parameters():\n",
        "    param.requires_grad = True"
      ],
      "metadata": {
        "id": "V9khAy5f7nDn"
      },
      "execution_count": 218,
      "outputs": []
    },
    {
      "cell_type": "code",
      "source": [
        "model"
      ],
      "metadata": {
        "colab": {
          "base_uri": "https://localhost:8080/"
        },
        "id": "ORCHXoIM2XmZ",
        "outputId": "a352eda7-5ce9-4f32-d322-bf4e760da5d4"
      },
      "execution_count": 219,
      "outputs": [
        {
          "output_type": "execute_result",
          "data": {
            "text/plain": [
              "ResNet(\n",
              "  (conv1): Conv2d(1, 64, kernel_size=(3, 3), stride=(1, 1), padding=(1, 1), bias=False)\n",
              "  (bn1): BatchNorm2d(64, eps=1e-05, momentum=0.1, affine=True, track_running_stats=True)\n",
              "  (relu): ReLU(inplace=True)\n",
              "  (maxpool): MaxPool2d(kernel_size=3, stride=2, padding=1, dilation=1, ceil_mode=False)\n",
              "  (layer1): Sequential(\n",
              "    (0): BasicBlock(\n",
              "      (conv1): Conv2d(64, 64, kernel_size=(3, 3), stride=(1, 1), padding=(1, 1), bias=False)\n",
              "      (bn1): BatchNorm2d(64, eps=1e-05, momentum=0.1, affine=True, track_running_stats=True)\n",
              "      (relu): ReLU(inplace=True)\n",
              "      (conv2): Conv2d(64, 64, kernel_size=(3, 3), stride=(1, 1), padding=(1, 1), bias=False)\n",
              "      (bn2): BatchNorm2d(64, eps=1e-05, momentum=0.1, affine=True, track_running_stats=True)\n",
              "    )\n",
              "    (1): BasicBlock(\n",
              "      (conv1): Conv2d(64, 64, kernel_size=(3, 3), stride=(1, 1), padding=(1, 1), bias=False)\n",
              "      (bn1): BatchNorm2d(64, eps=1e-05, momentum=0.1, affine=True, track_running_stats=True)\n",
              "      (relu): ReLU(inplace=True)\n",
              "      (conv2): Conv2d(64, 64, kernel_size=(3, 3), stride=(1, 1), padding=(1, 1), bias=False)\n",
              "      (bn2): BatchNorm2d(64, eps=1e-05, momentum=0.1, affine=True, track_running_stats=True)\n",
              "    )\n",
              "  )\n",
              "  (layer2): Sequential(\n",
              "    (0): BasicBlock(\n",
              "      (conv1): Conv2d(64, 128, kernel_size=(3, 3), stride=(2, 2), padding=(1, 1), bias=False)\n",
              "      (bn1): BatchNorm2d(128, eps=1e-05, momentum=0.1, affine=True, track_running_stats=True)\n",
              "      (relu): ReLU(inplace=True)\n",
              "      (conv2): Conv2d(128, 128, kernel_size=(3, 3), stride=(1, 1), padding=(1, 1), bias=False)\n",
              "      (bn2): BatchNorm2d(128, eps=1e-05, momentum=0.1, affine=True, track_running_stats=True)\n",
              "      (downsample): Sequential(\n",
              "        (0): Conv2d(64, 128, kernel_size=(1, 1), stride=(2, 2), bias=False)\n",
              "        (1): BatchNorm2d(128, eps=1e-05, momentum=0.1, affine=True, track_running_stats=True)\n",
              "      )\n",
              "    )\n",
              "    (1): BasicBlock(\n",
              "      (conv1): Conv2d(128, 128, kernel_size=(3, 3), stride=(1, 1), padding=(1, 1), bias=False)\n",
              "      (bn1): BatchNorm2d(128, eps=1e-05, momentum=0.1, affine=True, track_running_stats=True)\n",
              "      (relu): ReLU(inplace=True)\n",
              "      (conv2): Conv2d(128, 128, kernel_size=(3, 3), stride=(1, 1), padding=(1, 1), bias=False)\n",
              "      (bn2): BatchNorm2d(128, eps=1e-05, momentum=0.1, affine=True, track_running_stats=True)\n",
              "    )\n",
              "  )\n",
              "  (layer3): Sequential(\n",
              "    (0): BasicBlock(\n",
              "      (conv1): Conv2d(128, 256, kernel_size=(3, 3), stride=(2, 2), padding=(1, 1), bias=False)\n",
              "      (bn1): BatchNorm2d(256, eps=1e-05, momentum=0.1, affine=True, track_running_stats=True)\n",
              "      (relu): ReLU(inplace=True)\n",
              "      (conv2): Conv2d(256, 256, kernel_size=(3, 3), stride=(1, 1), padding=(1, 1), bias=False)\n",
              "      (bn2): BatchNorm2d(256, eps=1e-05, momentum=0.1, affine=True, track_running_stats=True)\n",
              "      (downsample): Sequential(\n",
              "        (0): Conv2d(128, 256, kernel_size=(1, 1), stride=(2, 2), bias=False)\n",
              "        (1): BatchNorm2d(256, eps=1e-05, momentum=0.1, affine=True, track_running_stats=True)\n",
              "      )\n",
              "    )\n",
              "    (1): BasicBlock(\n",
              "      (conv1): Conv2d(256, 256, kernel_size=(3, 3), stride=(1, 1), padding=(1, 1), bias=False)\n",
              "      (bn1): BatchNorm2d(256, eps=1e-05, momentum=0.1, affine=True, track_running_stats=True)\n",
              "      (relu): ReLU(inplace=True)\n",
              "      (conv2): Conv2d(256, 256, kernel_size=(3, 3), stride=(1, 1), padding=(1, 1), bias=False)\n",
              "      (bn2): BatchNorm2d(256, eps=1e-05, momentum=0.1, affine=True, track_running_stats=True)\n",
              "    )\n",
              "  )\n",
              "  (layer4): Sequential(\n",
              "    (0): BasicBlock(\n",
              "      (conv1): Conv2d(256, 512, kernel_size=(3, 3), stride=(2, 2), padding=(1, 1), bias=False)\n",
              "      (bn1): BatchNorm2d(512, eps=1e-05, momentum=0.1, affine=True, track_running_stats=True)\n",
              "      (relu): ReLU(inplace=True)\n",
              "      (conv2): Conv2d(512, 512, kernel_size=(3, 3), stride=(1, 1), padding=(1, 1), bias=False)\n",
              "      (bn2): BatchNorm2d(512, eps=1e-05, momentum=0.1, affine=True, track_running_stats=True)\n",
              "      (downsample): Sequential(\n",
              "        (0): Conv2d(256, 512, kernel_size=(1, 1), stride=(2, 2), bias=False)\n",
              "        (1): BatchNorm2d(512, eps=1e-05, momentum=0.1, affine=True, track_running_stats=True)\n",
              "      )\n",
              "    )\n",
              "    (1): BasicBlock(\n",
              "      (conv1): Conv2d(512, 512, kernel_size=(3, 3), stride=(1, 1), padding=(1, 1), bias=False)\n",
              "      (bn1): BatchNorm2d(512, eps=1e-05, momentum=0.1, affine=True, track_running_stats=True)\n",
              "      (relu): ReLU(inplace=True)\n",
              "      (conv2): Conv2d(512, 512, kernel_size=(3, 3), stride=(1, 1), padding=(1, 1), bias=False)\n",
              "      (bn2): BatchNorm2d(512, eps=1e-05, momentum=0.1, affine=True, track_running_stats=True)\n",
              "    )\n",
              "  )\n",
              "  (avgpool): AdaptiveAvgPool2d(output_size=(1, 1))\n",
              "  (fc): Sequential(\n",
              "    (0): Linear(in_features=512, out_features=256, bias=True)\n",
              "    (1): ReLU()\n",
              "    (2): Dropout(p=0.1, inplace=False)\n",
              "    (3): Linear(in_features=256, out_features=10, bias=True)\n",
              "  )\n",
              ")"
            ]
          },
          "metadata": {},
          "execution_count": 219
        }
      ]
    },
    {
      "cell_type": "code",
      "source": [
        "# 5. Define the loss function and optimizer\n",
        "criterion = nn.CrossEntropyLoss()\n",
        "optimizer = torch.optim.Adam(model.fc.parameters(), lr=0.001)  # Only optimize the unfrozen parameters\n",
        "\n",
        "# 6. Training loop\n",
        "num_epochs = 20  # Adjust as needed\n",
        "device = torch.device(\"cuda\" if torch.cuda.is_available() else \"cpu\")  # Use GPU if available\n",
        "model.to(device) # Move model to the selected device\n",
        "\n",
        "total_steps = len(train_loader) * num_epochs  # Total number of training steps\n",
        "scheduler = OneCycleLR(optimizer, max_lr=0.001, total_steps=total_steps) # max_lr is the peak learning rate\n",
        "\n",
        "for epoch in range(num_epochs):\n",
        "    epoch_start_time = time.time()\n",
        "    for i, (images, labels) in enumerate(train_loader):\n",
        "        images = images.to(device)  # Move images to the selected device\n",
        "        labels = labels.to(device)  # Move labels to the selected device\n",
        "\n",
        "        # Forward pass\n",
        "        outputs = model(images)\n",
        "        loss = criterion(outputs, labels)\n",
        "\n",
        "        # Backward pass and optimization\n",
        "        optimizer.zero_grad()\n",
        "        loss.backward()\n",
        "        optimizer.step()\n",
        "\n",
        "        if (i+1) % 100 == 0:\n",
        "            loss_list.append(loss.item())\n",
        "            print ('Epoch [{}/{}], Step [{}/{}], Loss: {:.4f}'.format(epoch+1, num_epochs, i+1, len(train_loader), loss.item()))\n",
        "\n",
        "        # Step the scheduler\n",
        "        scheduler.step()  # Update the learning rate\n",
        "\n",
        "    epoch_end_time = time.time()\n",
        "    print(f\"Epoch {epoch+1} on the {device} device completed in {epoch_end_time - epoch_start_time:.2f} seconds\")\n",
        "\n",
        "# 7. Save the trained model (optional)\n",
        "torch.save(model.state_dict(), 'fine_tuned_resnet18.pth')"
      ],
      "metadata": {
        "colab": {
          "base_uri": "https://localhost:8080/"
        },
        "id": "hGGKbMeiuKBr",
        "outputId": "576a1324-8690-4b77-bc8c-e9e8c27da3a5"
      },
      "execution_count": 220,
      "outputs": [
        {
          "output_type": "stream",
          "name": "stdout",
          "text": [
            "Epoch [1/20], Step [100/235], Loss: 0.0057\n",
            "Epoch [1/20], Step [200/235], Loss: 0.0037\n",
            "Epoch 1 on the cuda device completed in 4.77 seconds\n",
            "Epoch [2/20], Step [100/235], Loss: 0.0045\n",
            "Epoch [2/20], Step [200/235], Loss: 0.0049\n",
            "Epoch 2 on the cuda device completed in 4.78 seconds\n",
            "Epoch [3/20], Step [100/235], Loss: 0.0038\n",
            "Epoch [3/20], Step [200/235], Loss: 0.0265\n",
            "Epoch 3 on the cuda device completed in 4.80 seconds\n",
            "Epoch [4/20], Step [100/235], Loss: 0.0170\n",
            "Epoch [4/20], Step [200/235], Loss: 0.0335\n",
            "Epoch 4 on the cuda device completed in 4.80 seconds\n",
            "Epoch [5/20], Step [100/235], Loss: 0.0350\n",
            "Epoch [5/20], Step [200/235], Loss: 0.0295\n",
            "Epoch 5 on the cuda device completed in 5.06 seconds\n",
            "Epoch [6/20], Step [100/235], Loss: 0.0244\n",
            "Epoch [6/20], Step [200/235], Loss: 0.0285\n",
            "Epoch 6 on the cuda device completed in 4.82 seconds\n",
            "Epoch [7/20], Step [100/235], Loss: 0.0227\n",
            "Epoch [7/20], Step [200/235], Loss: 0.0141\n",
            "Epoch 7 on the cuda device completed in 4.82 seconds\n",
            "Epoch [8/20], Step [100/235], Loss: 0.0091\n",
            "Epoch [8/20], Step [200/235], Loss: 0.0122\n",
            "Epoch 8 on the cuda device completed in 4.83 seconds\n",
            "Epoch [9/20], Step [100/235], Loss: 0.0062\n",
            "Epoch [9/20], Step [200/235], Loss: 0.0026\n",
            "Epoch 9 on the cuda device completed in 4.83 seconds\n",
            "Epoch [10/20], Step [100/235], Loss: 0.0015\n",
            "Epoch [10/20], Step [200/235], Loss: 0.0031\n",
            "Epoch 10 on the cuda device completed in 4.83 seconds\n",
            "Epoch [11/20], Step [100/235], Loss: 0.0019\n",
            "Epoch [11/20], Step [200/235], Loss: 0.0021\n",
            "Epoch 11 on the cuda device completed in 4.84 seconds\n",
            "Epoch [12/20], Step [100/235], Loss: 0.0015\n",
            "Epoch [12/20], Step [200/235], Loss: 0.0015\n",
            "Epoch 12 on the cuda device completed in 4.85 seconds\n",
            "Epoch [13/20], Step [100/235], Loss: 0.0009\n",
            "Epoch [13/20], Step [200/235], Loss: 0.0007\n",
            "Epoch 13 on the cuda device completed in 4.86 seconds\n",
            "Epoch [14/20], Step [100/235], Loss: 0.0010\n",
            "Epoch [14/20], Step [200/235], Loss: 0.0012\n",
            "Epoch 14 on the cuda device completed in 4.87 seconds\n",
            "Epoch [15/20], Step [100/235], Loss: 0.0006\n",
            "Epoch [15/20], Step [200/235], Loss: 0.0009\n",
            "Epoch 15 on the cuda device completed in 4.87 seconds\n",
            "Epoch [16/20], Step [100/235], Loss: 0.0013\n",
            "Epoch [16/20], Step [200/235], Loss: 0.0010\n",
            "Epoch 16 on the cuda device completed in 4.88 seconds\n",
            "Epoch [17/20], Step [100/235], Loss: 0.0009\n",
            "Epoch [17/20], Step [200/235], Loss: 0.0011\n",
            "Epoch 17 on the cuda device completed in 4.88 seconds\n",
            "Epoch [18/20], Step [100/235], Loss: 0.0009\n",
            "Epoch [18/20], Step [200/235], Loss: 0.0011\n",
            "Epoch 18 on the cuda device completed in 5.12 seconds\n",
            "Epoch [19/20], Step [100/235], Loss: 0.0008\n",
            "Epoch [19/20], Step [200/235], Loss: 0.0010\n",
            "Epoch 19 on the cuda device completed in 4.87 seconds\n",
            "Epoch [20/20], Step [100/235], Loss: 0.0007\n",
            "Epoch [20/20], Step [200/235], Loss: 0.0007\n",
            "Epoch 20 on the cuda device completed in 4.88 seconds\n"
          ]
        }
      ]
    },
    {
      "cell_type": "code",
      "source": [
        "import matplotlib.pyplot as plt\n",
        "plt.plot(loss_list)\n",
        "plt.xlabel('Iteration')\n",
        "plt.ylabel('Loss')\n",
        "plt.title('Loss vs. Iteration')\n",
        "plt.show()"
      ],
      "metadata": {
        "colab": {
          "base_uri": "https://localhost:8080/",
          "height": 472
        },
        "id": "JTMsgzfAzPl4",
        "outputId": "f4183dd6-17f7-48bf-9667-f25cdc4c9aa5"
      },
      "execution_count": 221,
      "outputs": [
        {
          "output_type": "display_data",
          "data": {
            "text/plain": [
              "<Figure size 640x480 with 1 Axes>"
            ],
            "image/png": "[encoded data removed]"
          },
          "metadata": {}
        }
      ]
    },
    {
      "cell_type": "code",
      "source": [
        "# 7. Evaluation\n",
        "device = torch.device(\"cuda\" if torch.cuda.is_available() else \"cpu\")\n",
        "model.eval()  # Set the model to evaluation mode\n",
        "correct = 0\n",
        "total = 0\n",
        "all_predictions = []\n",
        "all_labels = []\n",
        "\n",
        "with torch.no_grad():  # Disable gradient calculation during evaluation\n",
        "    for images, labels in valid_loader: # Use train_loader or a separate test_loader for evaluation\n",
        "        images = images.to(device)\n",
        "        labels = labels.to(device)\n",
        "        outputs = model(images)\n",
        "        _, predicted = torch.max(outputs.data, 1)  # Get the predicted class\n",
        "        total += labels.size(0)\n",
        "        correct += (predicted == labels).sum().item()\n",
        "\n",
        "        # Store predictions and labels for confusion matrix\n",
        "        all_predictions.extend(predicted.cpu().numpy())\n",
        "        all_labels.extend(labels.cpu().numpy())\n",
        "\n",
        "accuracy = 100 * correct / total\n",
        "print('Accuracy of the model on the test images: {} %'.format(accuracy))\n",
        "\n",
        "# 8. Confusion Matrix\n",
        "cm = confusion_matrix(all_labels, all_predictions)\n",
        "print(\"Confusion Matrix:\")\n",
        "print(cm)\n",
        "\n",
        "# 9. Class-wise Accuracy (Optional)\n",
        "class_correct = np.zeros(10)  # 10 classes (0-9)\n",
        "class_total = np.zeros(10)\n",
        "\n",
        "for i in range(len(all_labels)):\n",
        "    label = all_labels[i]\n",
        "    prediction = all_predictions[i]\n",
        "    if label == prediction:\n",
        "        class_correct[label] += 1\n",
        "    class_total[label] += 1\n",
        "\n",
        "for i in range(10):\n",
        "    if class_total[i] > 0: # Avoid division by zero\n",
        "        class_accuracy = 100 * class_correct[i] / class_total[i]\n",
        "        print(f\"Accuracy of class {i}: {class_accuracy:.2f}%\")\n",
        "    else:\n",
        "      print(f\"No samples for class {i} in the test set\")"
      ],
      "metadata": {
        "colab": {
          "base_uri": "https://localhost:8080/"
        },
        "id": "kWomPGBatn-u",
        "outputId": "eef54113-ef3b-4c97-c4c1-5620d727a537"
      },
      "execution_count": 222,
      "outputs": [
        {
          "output_type": "stream",
          "name": "stdout",
          "text": [
            "Accuracy of the model on the test images: 88.32 %\n",
            "Confusion Matrix:\n",
            "[[ 923    1    8    2    4    7   18    0   11    6]\n",
            " [   3 1100    3    4    3    4    7    2    5    4]\n",
            " [   9    5  892   40    8   20   13   14   22    9]\n",
            " [   7    2   38  837    1   54    3   18   35   15]\n",
            " [   3    5    9    1  885    5   16   20   10   28]\n",
            " [   9    1   15   67    5  741   12    7   34    1]\n",
            " [  15    4   15    2   12   15  875    1   16    3]\n",
            " [   2    6   14   19   24    7    0  913    1   42]\n",
            " [  18    1   29   38   12   38   10   15  776   37]\n",
            " [   7    7   12   10   19    6    5   32   21  890]]\n",
            "Accuracy of class 0: 94.18%\n",
            "Accuracy of class 1: 96.92%\n",
            "Accuracy of class 2: 86.43%\n",
            "Accuracy of class 3: 82.87%\n",
            "Accuracy of class 4: 90.12%\n",
            "Accuracy of class 5: 83.07%\n",
            "Accuracy of class 6: 91.34%\n",
            "Accuracy of class 7: 88.81%\n",
            "Accuracy of class 8: 79.67%\n",
            "Accuracy of class 9: 88.21%\n"
          ]
        }
      ]
    },
    {
      "cell_type": "code",
      "source": [],
      "metadata": {
        "id": "KJAvcAKEtzA8"
      },
      "execution_count": 212,
      "outputs": []
    }
  ]
}