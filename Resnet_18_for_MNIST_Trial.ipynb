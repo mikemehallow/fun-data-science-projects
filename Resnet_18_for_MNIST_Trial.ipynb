{
  "nbformat": 4,
  "nbformat_minor": 0,
  "metadata": {
    "colab": {
      "provenance": [],
      "gpuType": "T4",
      "authorship_tag": "ABX9TyNV2fZUBbJBKKGKGRTwERAd",
      "include_colab_link": true
    },
    "kernelspec": {
      "name": "python3",
      "display_name": "Python 3"
    },
    "language_info": {
      "name": "python"
    },
    "accelerator": "GPU"
  },
  "cells": [
    {
      "cell_type": "markdown",
      "metadata": {
        "id": "view-in-github",
        "colab_type": "text"
      },
      "source": [
        "<a href=\"https://colab.research.google.com/github/mikemehallow/fun-data-science-projects/blob/master/Resnet_18_for_MNIST_Trial.ipynb\" target=\"_parent\"><img src=\"https://colab.research.google.com/assets/colab-badge.svg\" alt=\"Open In Colab\"/></a>"
      ]
    },
    {
      "cell_type": "code",
      "source": [
        "from fastai.vision.all import *\n",
        "# from fastbook import *"
      ],
      "metadata": {
        "id": "LcbdTkwmAXNY"
      },
      "execution_count": 2,
      "outputs": []
    },
    {
      "cell_type": "code",
      "source": [],
      "metadata": {
        "colab": {
          "base_uri": "https://localhost:8080/"
        },
        "id": "D3fXLxU-Alpc",
        "outputId": "bec39e18-1973-4909-b145-1195eb529d8f"
      },
      "execution_count": 3,
      "outputs": [
        {
          "output_type": "stream",
          "name": "stdout",
          "text": [
            "Object `ImageDataBunch` not found.\n"
          ]
        }
      ]
    },
    {
      "cell_type": "code",
      "source": [
        "!pip install transformers\n",
        "import torch.nn as nn\n",
        "\n",
        "import pickle,gzip,math,os,time,shutil,torch,matplotlib as mpl, numpy as np\n",
        "from pathlib import Path\n",
        "from torch import tensor\n",
        "from fastcore.test import test_close\n",
        "torch.manual_seed(42)\n",
        "\n",
        "from PIL import Image\n",
        "import torchvision.models as models\n",
        "import torchvision.transforms as T\n",
        "from torch.utils.data import TensorDataset, DataLoader\n",
        "from torch.optim.lr_scheduler import OneCycleLR\n",
        "\n",
        "import tensorflow as tf\n",
        "import time\n",
        "from sklearn.metrics import confusion_matrix\n",
        "\n",
        "\n",
        "mpl.rcParams['image.cmap'] = 'gray'\n",
        "torch.set_printoptions(precision=2, linewidth=125, sci_mode=False)\n",
        "np.set_printoptions(precision=2, linewidth=125)"
      ],
      "metadata": {
        "colab": {
          "base_uri": "https://localhost:8080/"
        },
        "id": "ht5QDtDPrHIa",
        "outputId": "6fc2a6d8-1946-4ae2-820f-70627f07cd20"
      },
      "execution_count": 4,
      "outputs": [
        {
          "output_type": "stream",
          "name": "stdout",
          "text": [
            "Requirement already satisfied: transformers in /usr/local/lib/python3.11/dist-packages (4.47.1)\n",
            "Requirement already satisfied: filelock in /usr/local/lib/python3.11/dist-packages (from transformers) (3.17.0)\n",
            "Requirement already satisfied: huggingface-hub<1.0,>=0.24.0 in /usr/local/lib/python3.11/dist-packages (from transformers) (0.27.1)\n",
            "Requirement already satisfied: numpy>=1.17 in /usr/local/lib/python3.11/dist-packages (from transformers) (1.26.4)\n",
            "Requirement already satisfied: packaging>=20.0 in /usr/local/lib/python3.11/dist-packages (from transformers) (24.2)\n",
            "Requirement already satisfied: pyyaml>=5.1 in /usr/local/lib/python3.11/dist-packages (from transformers) (6.0.2)\n",
            "Requirement already satisfied: regex!=2019.12.17 in /usr/local/lib/python3.11/dist-packages (from transformers) (2024.11.6)\n",
            "Requirement already satisfied: requests in /usr/local/lib/python3.11/dist-packages (from transformers) (2.32.3)\n",
            "Requirement already satisfied: tokenizers<0.22,>=0.21 in /usr/local/lib/python3.11/dist-packages (from transformers) (0.21.0)\n",
            "Requirement already satisfied: safetensors>=0.4.1 in /usr/local/lib/python3.11/dist-packages (from transformers) (0.5.2)\n",
            "Requirement already satisfied: tqdm>=4.27 in /usr/local/lib/python3.11/dist-packages (from transformers) (4.67.1)\n",
            "Requirement already satisfied: fsspec>=2023.5.0 in /usr/local/lib/python3.11/dist-packages (from huggingface-hub<1.0,>=0.24.0->transformers) (2024.10.0)\n",
            "Requirement already satisfied: typing-extensions>=3.7.4.3 in /usr/local/lib/python3.11/dist-packages (from huggingface-hub<1.0,>=0.24.0->transformers) (4.12.2)\n",
            "Requirement already satisfied: charset-normalizer<4,>=2 in /usr/local/lib/python3.11/dist-packages (from requests->transformers) (3.4.1)\n",
            "Requirement already satisfied: idna<4,>=2.5 in /usr/local/lib/python3.11/dist-packages (from requests->transformers) (3.10)\n",
            "Requirement already satisfied: urllib3<3,>=1.21.1 in /usr/local/lib/python3.11/dist-packages (from requests->transformers) (2.3.0)\n",
            "Requirement already satisfied: certifi>=2017.4.17 in /usr/local/lib/python3.11/dist-packages (from requests->transformers) (2024.12.14)\n"
          ]
        }
      ]
    },
    {
      "cell_type": "code",
      "execution_count": 5,
      "metadata": {
        "colab": {
          "base_uri": "https://localhost:8080/"
        },
        "id": "o_PJhFawrF42",
        "outputId": "d3b2587c-48ae-4682-fbb7-f844c80ee759"
      },
      "outputs": [
        {
          "output_type": "stream",
          "name": "stdout",
          "text": [
            "Downloading data from https://storage.googleapis.com/tensorflow/tf-keras-datasets/mnist.npz\n",
            "\u001b[1m11490434/11490434\u001b[0m \u001b[32m━━━━━━━━━━━━━━━━━━━━\u001b[0m\u001b[37m\u001b[0m \u001b[1m2s\u001b[0m 0us/step\n"
          ]
        }
      ],
      "source": [
        "mnist = tf.keras.datasets.mnist\n",
        "(x_train, y_train), (x_valid, y_valid) = mnist.load_data()\n",
        "\n",
        "x_train, y_train, x_valid, y_valid = map(tensor, [x_train, y_train, x_valid, y_valid])\n",
        "\n",
        "x_train = x_train[:, None,:,:].float()\n",
        "x_valid = x_valid[:, None,:,:].float()"
      ]
    },
    {
      "cell_type": "code",
      "source": [
        "# 2. Create a DataLoader for your training data\n",
        "train_dataset = TensorDataset(x_train, y_train)\n",
        "valid_dataset = TensorDataset(x_valid, y_valid)\n",
        "train_loader = DataLoader(train_dataset, batch_size=32*2*2*2, shuffle=True)\n",
        "valid_loader = DataLoader(valid_dataset, batch_size=32*2*2*2, shuffle=True)"
      ],
      "metadata": {
        "id": "RYsYXO__uWqy"
      },
      "execution_count": 68,
      "outputs": []
    },
    {
      "cell_type": "code",
      "source": [
        "model = models.resnet18(pretrained=True)\n",
        "# Modify the first convolutional layer to accept 1 input channel (for grayscale images)\n",
        "model.conv1 = nn.Conv2d(1, 64, kernel_size=(3, 3), stride=(1, 1), padding=(1, 1), bias=False)\n",
        "\n",
        "num_classes = 10\n",
        "model.fc = nn.Sequential(\n",
        "    nn.Linear(model.fc.in_features, num_classes)\n",
        ")"
      ],
      "metadata": {
        "colab": {
          "base_uri": "https://localhost:8080/"
        },
        "id": "7Piq0h3crIbd",
        "outputId": "f8fc431d-09c4-496a-eda5-031e977ddaeb"
      },
      "execution_count": 80,
      "outputs": [
        {
          "output_type": "stream",
          "name": "stderr",
          "text": [
            "/usr/local/lib/python3.11/dist-packages/torchvision/models/_utils.py:208: UserWarning: The parameter 'pretrained' is deprecated since 0.13 and may be removed in the future, please use 'weights' instead.\n",
            "  warnings.warn(\n",
            "/usr/local/lib/python3.11/dist-packages/torchvision/models/_utils.py:223: UserWarning: Arguments other than a weight enum or `None` for 'weights' are deprecated since 0.13 and may be removed in the future. The current behavior is equivalent to passing `weights=ResNet18_Weights.IMAGENET1K_V1`. You can also use `weights=ResNet18_Weights.DEFAULT` to get the most up-to-date weights.\n",
            "  warnings.warn(msg)\n"
          ]
        }
      ]
    },
    {
      "cell_type": "code",
      "source": [
        "# 4. Freeze all layers except the last fully connected layer\n",
        "for param in model.parameters():\n",
        "    param.requires_grad = True\n",
        "\n",
        "# Unfreeze the last fully connected layer\n",
        "for param in model.fc.parameters():\n",
        "    param.requires_grad = True"
      ],
      "metadata": {
        "id": "fbHuQMBMClg4"
      },
      "execution_count": 81,
      "outputs": []
    },
    {
      "cell_type": "code",
      "source": [
        "loss_list = []"
      ],
      "metadata": {
        "id": "VS0BPImmBacy"
      },
      "execution_count": 82,
      "outputs": []
    },
    {
      "cell_type": "code",
      "source": [
        "# 5. Define the loss function and optimizer\n",
        "criterion = nn.CrossEntropyLoss()\n",
        "optimizer = torch.optim.Adam(model.parameters(), lr=0.001)\n",
        "\n",
        "# 6. Training loop\n",
        "num_epochs = 3  # Adjust as needed\n",
        "device = torch.device(\"cuda\" if torch.cuda.is_available() else \"cpu\")  # Use GPU if available\n",
        "model.to(device) # Move model to the selected device\n",
        "\n",
        "total_steps = len(train_loader) * num_epochs  # Total number of training steps\n",
        "scheduler = OneCycleLR(optimizer, max_lr=0.001, total_steps=total_steps) # max_lr is the peak learning rate\n",
        "\n",
        "for epoch in range(num_epochs):\n",
        "    epoch_start_time = time.time()\n",
        "    for i, (images, labels) in enumerate(train_loader):\n",
        "        images = images.to(device)  # Move images to the selected device\n",
        "        labels = labels.to(device)  # Move labels to the selected device\n",
        "\n",
        "        # Forward pass\n",
        "        outputs = model(images)\n",
        "        loss = criterion(outputs, labels)\n",
        "\n",
        "        # Backward pass and optimization\n",
        "        optimizer.zero_grad()\n",
        "        loss.backward()\n",
        "        optimizer.step()\n",
        "\n",
        "        if (i+1) % 100 == 0:\n",
        "            loss_list.append(loss.item())\n",
        "            print ('Epoch [{}/{}], Step [{}/{}], Loss: {:.4f}'.format(epoch+1, num_epochs, i+1, len(train_loader), loss.item()))\n",
        "\n",
        "        # Step the scheduler\n",
        "        scheduler.step()  # Update the learning rate\n",
        "\n",
        "    epoch_end_time = time.time()\n",
        "    print(f\"Epoch {epoch+1} on the {device} device completed in {epoch_end_time - epoch_start_time:.2f} seconds\")\n",
        "\n",
        "# 7. Save the trained model (optional)\n",
        "torch.save(model.state_dict(), 'fine_tuned_resnet18.pth')"
      ],
      "metadata": {
        "colab": {
          "base_uri": "https://localhost:8080/"
        },
        "id": "hGGKbMeiuKBr",
        "outputId": "a0b640f2-36e9-4dab-8167-82d7f3110941"
      },
      "execution_count": 83,
      "outputs": [
        {
          "output_type": "stream",
          "name": "stdout",
          "text": [
            "Epoch [1/3], Step [100/235], Loss: 0.0928\n",
            "Epoch [1/3], Step [200/235], Loss: 0.0531\n",
            "Epoch 1 on the cuda device completed in 17.79 seconds\n",
            "Epoch [2/3], Step [100/235], Loss: 0.0284\n",
            "Epoch [2/3], Step [200/235], Loss: 0.0382\n",
            "Epoch 2 on the cuda device completed in 17.41 seconds\n",
            "Epoch [3/3], Step [100/235], Loss: 0.0033\n",
            "Epoch [3/3], Step [200/235], Loss: 0.0026\n",
            "Epoch 3 on the cuda device completed in 17.61 seconds\n"
          ]
        }
      ]
    },
    {
      "cell_type": "code",
      "source": [
        "import matplotlib.pyplot as plt\n",
        "plt.plot(loss_list)\n",
        "plt.xlabel('Iteration')\n",
        "plt.ylabel('Loss')\n",
        "plt.title('Loss vs. Iteration')\n",
        "plt.show()"
      ],
      "metadata": {
        "colab": {
          "base_uri": "https://localhost:8080/",
          "height": 472
        },
        "id": "JTMsgzfAzPl4",
        "outputId": "19759c3b-3483-4bed-e8d4-a2117a1dd98a"
      },
      "execution_count": 84,
      "outputs": [
        {
          "output_type": "display_data",
          "data": {
            "text/plain": [
              "<Figure size 640x480 with 1 Axes>"
            ],
            "image/png": "[encoded data removed]"
          },
          "metadata": {}
        }
      ]
    },
    {
      "cell_type": "code",
      "source": [
        "# 7. Evaluation\n",
        "device = torch.device(\"cuda\" if torch.cuda.is_available() else \"cpu\")\n",
        "model.eval()  # Set the model to evaluation mode\n",
        "correct = 0\n",
        "total = 0\n",
        "all_predictions = []\n",
        "all_labels = []\n",
        "\n",
        "with torch.no_grad():  # Disable gradient calculation during evaluation\n",
        "    for images, labels in valid_loader: # Use train_loader or a separate test_loader for evaluation\n",
        "        images = images.to(device)\n",
        "        labels = labels.to(device)\n",
        "        outputs = model(images)\n",
        "        _, predicted = torch.max(outputs.data, 1)  # Get the predicted class\n",
        "        total += labels.size(0)\n",
        "        correct += (predicted == labels).sum().item()\n",
        "\n",
        "        # Store predictions and labels for confusion matrix\n",
        "        all_predictions.extend(predicted.cpu().numpy())\n",
        "        all_labels.extend(labels.cpu().numpy())\n",
        "\n",
        "accuracy = 100 * correct / total\n",
        "print('Accuracy of the model on the test images: {} %'.format(accuracy))\n",
        "\n",
        "# 8. Confusion Matrix\n",
        "cm = confusion_matrix(all_labels, all_predictions)\n",
        "print(\"Confusion Matrix:\")\n",
        "print(cm)\n",
        "\n",
        "# 9. Class-wise Accuracy (Optional)\n",
        "class_correct = np.zeros(10)  # 10 classes (0-9)\n",
        "class_total = np.zeros(10)\n",
        "\n",
        "for i in range(len(all_labels)):\n",
        "    label = all_labels[i]\n",
        "    prediction = all_predictions[i]\n",
        "    if label == prediction:\n",
        "        class_correct[label] += 1\n",
        "    class_total[label] += 1\n",
        "\n",
        "for i in range(10):\n",
        "    if class_total[i] > 0: # Avoid division by zero\n",
        "        class_accuracy = 100 * class_correct[i] / class_total[i]\n",
        "        print(f\"Accuracy of class {i}: {class_accuracy:.2f}%\")\n",
        "    else:\n",
        "      print(f\"No samples for class {i} in the test set\")"
      ],
      "metadata": {
        "colab": {
          "base_uri": "https://localhost:8080/"
        },
        "id": "kWomPGBatn-u",
        "outputId": "53834ac6-7398-4372-8bf5-7e3d2856c92e"
      },
      "execution_count": 86,
      "outputs": [
        {
          "output_type": "stream",
          "name": "stdout",
          "text": [
            "Accuracy of the model on the test images: 99.54 %\n",
            "Confusion Matrix:\n",
            "[[ 977    0    0    0    0    0    2    1    0    0]\n",
            " [   0 1134    0    1    0    0    0    0    0    0]\n",
            " [   0    0 1028    0    0    0    0    3    1    0]\n",
            " [   0    0    0 1008    0    2    0    0    0    0]\n",
            " [   0    0    0    0  979    0    0    0    0    3]\n",
            " [   1    0    0    5    0  884    1    0    0    1]\n",
            " [   2    2    0    1    0    0  951    0    2    0]\n",
            " [   0    3    1    0    0    0    0 1022    0    2]\n",
            " [   0    1    0    1    0    1    0    0  971    0]\n",
            " [   0    0    0    2    5    0    0    2    0 1000]]\n",
            "Accuracy of class 0: 99.69%\n",
            "Accuracy of class 1: 99.91%\n",
            "Accuracy of class 2: 99.61%\n",
            "Accuracy of class 3: 99.80%\n",
            "Accuracy of class 4: 99.69%\n",
            "Accuracy of class 5: 99.10%\n",
            "Accuracy of class 6: 99.27%\n",
            "Accuracy of class 7: 99.42%\n",
            "Accuracy of class 8: 99.69%\n",
            "Accuracy of class 9: 99.11%\n"
          ]
        }
      ]
    },
    {
      "cell_type": "code",
      "source": [],
      "metadata": {
        "id": "KJAvcAKEtzA8"
      },
      "execution_count": null,
      "outputs": []
    }
  ]
}