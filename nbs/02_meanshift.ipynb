{
  "cells": [
    {
      "cell_type": "markdown",
      "metadata": {
        "id": "KfuXBRq2Ia1w"
      },
      "source": [
        "# Clustering"
      ]
    },
    {
      "cell_type": "markdown",
      "metadata": {
        "id": "jsxeT4orIa1x"
      },
      "source": [
        "Clustering techniques are unsupervised learning algorithms that try to group unlabelled data into \"clusters\", using the (typically spatial) structure of the data itself. It has many [applications](https://en.wikipedia.org/wiki/Cluster_analysis#Applications).\n",
        "\n",
        "The easiest way to demonstrate how clustering works is to simply generate some data and show them in action. We'll start off by importing the libraries we'll be using today."
      ]
    },
    {
      "cell_type": "code",
      "execution_count": 1,
      "metadata": {
        "id": "k0ifiuPfIa1x"
      },
      "outputs": [],
      "source": [
        "import math, matplotlib.pyplot as plt, operator, torch3\n",
        "from functools import partial"
      ]
    },
    {
      "cell_type": "code",
      "execution_count": 2,
      "metadata": {
        "id": "tTzaCgkpIa1y"
      },
      "outputs": [],
      "source": [
        "\n",
        "torch.manual_seed(42)\n",
        "torch.set_printoptions(precision=3, linewidth=140, sci_mode=False)"
      ]
    },
    {
      "cell_type": "markdown",
      "metadata": {
        "id": "4wpBhyhOIa1y"
      },
      "source": [
        "## Create data"
      ]
    },
    {
      "cell_type": "code",
      "execution_count": 3,
      "metadata": {
        "id": "f9nsghb_Ia1y"
      },
      "outputs": [],
      "source": [
        "n_clusters=6\n",
        "n_samples =250"
      ]
    },
    {
      "cell_type": "markdown",
      "metadata": {
        "id": "j2f58OV7Ia1y"
      },
      "source": [
        "To generate our data, we're going to pick 6 random points, which we'll call centroids, and for each point we're going to generate 250 random points about it."
      ]
    },
    {
      "cell_type": "code",
      "execution_count": 4,
      "metadata": {
        "id": "mwWxVJGYIa1y"
      },
      "outputs": [],
      "source": [
        "centroids = torch.rand(n_clusters, 2)*70-35"
      ]
    },
    {
      "cell_type": "code",
      "execution_count": 5,
      "metadata": {
        "id": "PO1ODN9tIa1y"
      },
      "outputs": [],
      "source": [
        "from torch.distributions.multivariate_normal import MultivariateNormal\n",
        "from torch import tensor"
      ]
    },
    {
      "cell_type": "code",
      "execution_count": 6,
      "metadata": {
        "id": "D_Fd81QIIa1y"
      },
      "outputs": [],
      "source": [
        "def sample(m): return MultivariateNormal(m, torch.diag(tensor([5.,5.]))).sample((n_samples,))"
      ]
    },
    {
      "cell_type": "code",
      "execution_count": 8,
      "metadata": {
        "id": "GJIvcGwYIa1z",
        "outputId": "6571bc3e-2db6-493b-8201-4178b222d15b",
        "colab": {
          "base_uri": "https://localhost:8080/"
        }
      },
      "outputs": [
        {
          "output_type": "execute_result",
          "data": {
            "text/plain": [
              "torch.Size([1500, 2])"
            ]
          },
          "metadata": {},
          "execution_count": 8
        }
      ],
      "source": [
        "slices = [sample(c) for c in centroids]\n",
        "data = torch.cat(slices)\n",
        "data.shape"
      ]
    },
    {
      "cell_type": "markdown",
      "metadata": {
        "id": "oVSpp1m7Ia1z"
      },
      "source": [
        "Below we can see each centroid marked w/ X, and the coloring associated to each respective cluster."
      ]
    },
    {
      "cell_type": "code",
      "execution_count": 9,
      "metadata": {
        "id": "hvzR0RJMIa1z"
      },
      "outputs": [],
      "source": [
        "def plot_data(centroids, data, n_samples, ax=None):\n",
        "    if ax is None: _,ax = plt.subplots()\n",
        "    for i, centroid in enumerate(centroids):\n",
        "        samples = data[i*n_samples:(i+1)*n_samples]\n",
        "        ax.scatter(samples[:,0], samples[:,1], s=1)\n",
        "        ax.plot(*centroid, markersize=10, marker=\"x\", color='k', mew=5)\n",
        "        ax.plot(*centroid, markersize=5, marker=\"x\", color='m', mew=2)"
      ]
    },
    {
      "cell_type": "code",
      "execution_count": 10,
      "metadata": {
        "id": "8-d5kg7NIa1z",
        "outputId": "cb152166-1ef4-458a-b0d2-887f1b31624c",
        "colab": {
          "base_uri": "https://localhost:8080/",
          "height": 430
        }
      },
      "outputs": [
        {
          "output_type": "display_data",
          "data": {
            "text/plain": [
              "<Figure size 640x480 with 1 Axes>"
            ],
            "image/png": "[encoded data removed]"
          },
          "metadata": {}
        }
      ],
      "source": [
        "plot_data(centroids, data, n_samples)"
      ]
    },
    {
      "cell_type": "markdown",
      "metadata": {
        "id": "eP2eVR8HIa1z"
      },
      "source": [
        "## Mean shift"
      ]
    },
    {
      "cell_type": "markdown",
      "metadata": {
        "id": "iZA3_xVzIa1z"
      },
      "source": [
        "Most people that have come across clustering algorithms have learnt about **k-means**. Mean shift clustering is a newer and less well-known approach, but it has some important advantages:\n",
        "* It doesn't require selecting the number of clusters in advance, but instead just requires a **bandwidth** to be specified, which can be easily chosen automatically\n",
        "* It can handle clusters of any shape, whereas k-means (without using special extensions) requires that clusters be roughly ball shaped."
      ]
    },
    {
      "cell_type": "markdown",
      "metadata": {
        "id": "t9wK_HPzIa1z"
      },
      "source": [
        "The algorithm is as follows:\n",
        "* For each data point x in the sample X, find the distance between that point x and every other point in X\n",
        "* Create weights for each point in X by using the **Gaussian kernel** of that point's distance to x\n",
        "    * This weighting approach penalizes points further away from x\n",
        "    * The rate at which the weights fall to zero is determined by the **bandwidth**, which is the standard deviation of the Gaussian\n",
        "* Update x as the weighted average of all other points in X, weighted based on the previous step\n",
        "\n",
        "This will iteratively push points that are close together even closer until they are next to each other."
      ]
    },
    {
      "cell_type": "code",
      "execution_count": 11,
      "metadata": {
        "id": "u1SzXCAoIa1z",
        "outputId": "128a0896-97a2-4536-8931-571c4b38e8e3",
        "colab": {
          "base_uri": "https://localhost:8080/"
        }
      },
      "outputs": [
        {
          "output_type": "execute_result",
          "data": {
            "text/plain": [
              "tensor([ 9.235, 11.651])"
            ]
          },
          "metadata": {},
          "execution_count": 11
        }
      ],
      "source": [
        "midp = data.mean(0)\n",
        "midp"
      ]
    },
    {
      "cell_type": "code",
      "execution_count": 12,
      "metadata": {
        "id": "dKibTBPuIa10",
        "outputId": "27c795ec-41bb-4689-9ff1-c0cb5a757582",
        "colab": {
          "base_uri": "https://localhost:8080/",
          "height": 430
        }
      },
      "outputs": [
        {
          "output_type": "display_data",
          "data": {
            "text/plain": [
              "<Figure size 640x480 with 1 Axes>"
            ],
            "image/png": "[encoded data removed]"
          },
          "metadata": {}
        }
      ],
      "source": [
        "plot_data([midp]*6, data, n_samples)"
      ]
    },
    {
      "cell_type": "markdown",
      "metadata": {
        "id": "QcFzhT8cIa10"
      },
      "source": [
        "So here's the definition of the gaussian kernel, which you may remember from high school...\n",
        " This person at the science march certainly remembered!\n",
        "\n",
        "<img src=\"http://i.imgur.com/nijQLHw.jpg\" width=400>"
      ]
    },
    {
      "cell_type": "code",
      "execution_count": 13,
      "metadata": {
        "id": "L_mnHu-0Ia10"
      },
      "outputs": [],
      "source": [
        "def gaussian(d, bw): return torch.exp(-0.5*((d/bw))**2) / (bw*math.sqrt(2*math.pi))"
      ]
    },
    {
      "cell_type": "code",
      "execution_count": 14,
      "metadata": {
        "id": "AdF_vwMuIa10"
      },
      "outputs": [],
      "source": [
        "def plot_func(f):\n",
        "    x = torch.linspace(0,10,100)\n",
        "    plt.plot(x, f(x))"
      ]
    },
    {
      "cell_type": "code",
      "execution_count": 15,
      "metadata": {
        "id": "rt4zOXN8Ia10",
        "outputId": "3e3f1751-611f-4edf-aab2-bbbc858c66e8",
        "colab": {
          "base_uri": "https://localhost:8080/",
          "height": 430
        }
      },
      "outputs": [
        {
          "output_type": "display_data",
          "data": {
            "text/plain": [
              "<Figure size 640x480 with 1 Axes>"
            ],
            "image/png": "[encoded data removed]"
          },
          "metadata": {}
        }
      ],
      "source": [
        "plot_func(partial(gaussian, bw=2.5))"
      ]
    },
    {
      "cell_type": "code",
      "execution_count": 16,
      "metadata": {
        "id": "luTo7fYKIa10",
        "outputId": "09f7efbc-a54e-49c8-afb6-d4a31558ffd5",
        "colab": {
          "base_uri": "https://localhost:8080/"
        }
      },
      "outputs": [
        {
          "output_type": "execute_result",
          "data": {
            "text/plain": [
              "functools.partial"
            ]
          },
          "metadata": {},
          "execution_count": 16
        }
      ],
      "source": [
        "partial"
      ]
    },
    {
      "cell_type": "markdown",
      "metadata": {
        "id": "yqEF6WqaIa10"
      },
      "source": [
        "In our implementation, we choose the bandwidth to be 2.5.\n",
        "\n",
        "One easy way to choose bandwidth is to find which bandwidth covers one third of the data."
      ]
    },
    {
      "cell_type": "code",
      "execution_count": 17,
      "metadata": {
        "id": "w-kSNPD2Ia10"
      },
      "outputs": [],
      "source": [
        "def tri(d, i): return (-d+i).clamp_min(0)/i"
      ]
    },
    {
      "cell_type": "code",
      "execution_count": 18,
      "metadata": {
        "id": "vDR-pKxeIa10",
        "outputId": "931c6da5-a0d0-4b91-fac1-542f42eb16b7",
        "colab": {
          "base_uri": "https://localhost:8080/",
          "height": 430
        }
      },
      "outputs": [
        {
          "output_type": "display_data",
          "data": {
            "text/plain": [
              "<Figure size 640x480 with 1 Axes>"
            ],
            "image/png": "[encoded data removed]"
          },
          "metadata": {}
        }
      ],
      "source": [
        "plot_func(partial(tri, i=8))"
      ]
    },
    {
      "cell_type": "code",
      "execution_count": 19,
      "metadata": {
        "id": "idaCN96OIa10"
      },
      "outputs": [],
      "source": [
        "X = data.clone()\n",
        "x = data[0]"
      ]
    },
    {
      "cell_type": "code",
      "execution_count": 20,
      "metadata": {
        "id": "hiXb5FscIa10",
        "outputId": "6b1ca268-47c3-4514-9ad5-609cbd8e209d",
        "colab": {
          "base_uri": "https://localhost:8080/"
        }
      },
      "outputs": [
        {
          "output_type": "execute_result",
          "data": {
            "text/plain": [
              "tensor([28.975, 30.296])"
            ]
          },
          "metadata": {},
          "execution_count": 20
        }
      ],
      "source": [
        "x"
      ]
    },
    {
      "cell_type": "code",
      "execution_count": 21,
      "metadata": {
        "id": "OZtYLYWIIa10",
        "outputId": "83b30b0e-104f-4a20-c1d0-9fd30aa10a91",
        "colab": {
          "base_uri": "https://localhost:8080/"
        }
      },
      "outputs": [
        {
          "output_type": "execute_result",
          "data": {
            "text/plain": [
              "(torch.Size([2]), torch.Size([1500, 2]), torch.Size([1, 2]))"
            ]
          },
          "metadata": {},
          "execution_count": 21
        }
      ],
      "source": [
        "x.shape,X.shape,x[None].shape"
      ]
    },
    {
      "cell_type": "code",
      "execution_count": 22,
      "metadata": {
        "id": "fVJXI8swIa10",
        "outputId": "a12fda4b-6ae7-4b3d-8cbd-0f2098e78a64",
        "colab": {
          "base_uri": "https://localhost:8080/"
        }
      },
      "outputs": [
        {
          "output_type": "execute_result",
          "data": {
            "text/plain": [
              "tensor([[ 0.000,  0.000],\n",
              "        [ 3.733, -0.919],\n",
              "        [ 4.491,  4.927],\n",
              "        [ 3.239,  3.227],\n",
              "        [ 2.154,  2.058],\n",
              "        [ 1.199, -0.452],\n",
              "        [ 1.869,  1.225],\n",
              "        [ 3.434,  0.535]])"
            ]
          },
          "metadata": {},
          "execution_count": 22
        }
      ],
      "source": [
        "(x[None]-X)[:8]"
      ]
    },
    {
      "cell_type": "code",
      "execution_count": 23,
      "metadata": {
        "id": "DRx2YXdaIa10",
        "outputId": "5156ab6c-a89b-48f4-8df8-e95a9df65dfe",
        "colab": {
          "base_uri": "https://localhost:8080/"
        }
      },
      "outputs": [
        {
          "output_type": "execute_result",
          "data": {
            "text/plain": [
              "tensor([[ 0.000,  0.000],\n",
              "        [ 3.733, -0.919],\n",
              "        [ 4.491,  4.927],\n",
              "        [ 3.239,  3.227],\n",
              "        [ 2.154,  2.058],\n",
              "        [ 1.199, -0.452],\n",
              "        [ 1.869,  1.225],\n",
              "        [ 3.434,  0.535]])"
            ]
          },
          "metadata": {},
          "execution_count": 23
        }
      ],
      "source": [
        "(x-X)[:8]"
      ]
    },
    {
      "cell_type": "code",
      "execution_count": 24,
      "metadata": {
        "id": "aYb2dALXIa10",
        "outputId": "02fa3e0d-ec2a-42f7-c636-e6e59effaad4",
        "colab": {
          "base_uri": "https://localhost:8080/"
        }
      },
      "outputs": [
        {
          "output_type": "execute_result",
          "data": {
            "text/plain": [
              "tensor([0.000, 3.844, 6.667, 4.572, 2.979, 1.281, 2.235, 3.476])"
            ]
          },
          "metadata": {},
          "execution_count": 24
        }
      ],
      "source": [
        "# rewrite using torch.einsum\n",
        "dist = ((x-X)**2).sum(1).sqrt()\n",
        "dist[:8]"
      ]
    },
    {
      "cell_type": "code",
      "execution_count": 25,
      "metadata": {
        "id": "DpPW8mLVIa10",
        "outputId": "368105c1-eec0-482d-a121-794350d752be",
        "colab": {
          "base_uri": "https://localhost:8080/"
        }
      },
      "outputs": [
        {
          "output_type": "execute_result",
          "data": {
            "text/plain": [
              "tensor([    0.160,     0.049,     0.005,  ...,     0.000,     0.000,     0.000])"
            ]
          },
          "metadata": {},
          "execution_count": 25
        }
      ],
      "source": [
        "weight = gaussian(dist, 2.5)\n",
        "weight"
      ]
    },
    {
      "cell_type": "code",
      "execution_count": 26,
      "metadata": {
        "id": "G46JM3j3Ia11",
        "outputId": "4fb4451e-990e-4300-d073-aa66a2a321a7",
        "colab": {
          "base_uri": "https://localhost:8080/"
        }
      },
      "outputs": [
        {
          "output_type": "execute_result",
          "data": {
            "text/plain": [
              "(torch.Size([1500]), torch.Size([1500, 2]))"
            ]
          },
          "metadata": {},
          "execution_count": 26
        }
      ],
      "source": [
        "weight.shape,X.shape"
      ]
    },
    {
      "cell_type": "code",
      "execution_count": 27,
      "metadata": {
        "id": "tBVqxXwjIa11",
        "outputId": "e81b0031-5675-47cb-ae27-ae901a453b7e",
        "colab": {
          "base_uri": "https://localhost:8080/"
        }
      },
      "outputs": [
        {
          "output_type": "execute_result",
          "data": {
            "text/plain": [
              "torch.Size([1500, 1])"
            ]
          },
          "metadata": {},
          "execution_count": 27
        }
      ],
      "source": [
        "weight[:,None].shape"
      ]
    },
    {
      "cell_type": "code",
      "execution_count": 28,
      "metadata": {
        "id": "t4pjiCzTIa11",
        "outputId": "e48dfe24-3c48-47fb-bcf1-fc923fe81653",
        "colab": {
          "base_uri": "https://localhost:8080/"
        }
      },
      "outputs": [
        {
          "output_type": "execute_result",
          "data": {
            "text/plain": [
              "tensor([[    4.624,     4.835],\n",
              "        [    1.235,     1.527],\n",
              "        [    0.112,     0.116],\n",
              "        ...,\n",
              "        [    0.000,     0.000],\n",
              "        [    0.000,     0.000],\n",
              "        [    0.000,     0.000]])"
            ]
          },
          "metadata": {},
          "execution_count": 28
        }
      ],
      "source": [
        "weight[:,None]*X"
      ]
    },
    {
      "cell_type": "code",
      "execution_count": 29,
      "metadata": {
        "id": "YUP703J2Ia11"
      },
      "outputs": [],
      "source": [
        "def one_update(X):\n",
        "    for i, x in enumerate(X):\n",
        "        dist = torch.sqrt(((x-X)**2).sum(1))\n",
        "#         weight = gaussian(dist, 2.5)\n",
        "        weight = tri(dist, 8)\n",
        "        X[i] = (weight[:,None]*X).sum(0)/weight.sum()"
      ]
    },
    {
      "cell_type": "code",
      "execution_count": 30,
      "metadata": {
        "id": "kTuAaWWCIa11"
      },
      "outputs": [],
      "source": [
        "def meanshift(data):\n",
        "    X = data.clone()\n",
        "    for it in range(5): one_update(X)\n",
        "    return X"
      ]
    },
    {
      "cell_type": "code",
      "execution_count": 31,
      "metadata": {
        "id": "If5XXRapIa14",
        "outputId": "361cb5a5-f82e-491e-a039-4b062c675110",
        "colab": {
          "base_uri": "https://localhost:8080/"
        }
      },
      "outputs": [
        {
          "output_type": "stream",
          "name": "stdout",
          "text": [
            "CPU times: user 1.39 s, sys: 6.65 ms, total: 1.4 s\n",
            "Wall time: 1.48 s\n"
          ]
        }
      ],
      "source": [
        "%time X=meanshift(data)"
      ]
    },
    {
      "cell_type": "code",
      "execution_count": 32,
      "metadata": {
        "id": "0q6E4-jcIa15",
        "outputId": "0e1a24aa-cb38-4a2e-a680-66cc4e7292c8",
        "colab": {
          "base_uri": "https://localhost:8080/",
          "height": 430
        }
      },
      "outputs": [
        {
          "output_type": "display_data",
          "data": {
            "text/plain": [
              "<Figure size 640x480 with 1 Axes>"
            ],
            "image/png": "[encoded data removed]"
          },
          "metadata": {}
        }
      ],
      "source": [
        "plot_data(centroids+2, X, n_samples)"
      ]
    },
    {
      "cell_type": "markdown",
      "metadata": {
        "id": "WlSrYf4hIa15"
      },
      "source": [
        "## Animation"
      ]
    },
    {
      "cell_type": "code",
      "execution_count": 33,
      "metadata": {
        "id": "_PJAmDTHIa15"
      },
      "outputs": [],
      "source": [
        "from matplotlib.animation import FuncAnimation\n",
        "from IPython.display import HTML"
      ]
    },
    {
      "cell_type": "code",
      "execution_count": 34,
      "metadata": {
        "id": "GNdwntY0Ia15"
      },
      "outputs": [],
      "source": [
        "def do_one(d):\n",
        "    if d: one_update(X)\n",
        "    ax.clear()\n",
        "    plot_data(centroids+2, X, n_samples, ax=ax)"
      ]
    },
    {
      "cell_type": "code",
      "execution_count": 35,
      "metadata": {
        "id": "u5vhvlhbIa15",
        "outputId": "7f46c537-8ff2-4999-e170-0143adf080a5",
        "colab": {
          "base_uri": "https://localhost:8080/",
          "height": 578
        }
      },
      "outputs": [
        {
          "output_type": "execute_result",
          "data": {
            "text/plain": [
              "<IPython.core.display.HTML object>"
            ],
            "text/html": [
              "\n",
              "<link rel=\"stylesheet\"\n",
              "href=\"https://maxcdn.bootstrapcdn.com/font-awesome/4.4.0/css/font-awesome.min.css\">\n",
              "<script language=\"javascript\">\n",
              "  function isInternetExplorer() {\n",
              "    ua = navigator.userAgent;\n",
              "    /* MSIE used to detect old browsers and Trident used to newer ones*/\n",
              "    return ua.indexOf(\"MSIE \") > -1 || ua.indexOf(\"Trident/\") > -1;\n",
              "  }\n",
              "\n",
              "  /* Define the Animation class */\n",
              "  function Animation(frames, img_id, slider_id, interval, loop_select_id){\n",
              "    this.img_id = img_id;\n",
              "    this.slider_id = slider_id;\n",
              "    this.loop_select_id = loop_select_id;\n",
              "    this.interval = interval;\n",
              "    this.current_frame = 0;\n",
              "    this.direction = 0;\n",
              "    this.timer = null;\n",
              "    this.frames = new Array(frames.length);\n",
              "\n",
              "    for (var i=0; i<frames.length; i++)\n",
              "    {\n",
              "     this.frames[i] = new Image();\n",
              "     this.frames[i].src = frames[i];\n",
              "    }\n",
              "    var slider = document.getElementById(this.slider_id);\n",
              "    slider.max = this.frames.length - 1;\n",
              "    if (isInternetExplorer()) {\n",
              "        // switch from oninput to onchange because IE <= 11 does not conform\n",
              "        // with W3C specification. It ignores oninput and onchange behaves\n",
              "        // like oninput. In contrast, Microsoft Edge behaves correctly.\n",
              "        slider.setAttribute('onchange', slider.getAttribute('oninput'));\n",
              "        slider.setAttribute('oninput', null);\n",
              "    }\n",
              "    this.set_frame(this.current_frame);\n",
              "  }\n",
              "\n",
              "  Animation.prototype.get_loop_state = function(){\n",
              "    var button_group = document[this.loop_select_id].state;\n",
              "    for (var i = 0; i < button_group.length; i++) {\n",
              "        var button = button_group[i];\n",
              "        if (button.checked) {\n",
              "            return button.value;\n",
              "        }\n",
              "    }\n",
              "    return undefined;\n",
              "  }\n",
              "\n",
              "  Animation.prototype.set_frame = function(frame){\n",
              "    this.current_frame = frame;\n",
              "    document.getElementById(this.img_id).src =\n",
              "            this.frames[this.current_frame].src;\n",
              "    document.getElementById(this.slider_id).value = this.current_frame;\n",
              "  }\n",
              "\n",
              "  Animation.prototype.next_frame = function()\n",
              "  {\n",
              "    this.set_frame(Math.min(this.frames.length - 1, this.current_frame + 1));\n",
              "  }\n",
              "\n",
              "  Animation.prototype.previous_frame = function()\n",
              "  {\n",
              "    this.set_frame(Math.max(0, this.current_frame - 1));\n",
              "  }\n",
              "\n",
              "  Animation.prototype.first_frame = function()\n",
              "  {\n",
              "    this.set_frame(0);\n",
              "  }\n",
              "\n",
              "  Animation.prototype.last_frame = function()\n",
              "  {\n",
              "    this.set_frame(this.frames.length - 1);\n",
              "  }\n",
              "\n",
              "  Animation.prototype.slower = function()\n",
              "  {\n",
              "    this.interval /= 0.7;\n",
              "    if(this.direction > 0){this.play_animation();}\n",
              "    else if(this.direction < 0){this.reverse_animation();}\n",
              "  }\n",
              "\n",
              "  Animation.prototype.faster = function()\n",
              "  {\n",
              "    this.interval *= 0.7;\n",
              "    if(this.direction > 0){this.play_animation();}\n",
              "    else if(this.direction < 0){this.reverse_animation();}\n",
              "  }\n",
              "\n",
              "  Animation.prototype.anim_step_forward = function()\n",
              "  {\n",
              "    this.current_frame += 1;\n",
              "    if(this.current_frame < this.frames.length){\n",
              "      this.set_frame(this.current_frame);\n",
              "    }else{\n",
              "      var loop_state = this.get_loop_state();\n",
              "      if(loop_state == \"loop\"){\n",
              "        this.first_frame();\n",
              "      }else if(loop_state == \"reflect\"){\n",
              "        this.last_frame();\n",
              "        this.reverse_animation();\n",
              "      }else{\n",
              "        this.pause_animation();\n",
              "        this.last_frame();\n",
              "      }\n",
              "    }\n",
              "  }\n",
              "\n",
              "  Animation.prototype.anim_step_reverse = function()\n",
              "  {\n",
              "    this.current_frame -= 1;\n",
              "    if(this.current_frame >= 0){\n",
              "      this.set_frame(this.current_frame);\n",
              "    }else{\n",
              "      var loop_state = this.get_loop_state();\n",
              "      if(loop_state == \"loop\"){\n",
              "        this.last_frame();\n",
              "      }else if(loop_state == \"reflect\"){\n",
              "        this.first_frame();\n",
              "        this.play_animation();\n",
              "      }else{\n",
              "        this.pause_animation();\n",
              "        this.first_frame();\n",
              "      }\n",
              "    }\n",
              "  }\n",
              "\n",
              "  Animation.prototype.pause_animation = function()\n",
              "  {\n",
              "    this.direction = 0;\n",
              "    if (this.timer){\n",
              "      clearInterval(this.timer);\n",
              "      this.timer = null;\n",
              "    }\n",
              "  }\n",
              "\n",
              "  Animation.prototype.play_animation = function()\n",
              "  {\n",
              "    this.pause_animation();\n",
              "    this.direction = 1;\n",
              "    var t = this;\n",
              "    if (!this.timer) this.timer = setInterval(function() {\n",
              "        t.anim_step_forward();\n",
              "    }, this.interval);\n",
              "  }\n",
              "\n",
              "  Animation.prototype.reverse_animation = function()\n",
              "  {\n",
              "    this.pause_animation();\n",
              "    this.direction = -1;\n",
              "    var t = this;\n",
              "    if (!this.timer) this.timer = setInterval(function() {\n",
              "        t.anim_step_reverse();\n",
              "    }, this.interval);\n",
              "  }\n",
              "</script>\n",
              "\n",
              "<style>\n",
              ".animation {\n",
              "    display: inline-block;\n",
              "    text-align: center;\n",
              "}\n",
              "input[type=range].anim-slider {\n",
              "    width: 374px;\n",
              "    margin-left: auto;\n",
              "    margin-right: auto;\n",
              "}\n",
              ".anim-buttons {\n",
              "    margin: 8px 0px;\n",
              "}\n",
              ".anim-buttons button {\n",
              "    padding: 0;\n",
              "    width: 36px;\n",
              "}\n",
              ".anim-state label {\n",
              "    margin-right: 8px;\n",
              "}\n",
              ".anim-state input {\n",
              "    margin: 0;\n",
              "    vertical-align: middle;\n",
              "}\n",
              "</style>\n",
              "\n",
              "<div class=\"animation\">\n",
              "  <img id=\"_anim_img6b230a57ba6e4be99903922cf858319a\">\n",
              "  <div class=\"anim-controls\">\n",
              "    <input id=\"_anim_slider6b230a57ba6e4be99903922cf858319a\" type=\"range\" class=\"anim-slider\"\n",
              "           name=\"points\" min=\"0\" max=\"1\" step=\"1\" value=\"0\"\n",
              "           oninput=\"anim6b230a57ba6e4be99903922cf858319a.set_frame(parseInt(this.value));\">\n",
              "    <div class=\"anim-buttons\">\n",
              "      <button title=\"Decrease speed\" aria-label=\"Decrease speed\" onclick=\"anim6b230a57ba6e4be99903922cf858319a.slower()\">\n",
              "          <i class=\"fa fa-minus\"></i></button>\n",
              "      <button title=\"First frame\" aria-label=\"First frame\" onclick=\"anim6b230a57ba6e4be99903922cf858319a.first_frame()\">\n",
              "        <i class=\"fa fa-fast-backward\"></i></button>\n",
              "      <button title=\"Previous frame\" aria-label=\"Previous frame\" onclick=\"anim6b230a57ba6e4be99903922cf858319a.previous_frame()\">\n",
              "          <i class=\"fa fa-step-backward\"></i></button>\n",
              "      <button title=\"Play backwards\" aria-label=\"Play backwards\" onclick=\"anim6b230a57ba6e4be99903922cf858319a.reverse_animation()\">\n",
              "          <i class=\"fa fa-play fa-flip-horizontal\"></i></button>\n",
              "      <button title=\"Pause\" aria-label=\"Pause\" onclick=\"anim6b230a57ba6e4be99903922cf858319a.pause_animation()\">\n",
              "          <i class=\"fa fa-pause\"></i></button>\n",
              "      <button title=\"Play\" aria-label=\"Play\" onclick=\"anim6b230a57ba6e4be99903922cf858319a.play_animation()\">\n",
              "          <i class=\"fa fa-play\"></i></button>\n",
              "      <button title=\"Next frame\" aria-label=\"Next frame\" onclick=\"anim6b230a57ba6e4be99903922cf858319a.next_frame()\">\n",
              "          <i class=\"fa fa-step-forward\"></i></button>\n",
              "      <button title=\"Last frame\" aria-label=\"Last frame\" onclick=\"anim6b230a57ba6e4be99903922cf858319a.last_frame()\">\n",
              "          <i class=\"fa fa-fast-forward\"></i></button>\n",
              "      <button title=\"Increase speed\" aria-label=\"Increase speed\" onclick=\"anim6b230a57ba6e4be99903922cf858319a.faster()\">\n",
              "          <i class=\"fa fa-plus\"></i></button>\n",
              "    </div>\n",
              "    <form title=\"Repetition mode\" aria-label=\"Repetition mode\" action=\"#n\" name=\"_anim_loop_select6b230a57ba6e4be99903922cf858319a\"\n",
              "          class=\"anim-state\">\n",
              "      <input type=\"radio\" name=\"state\" value=\"once\" id=\"_anim_radio1_6b230a57ba6e4be99903922cf858319a\"\n",
              "             checked>\n",
              "      <label for=\"_anim_radio1_6b230a57ba6e4be99903922cf858319a\">Once</label>\n",
              "      <input type=\"radio\" name=\"state\" value=\"loop\" id=\"_anim_radio2_6b230a57ba6e4be99903922cf858319a\"\n",
              "             >\n",
              "      <label for=\"_anim_radio2_6b230a57ba6e4be99903922cf858319a\">Loop</label>\n",
              "      <input type=\"radio\" name=\"state\" value=\"reflect\" id=\"_anim_radio3_6b230a57ba6e4be99903922cf858319a\"\n",
              "             >\n",
              "      <label for=\"_anim_radio3_6b230a57ba6e4be99903922cf858319a\">Reflect</label>\n",
              "    </form>\n",
              "  </div>\n",
              "</div>\n",
              "\n",
              "\n",
              "<script language=\"javascript\">\n",
              "  /* Instantiate the Animation class. */\n",
              "  /* The IDs given should match those used in the template above. */\n",
              "  (function() {\n",
              "    var img_id = \"_anim_img6b230a57ba6e4be99903922cf858319a\";\n",
              "    var slider_id = \"_anim_slider6b230a57ba6e4be99903922cf858319a\";\n",
              "    var loop_select_id = \"_anim_loop_select6b230a57ba6e4be99903922cf858319a\";\n",
              "    var frames = new Array(5);\n",
              "    \n",
              "  frames[0] = \"data:image/png;base64,iVBORw0KGgoAAAANSUhEUgAAAoAAAAHgCAYAAAA10dzkAAAAOnRFWHRTb2Z0d2FyZQBNYXRwbG90\\\n",
              "bGliIHZlcnNpb24zLjEwLjAsIGh0dHBzOi8vbWF0cGxvdGxpYi5vcmcvlHJYcgAAAAlwSFlzAAAP\\\n",
              "YQAAD2EBqD+naQAAashJREFUeJzt3Xt8U/X9P/BX0kvSC00LlJZiuYhawIoWplDtmAICyi6doqub\\\n",
              "AgrqsAVB5oCvImXKQHCi0Io4mLjvJhXcZHMog4HADwRELEIR+lXGTUoLCiSl0PSS8/sjfE7Pya1J\\\n",
              "kzZNzuv5ePQhSU7O+TSP2vPq+3PTSZIkgYiIiIg0Qx/sBhARERFR22IAJCIiItIYBkAiIiIijWEA\\\n",
              "JCIiItIYBkAiIiIijWEAJCIiItIYBkAiIiIijWEAJCIiItIYBkAiIiIijWEAJCIiItIYBkAiIiIi\\\n",
              "jWEAJCIiItIYBkAiIiIijWEAJCIiItIYBkAiIiIijWEAJCIiItIYBkAiIiIijWEAJCIiItIYBkAi\\\n",
              "IiIijWEAJCIiItIYBkAiIiIijWEAJCIiItIYBkAiIiIijWEAJCIiItIYBkAiIiIijWEAJCIiItIY\\\n",
              "BkAiIiIijWEAJCIiItIYBkAiIiIijWEAJCIiItIYBkAiIiIijWEAJCIiItIYBkAiIiIijWEAJCIi\\\n",
              "ItIYBkAiIiIijWEAJCIiItIYBkAiIiIijWEAJCIiItIYBkAiIiIijWEAJCIiItIYBkAiIiIijWEA\\\n",
              "JCIiItIYBkAiIiIijWEAJCIiItIYBkAiIiIijWEAJCIiItIYBkAiIiIijWEAJCIiItIYBkAiIiIi\\\n",
              "jWEAJCIiItIYBkAiIiIijWEAJCIiItIYBkAiIiIijWEAJCIiItIYBkAiIiIijWEAJCIiItKYyGA3\\\n",
              "IJTZbDZUVFSgQ4cO0Ol0wW4OEREReUGSJFRXVyMtLQ16vTZrYQyAfqioqEB6enqwm0FEREQtcOrU\\\n",
              "KVxzzTXBbkZQaCIALliwALNmzcLTTz+N1157DQBQW1uL6dOno6SkBFarFSNHjsQbb7yBlJQUr8/b\\\n",
              "oUMHAPYfoISEhNZoOhEREQWYxWJBenq6fB/XorAPgHv37sXy5cvRv39/1fPTpk3D+vXrsXbtWphM\\\n",
              "JhQUFOC+++7Dzp07vT636PZNSEhgACQiIgoxWh6+FdYd35cuXcKvfvUr/PGPf0RSUpL8vNlsxsqV\\\n",
              "K/Hqq69i6NChGDhwIN5++218+umn2L17dxBbTERERNT6wjoA5ufnY/To0Rg+fLjq+X379qG+vl71\\\n",
              "fJ8+fdC9e3fs2rXL7fmsVissFovqi4iIiCjUhG0XcElJCb744gvs3bvX6bXKykpER0cjMTFR9XxK\\\n",
              "SgoqKyvdnnP+/PmYO3duoJtKRERE1KbCsgJ46tQpPP300/jrX/8Ko9EYsPPOmjULZrNZ/jp16lTA\\\n",
              "zk1ERETUVsIyAO7btw9nz57FgAEDEBkZicjISGzbtg1LlixBZGQkUlJSUFdXh4sXL6reV1VVhdTU\\\n",
              "VLfnNRgM8oQPTvwgIiKiUBWWXcDDhg3DwYMHVc89+uij6NOnD2bMmIH09HRERUVh8+bNuP/++wEA\\\n",
              "5eXlOHnyJLKzs4PRZCIiIqI2E5YBsEOHDsjMzFQ9FxcXh06dOsnPT5gwAc888ww6duyIhIQETJ48\\\n",
              "GdnZ2Rg8eHAwmkxERETUZsIyAHpj8eLF0Ov1uP/++1ULQRMRERGFO50kSVKwGxGqLBYLTCYTzGYz\\\n",
              "xwMSERGFCN6/w3QSCBERERG5xwBIREREpDEMgEREREQawwBI5I29K4HFmfb/EhERhTgGQCJv7FgM\\\n",
              "mE/Z/9vaGDaJiKiVMQASeSNnGmBKt/+3tbVl2CQiIk1iACTyxq0TgGll9v8CrVula8uwSUREmsR1\\\n",
              "AP3AdYQ0bHGmvUpnSrcHQyIiChm8f7MCSNQyjlW61h63x3GBREQUQKwA+oF/QZCstSuCrDgSEQUM\\\n",
              "79+sABIFhj/j9ryp7nFcIBERBRArgH7gXxDkl70r7TN9rZeA2gvuq3viuJxpTZNQiIioxXj/ZgWQ\\\n",
              "KHg2v2jv1m20NlX3rlYDCx//KYqLi+3HuVkWpri4GIWFhW3fbiIiCnmRwW4AUVjypmqnu/rfSENT\\\n",
              "5W9xJgr/8TXmbjsE4EMAQH7OtKZzXVVcXIyCggL5MYMgERH5ghVAIm+IcXrvT/BuNq6yaudujN/Q\\\n",
              "2UBMEiBBfq3wq2sxd1udfEhBQQGKP6tVrUHoGP7mzp3LAEhERD5hACTyhgh0hz6w/3fLi02hbu9K\\\n",
              "YEFP4OWeTSFPOWnDXRi8dQIQHW8f/7djMQoLCzF3xYdOly4oKJC7gx3Dn+BzCOSyMkQh7S+7T+CO\\\n",
              "BVvwl90ngt0UClGcBOIHDiINQ+66bsXz6YOAo5uBKxcBSPaQB9gDHgDoIoB7F7l/76EPAKmxacLH\\\n",
              "1dcKv7rWZfhT6tu3Lw4fPuzxmDkjklH40vzmJ4t4s6wMJ58QtVt3LNiC0xevoFtiDHbOHBrs5oQc\\\n",
              "3r9ZASRSc7cPr9gKbsxKe9UOkj3s5UyzfxmTAOjs4c7de0/tsb8u3qd4LfmWkW6blIlMAJDDn3js\\\n",
              "SnJEtXd7CHuzrAz3JCZqtybd2RuJMVGosTawCkgtwgBIpCTCXN0l192je1faX4uMBYxX/2q8dQIw\\\n",
              "8zgw+g+eQ5UIXY4VQgD5+fkomjDY6S3jMA5LsRR5yAMA5CEPS7EU4zDO6diie4zIvy3au7UCHfc2\\\n",
              "9tRerj1I1O48PLgH4gyRuHilHsu2Hg12cygEMQASKd06ATDEA1cuuK587Vhsf63Rqj7GsbvUcYyd\\\n",
              "q+5U5TF7VyI/vRxF9xjlS2UiE+MxHgDwJJ7EOqzDk3gSADAe41WVwKIJg5E/KAbIHBO47lpvQiIR\\\n",
              "Bc2kO3ujW2IMJt3ZO9hNoRDEMYB+4BiCMOVp7JtyPN+pPU3HKMfU5UwD1k8HINln+c447nrMnfI5\\\n",
              "wP5vXQSKa+5BwaJ3AdgrfiL0KS3HcpSgBABQdF8q8v92ppU+DCKi8MP7NyuARHaOs3OVlS9Xr41Z\\\n",
              "qT7GcdYvrv5dJf68ctWdKp5LHwTUfA9AB3Ttj/yuX6Jvt0QAQAlKYIZZ1VQzzHL465tiQP7Ml1rl\\\n",
              "IyGi4ONsX2otDIBEgOcJD+5ecxcac6bZK3/GJOC6YfZjAOdQKaqM32wGGi4DkIAzB1C86SgOn74I\\\n",
              "wF4BNMGkuqwJJnlM4OEqq32dQFdtIqI201pBbdnWozh98QrH+VHAMQASAc4VOuXCz9ZL9kDnOBnC\\\n",
              "U2iMjgeGzbZ3E7s6ZsuLTesJih1BoEPxqQwUfGwPdJnIVHX/KiuBT+JJeQygcp1ArxagJqKAa62g\\\n",
              "5m6cHyuD5C8GQCJXlAs/1164uvQL7Is9L+hpD1WuunX3rrSP/zOfsu/16ypYLuhpn0AC2LuIh84G\\\n",
              "TOkovjwaBSt3y6cqQxlWYRUA+5i/XORiOZYDAFZhFcrQtH6fHALdLUBNRC6JIDVldanHQNVc4Gqt\\\n",
              "CRkPD+6BnTOH4uHBPVTPszJI/uIkED9wEGkYcZyk4Wqyx5YXm4KbMck+W9hxoog4DwBERAGzv3N9\\\n",
              "HSFzDNDjdhQveB4Ff6902bRMZKrCnuNjpaKiIuTn59sfcCFnomaJBZUjdECjBLcLK7fGwst/2X0C\\\n",
              "y7YexaQ7ezsFvNZ8L/H+DQCRwW4AUVApgx6gXqDZMTRtfvHqP3T2blvRhasMiumDmgJeY4Pr61gv\\\n",
              "AbUXAUj295zag3Pfn3fbRBH2xE4g7sIfAJw7d67pgavvgYhUJt3ZG8u2HsXAHknYd+KC2wqeOM7X\\\n",
              "Cp9jUJuyuhTrD1RgdP807DtxQa7i+RriHh7cg8GP/MIASNqirIoBwEfP2nfnsFS4XKBZZdjspvee\\\n",
              "+NTePdxwdT1AS4X9PIC9qnfoA+DGnzddU1xHnGfj80D9FaC6EtBHofCeroD+O8z9pMblpYue/SXy\\\n",
              "F/7V7V7AADBnzhz1fsDulqwhIllrBSkR/GqsDfJizQ8P7oH1ByrQKAHrD1Tg5nObcOacDZNmTXd7\\\n",
              "nuLiYpw7d863vb6JvMAASNriOC5OhDKxhZsISO9PaApxY65OohCv7Vhs3w1EarSHuJgkoPcwdcjq\\\n",
              "cXvTRIwtLzZdJ32Q/fn6y/bHtnr7V1wnFI6wP567rU7V5KJ7jMjv+iUA+44hOPGpvE6g4BT+lN+r\\\n",
              "CKfK74+IfKIcc+dNYBTH6wAkxkTJlcPR/dOw/kAFOv/fP/HB398CALwAALOmO53X8Q8+hkAKJE4C\\\n",
              "IW1RTpIQ/84c07Qen5j5W/a+PTQd+kD9fhGqJMDeDyzZ/z1mZdPEi/cn2Ct+5lPAv59vGjcINHUT\\\n",
              "Qwfoo4CoWPt4wpxpwLDZKLy7I+b8yCAfXvSzjsgfkqKaaJK/8K8oKiqSH8vhz3HWr/j+bvy5+y3d\\\n",
              "OFOYyCu+TvKYdGdvROjsvx7iDJFyuFvyUBYeMezFZ1fDHwAc++dSTH1hgWqCiWP4mzt3LgMgBRQn\\\n",
              "gfiBg0jDjJigoYtQd+eOUYQjZReymBTiuNuHO/oo+8QRCfaZxcpdQcR56y4BVy6gcJcByfERyL/p\\\n",
              "sr099y6yH6eY1OHUNeRqtxElV5NCmnsPUTvj7eSHQE6SUI7bW/JQll9tKCwsxNy5c10e3+3efHy7\\\n",
              "vsi3oR7UIrx/MwD6hT9AYcbXMXOO3cSOY/0ciWAZk2RfVka5b7B4nzHp6rGwdysf+sD+vHK7OF8C\\\n",
              "nvI5Ub10FTw5PpBChLezcQM5a7f3rPVolIAIHXB0/ugWn9tT+BPEZC9PlCHQXRjlLGHPeP9mFzBR\\\n",
              "E7GbR4/bvTv+1B57OPtmc9NuH/cusgc9pbQsdVfs0NnqXUF2LG4KjdcNs1cJr1ywh7+u/QHo7FvF\\\n",
              "pQ9q6spVLlQt/usqyCnHPLpat9Bx2zuids7brlhfumybW+NvdP80ROjs//Xn3MnJyW6PEwu7i/An\\\n",
              "Hrty7FLT7xh36wFynUBqDiuAfuBfEGHK225RUQHU64HG+qYKnyldPSvY8TyOVTexeDQkewVw2Oym\\\n",
              "x0qiK/jWCS66q3VN75953P21fMHqIIUpx+qYtxW9lnT9iiAmzu2qe3ccxmE8xmM5lqMEJchDHp7E\\\n",
              "k1iFVXgH76iO7Xj3r9Fn6ANyO1kBbBnevxkA/cIfoHakpWHFVbcvcHXmLuxhzN35PI35S8sCKkoB\\\n",
              "nR4wmuxVP0/j7l7uqR5POK9r00xhJXcLVV/+3n68eH8gcHwghSnHwKcMSwDcBqo5/yjzuFi0q/NP\\\n",
              "urM3Xvl3OQBgyA3J2P5/51C5ex2qNiwDYK/0LcVS+b1mmFX7f0/GZHntz7HTf4dvOt/BUBcAvH+z\\\n",
              "C5jCRUu3PVNu+Sbef+sE+xi92guez5czzaG7V9f0z4r99v9KNnuwE0vCvNzT3p0r9hYWXbm9h9mf\\\n",
              "k2B/LvLqTOCoWPVMZeVC1dPK7GMPp5UBI15q6l4OFFddxkRhwLELV2y3BgBz/lHmtktVjAOcdGdv\\\n",
              "j93GyvM/PLgH4gyRuHilHusPVODilXoYbx6NTnf/GoB9oXexxSMAVfhbjuVy+CsqKsI7r8x2uS2c\\\n",
              "J9wzmNwJ2wC4bNky9O/fHwkJCUhISEB2djY+/vhj+fXa2lrk5+ejU6dOiI+Px/3334+qqqogtpj8\\\n",
              "4i6suFrmRPmcu6VS0gfZw136IPdLpdw6QT3mz5jY9O+oGPu/xfg/MQnjygWg4bI9YN46oSmAntrT\\\n",
              "FDrXTwfqrfZAOOIlddATXcbK8X97V7bOWD6OD6Qw9fDgHnL3rAhGygqfCHlKItTN/VkmHh7cA/PW\\\n",
              "f4XTF69g7j8POQUs5f69f9l9AjXWBiTGROHGtKZwFz/gx4jp0h0AUIISmGFWXc8MM0pQAsA+MUTe\\\n",
              "4tFHHAtI7oRtALzmmmuwYMEC7Nu3D59//jmGDh2Kn/3sZzh06BAAYNq0afjwww+xdu1abNu2DRUV\\\n",
              "FbjvvvuC3GpqMXdhxVVlUPmcYyVNvP+bzU0TPNxVF0U3rAiPw2bbA6Ep3R7c5pwHntjaFP7SB9lD\\\n",
              "nVj3D7D/NybJvj2cCJ2Q1CHRkauqpTtc54/IJcdgpKzwiZCnpAx1AFBbbwMA1NskjwFr2dajuHil\\\n",
              "HtW19Th5vmlYx6Uv/oUrZ08CAPKQp6r8AfZKYB7yANgnhhQXF7fo+/R1/ULSDk2NAezYsSMWLVqE\\\n",
              "MWPGIDk5Ge+++y7GjBkDADhy5Aj69u2LXbt2YfDgwV6dj2MIQkBzS6O4q26JMXlRsUCEwd67qxzH\\\n",
              "p1ryRQfEJKpfV5LHCro5Tjmho2t/e/dxZAww8qWmip/jpBFvl6vhOD4ilxwnSYjHYk9gx72BHfcL\\\n",
              "/uzYeaw/UIEb00z4vqZONS5Pee7Pjp3HP7+sAADEROlRW2/DlS/Xt2gMYFFRkaoSyIkeLcf7t0YC\\\n",
              "YGNjI9auXYtx48ahtLQUlZWVGDZsGC5cuIDExET5uB49emDq1KmYNs27MU/8AQpjDgszq7px0wc1\\\n",
              "rc+n5G59PUC9PqDjws6q812dzRsVC8R2Uq/fZ0yyLxHjy96+e1cCm19UB1jO7iVScTVrN0IHuSLY\\\n",
              "wRiFi1fq5ed8mQQCQD5fB2MUTu38AOc3vak63pdZwEVFRTAN/LFqn+FArHWoNbx/h3EXMAAcPHgQ\\\n",
              "8fHxMBgM+PWvf40PPvgA/fr1Q2VlJaKjo1XhDwBSUlJQWVnp9nxWqxUWi0X1RWHCsatUdA0Pna0O\\\n",
              "f+ZTQNnfHMKfzh7Y6i41vd+xm/neRVcXedY17csrjvlmM2BIsHcFR9pvGKi/4rx+nw7uu349jVMU\\\n",
              "6wp+9GxT+GvJhBmiIGntiQzK7uBJd/ZGYkwUoiMjoIM98AH20De6f5rb7lTRximrS+Uxf5Pu7C13\\\n",
              "wY7un4bvPvunU/gDgHfwDiZjsjzmrwQlmIzJTuEPAAoKCjD1hQU4ffGK3C5271JLhHUAzMjIwP79\\\n",
              "+7Fnzx5MmjQJ48aNw1dffdXi882fPx8mk0n+Sk9PD2BrKajchSLl2EIRxKJiFAfogMz77dU6MdsX\\\n",
              "cJ6UcusE+/p8o/+g3ovYmATUXrRP/gDss39jkuznFMc5hlHHCSuiO9pdqBOzlUXw5OxeCjEtncjg\\\n",
              "bXAUIW1gjyS88u9ymK/U40p9I0wxUeiWGIPfjMzAzplDseShLKfJI45t/PBL+0xfa0Mjlm09is+O\\\n",
              "nQcAbP+/c7hkPu+2DaKbN6lbL9VjVxoumxGhg9wu0YXN2b7kC010AQvDhw9H79698Ytf/KJFXcBW\\\n",
              "qxVWq1V+bLFYkJ6erukSctjwpVtUuXAzoK4Q+tqtqlxLUKe3LxvjuJhzc+0T4xWhswdMx9f3rvRu\\\n",
              "XUOidqqlY9183bJNHC/89Gb73r+ezvmX3Sfwyr/LYW2wwRCph6W2HjYXd1Ux/q/603fx/f971+X1\\\n",
              "u92bj8ib7kH1F/9yWSkEgJ9PeBpV1/3Uacyht2sUkh27gIHIYDegLdlsNlitVgwcOBBRUVHYvHkz\\\n",
              "7r//fgBAeXk5Tp48iezsbLfvNxgMMBgMbdVcaku3TvA+GN06wT6urvZq6BKhrCXBKn1QUwCU7LMK\\\n",
              "lcsJyhy7lJXEzcaY6H7WsBjHyPBHIejhwT1aNMlBVOu87SIVizabr9RDArDvxAXV68olXZSTQy5e\\\n",
              "qQcA1NY3Ou7fA8D+v3RtvQ0SgPjbf4lGm4SLO1erjun108mw9R0JAOgw4MfQAfjeIQReM2ws/r7i\\\n",
              "NafzixnMADCwR5JX3ytR2HYBz5o1C9u3b8fx48dx8OBBzJo1C1u3bsWvfvUrmEwmTJgwAc888ww+\\\n",
              "+eQT7Nu3D48++iiys7O9ngFMGjfsanesq4qbo/cnAHM7Am/d6TxO79Qe1+8Rx4ixfcp9gJXP713Z\\\n",
              "1JZhs51fA9jlS5rluHSLI8du04cH98D+OSPwYm4mEmOiUGNtwJTVpfIxIuzFGSLlc4oxg1enb8m6\\\n",
              "JRqhAxAVYf+LToI9COoAmHJ+hZQfPSwfW1RUhN/Nmi6fB7CvE9jx6mLRgD38zX/pdy67eifd2RtX\\\n",
              "L+MUWr35vr19jcJL2HYBT5gwAZs3b8aZM2dgMpnQv39/zJgxA3fffTcA+0LQ06dPx+rVq2G1WjFy\\\n",
              "5Ei88cYbSE1N9foaLCGHuUDMlt27Elj/jPo5V7OFxVZu4jYijlEu46LsZhYVQVfdz1z6hQhA813H\\\n",
              "nrqIHbuDldu6WRsaYYiMwG9GZqi6YcWWb8rnxXnE+oJA05IyH6x8DUNvuQ7vvNK0g89fdp/A7HVl\\\n",
              "cmAc0vAFesU3orCw0GObfekm9+b7DveuZN6/w7gCuHLlShw/fhxWqxVnz57Ff/7zHzn8AYDRaERx\\\n",
              "cTHOnz+Pmpoa/P3vf/cp/JEGeDNb1tWuHI7nEJS7gghickmkwT72L/P+poWh965U70iibI+yqufY\\\n",
              "Tlb8iAA0P3nE0yLJyqqa2BlEbOt2pd6Gi1fqPU5K+cvuE7hl7kactdRCB2B0/zQ5mNVYG/DPLysQ\\\n",
              "8YMH8WWHQar3PTy4B17MzUS3xBi8mJuJd16ZLYc/V20WFTsAXm8T19z3zZnF2hC2FcC2wL8gwpw3\\\n",
              "FUDlIs5Soz28Rcc7L9rsy2LNysdiHcKYJPssYFfn4rp+RC61dPKI46LQjgs/ix09XFX6PNEBMEbp\\\n",
              "ceXqLiKAfXJIxziD2zb6U8Uk93j/ZgD0C3+AyGlXDusl++QQX7pf3e30kTOtabKJq5nBRNQqu2E4\\\n",
              "dts+PLgHes9aLy8MfXT+aKeQ2CkuGgdOm53OFaXXocEmqcYHxkTZt3w0REbA2mDDlfpGJMZEYf+c\\\n",
              "EW7b4i7gTVldivUHKjC6v3rGMncJ8Yz3bwZAv/AHKAz5W01r7v2+bOMWiPYQhTl/KmCuQpIYyydm\\\n",
              "9opgNmV1KT78sgLGKD2eG93P5Y4hjS7upjFRehgiI1TLwyiD5S1zN+LilXokxkRhyA3J8rZxYgka\\\n",
              "ZRsB5y3pRDscv3/xuSTGRCHOEMkg6ID3bwZAv/AHKIyIoNWSCp4vHLuMOVGDyC8tqXSJ9yi3UhNh\\\n",
              "SjwnZvWKAKhcay8xJko+15AbkuW9g7f/3zkA9q7heeu/UnX1OgZEHQDT1dAnwpw4vzj+6PzRqjaL\\\n",
              "15Vb0omJKeK6jvsRc7s413j/DuNJIEQ+ERMpdGjdCRRigobjbh5E1CLNLfXiiqiaAVCFP+VzN3Uz\\\n",
              "QQfA2mCTw5QIX9aGRrlCuOShLOycORS39eqIOEMkfjMyA58dOy+Hv6gInbwVXGJMFGKiIuRwefFK\\\n",
              "PfaduCC3f3T/NLmNyn+LNovrK7ekExNTHCeliM/lNyMzOKmDXNLUQtDUNi6UlOC7t/6Izk88jqS8\\\n",
              "PJ9fD4qW7uSh5E13bUsXjCYiFX/GuCkXiFa+V/ncHQu2QAJwpb4Rr/y7HL8ZmSG//sq/y1XVPWV1\\\n",
              "btnWo6g0N00GaWiUVOe8eOWKqoKonM2778QFvJSb6fL7cddmV4tTK7V0EW0Kf+wC9gNLyK59PXQY\\\n",
              "GioqEJmWhuu3bPb59ZDF9feI2kygZr+6C5LK9fgcJ2g4vsdx0shnx87jwy8r5IkfjtvGAeruWnff\\\n",
              "jzchl7OAW4b3b3YBUyvo/MTjiExLQ+cnHm/R6yGrNdffc9zdg0jjArVenbu1ApXr8f1mZIb8vHL2\\\n",
              "77KtR/GX3SfktoiJHUseysKxBaPx0tX3D+yRJK/V56q71t3309w6hs19DtzVgzxhBdAP/AuC2gyr\\\n",
              "i0Qt0lwVzVMFsLmdPRqlpskcIiS6mlWsnLwxun+aPOmjua5Zd0u8eIvVQfd4/2YFkCg0cHcPohZp\\\n",
              "roqmnESirJiJfX8dq3Wi4ja6fxoidE2TOZZtPep0LWX4A+yBUTnpw5FjxW7fiQvye1qCu3qQJwyA\\\n",
              "FDAXSkrw9dBhuFBSEuymhJ9bJ9grf5xAQuQTX0KQCHBz/lGGgT2SkBgT5TS5QgTGJQ9lYe7PMlXH\\\n",
              "TLqzNxJjolBjbVDNHNbBvh6gu4kajtcXAdLfANeSGdKkHewC9gNLyGphO7mDiDRBWbFTLg/TXHet\\\n",
              "srsYgLzu3sAeSVh/oALRkRG4Ut/YbFdsIHbv4A4g3uH9mxVACiBfJ3coK4btvnrISRhEYe/hwT0w\\\n",
              "92eZTmsDepqEAUDVXQw0hUfRhWuI1HtVyfOlYudugoe3bSZiAKSAScrLw/VbNnu9tt93b/0RDRUV\\\n",
              "+O6tP6r+3S6JhaJ3LG7Z+xkgiUKCMoR50wUr1uGL0uugg31nEMf3/2Zkhlz5C9SsXHdBj+P+yFvs\\\n",
              "AvYDS8j+US4IDaD9LQ6t5O+evJzFSxSWHGcFe+rmDeSsXFd7BLPb13u8f7MCSK3IXbeueB6AXDH0\\\n",
              "tXrY5vydhMFZvEQhw5v188QxA3skybOCm6u8NVed82XdPmWlkt2+1BIMgO1UexwT11ygc3zeXbdu\\\n",
              "u+/ubQ2cxUsUMkSgeuXf5W4DmThGLOsi9gT2VIET3cJiAWl35/Q1yLHbl1qCAbCdao8hyddA525S\\\n",
              "SNjuBEJEIcdV1U0EKgBuA5kvoesvu0/glrkbccvcjXjl3+UBOacSl3uhlmAAbKfaY0jyNdC569Z1\\\n",
              "9bynimd7rIYSUXhwVXUTgeo3IzOcAtmU1aXoPWs9Pjt23uvQ5W6WsCNPQY7bulGgcRKIHziINHA8\\\n",
              "rSHI9QWJqDW42+7N0/HPr7NP4orQAUfnj26V67jCbd0Ci/dvIDLYDSACgNisLFiqqhCb5bzfZecn\\\n",
              "HlfNFiYiCgRRmeuWGON1JU8Y3T/N5THuZufunzPCr7YqF6UmCgR2AZNb/nS9NrfIs+Nzl3bsABob\\\n",
              "7f8FUFhYiOLiYgDuu5KLi4tRWFioOmf5oMEoHzSY3cVE1Cxfx9yJ41/KzcSSh5z/WAXUXcquupdb\\\n",
              "2pXLcX4UaOwC9kO4l5D96XoV79WbTLBdugQ0NqrOozx35yceR+Xc3wGSBL3JhNX3jMLcuXMBAEVF\\\n",
              "Rfhlp05OawQWFxejoKAAADBnzhwUFhbK5wTA7mIiCorm1udjV277EO73b28wAPoh3H+AlAs1e1qf\\\n",
              "z9WCzrFZWbhcWgpbTQ1sZjMQEYGEUaNwubTUaeFnMYsYERFY1bcPFv7tb6rzv3D9DcjT6+VQpwx/\\\n",
              "wpw5c/B0nz44u/g1AECXaVPb75qCRKRZ3Ku3fQj3+7c3GAD9EI4/QBdKSlQhCmh+h47yQYNhM5uh\\\n",
              "N5mgj4tTVQ1PT/8NLBs2yOHPVUVRBMgVHZOcwp/wwvU3YOrv5uLd7793Cn+CqAQSERF5Eo73b18x\\\n",
              "APohHH+AHLtRATTbDXzklixItbXQGY1ImTnDZQVQdPWeXfwapLo66KKjVVW6wsJCudvXnb59++Lw\\\n",
              "4cMej2EIJCKi5oTj/dtXnARCKp2feBx6kwm6mBjYamoQm5XltMafmMBxevpv5C3dAEBnMMgTNkS1\\\n",
              "D4D8/qS8POjj4iBduQKb2SwvHH2hpATSu6vdtikTmQAghz/x2JXk5OSWf/NEREQawQBIKkl5ecjY\\\n",
              "sxsRSUmwmc24XFrqNANXjNmzbNiAhooK6AwGRKalIT4nR57ZG5uVBUREID4nR678lQ8ajNisLHtX\\\n",
              "scmkGguYp9fj+S4pTu0Zh3FYiqXIg/36ecjDUizFOIxzOnZ2jx74ZadOXDiaiIioGewC9kM4lJDd\\\n",
              "TfTw9HzVgpch1dYCkZHQx8XJXbnKsYAAnMYFAq5n514oKUHliy8BjY1413wRL1VWArBX+pZiqXyc\\\n",
              "GWaYYJIfT8ZklMG+KKtyogjQfLc1ERFpVzjcv/3FCqDGOFbH3O3j67j2nnjf2cWv2cMfADQ0QB8X\\\n",
              "B8A+dlCyWl1eU3Qri6qfYxuS8vKQOvt5RKal4ZnFi1FUVAQAKEMZlmO5fB5l+FuO5arwN/V3c+Wu\\\n",
              "Zl+20WO1kIiItIgVQD+E4l8Qjmv7ebvUi3JdPwCqiRwiRIpqn+MyL0l5earZxQDkiSHuKnT9+vWT\\\n",
              "x/ytwzpV+DPDjFzkAgB6G43Y+/bbLV7yhdvMERFpTyjevwONW8FpjOO2aiI4KSuArgKh8n2uwpar\\\n",
              "1xzHDdrMZgCQq4GNFy6gfNBgpzX7iouL5fCXhzxV+APslcA85KEEJThaW4t3v/8e+QH6PIiIiLSA\\\n",
              "FUA/hOJfEI7r/CXl5amqYEBgxs85VhaPjXkAtWVlQGQkUp9/rmnxZ0BVjXzthTn43df/B8C3MYBF\\\n",
              "RUXIz8/3uqJJRETaFYr370DjGMAQ5u34NeVxohKnXIZFOWbO3fi55q7luA+v49jC2kOH7Ac2NiIp\\\n",
              "L89pXCAAVfgD7GMAV2EVAPuYv1zkymMCV2GVHP4AoKCgAMXFxW7HNPryeQXqfURERO0VK4B+CPZf\\\n",
              "EN6OX3Pcd7cl26UpZ/hm7Nnt9hqAvYtXjA0UlbjDN/UH6uuBqCj0PXjAqVLnans3IROZqrDn+Fjp\\\n",
              "paFDcV9lFRJGjUK3P7zi9nPwpbrJcYJEROEl2Pfv9oAVwBDm7WxX5XFinb+MPbudZvh6U+GS6upc\\\n",
              "Htv5iccBnU5+7DiLWBd5dbipzYbDN2aict7v0VBRIYfRc+fOub2mCHs3dOumeuxK5X//CzQ24nJp\\\n",
              "qer5CyUlsNXUqCqO3vJlVjEREVEoYAXQD+HyF4Q3FS5RsWs8fx5Sba2qEiheE9u/KWf+iirf2cWv\\\n",
              "yZNAlHRGIyI6dkTnJx7H60eOuN0OTozx81QpzE/rhsnXXAPAXt28vPfzZvchJiIi7QmX+7c/wrYC\\\n",
              "OH/+fNx6663o0KEDunTpgtzcXJSXl6uOqa2tRX5+Pjp16oT4+Hjcf//9qKqqClKL24arap83FS5R\\\n",
              "0dMZDE7nOrv4NTRUVKh2DblQUoLKub+Tq3xdpk1FZFoajJmZQESEfcJJRAQAyGP2CgsLMWfOHKdr\\\n",
              "L3z0UXmCx/A//y9m9+jhdMxTnZMx+Zpr7N3UcXFIysuDZcMGoLERlg0bWMUjIiJSCNsAuG3bNuTn\\\n",
              "52P37t3YtGkT6uvrMWLECNTU1MjHTJs2DR9++CHWrl2Lbdu2oaKiAvfdd18QW936XE2ScOyu9UQE\\\n",
              "OeX6f0DTfr+np/8Gh/v2Q2XhXEBRXBbX6PX+WvQ9dLULt7FRXlQ6NisLAFBYWIiCnj3l9z3fJQW5\\\n",
              "x0/IbbeZzXjIGIMXrr9BPiY/rRteWrpEbpsIeQmjRgE6HXRRUQDg9D1ycgcREWmVZrqAz507hy5d\\\n",
              "umDbtm0YMmQIzGYzkpOT8e6772LMmDEAgCNHjqBv377YtWsXBg8e3Ow520MJ2dtlT8TyL5LVCp3B\\\n",
              "4NMEEF+uffjGTKCx0X6ATgd9QgLic3JwaccOAE0TTy6UlNhDonD12C7TpgIAnp88BR31evyyc2ek\\\n",
              "zn7eaTHp+JwcvPXhh6jtfxNefv99t2301L3NyR1ERNrUHu7fwRa2FUBH5qvjzzp27AgA2LdvH+rr\\\n",
              "6zF8+HD5mD59+qB79+7YtWtXUNrYEp6WPXE8zmY2Q6qthe3SJb+uKSpngHNVLWHUqKZ/33svMvbs\\\n",
              "xuXSUqelZ5Ly8pAwenTTxBFJgs1slgPelGuvxa/S0qCLisLZxa/hQkmJagLL5dJS5On1GH/4CC6U\\\n",
              "lLis5jU38YPdwkREpFWaCIA2mw1Tp07FHXfcgczMTABAZWUloqOjkZiYqDo2JSUFlZWVLs9jtVph\\\n",
              "sVhUX8Hmy0xgvclkD1yNjc0GRsFxfT/AOXQqw1e3P7wiLygtZuK6WvMPAGJv/QEiu3ZVB0Eowmpd\\\n",
              "nT2wXg2Oyut0fuJx+xjCq9+LqyAsziPGBDrypeubiIgonGgiAObn56OsrAwlfo71mj9/Pkwmk/yV\\\n",
              "np4eoBa2nLchRlTPUue84FVgFGGr6uWFLheO1ptMsNXUyN2yDRUVqFrwMo5kDUBDRQV0RiNis7Lk\\\n",
              "SqGo3AHAkVuycLhvP1QteBkNFRW4tGMH9AkJ0BmNAOzjAfUmE3TR0dAZjdCbTIjNykLliy/JIS8p\\\n",
              "L89ebYyIQGxWln0MYUQEIjt2VIVEVviIiIichf0YwIKCAvzjH//A9u3b0atXL/n5LVu2YNiwYbhw\\\n",
              "4YKqCtijRw9MnToV06ZNczqX1WqF1WqVH1ssFqSnp4flGALlws4AAJ0OqXNekIOmcvycrabGvsSL\\\n",
              "Ttc08SMiApEpKfZzRETI4/jEgtLinJFduza9/2pFz9WWdHJ7FGMFRdVPebzyHBzXR0RErnAMYBhX\\\n",
              "ACVJQkFBAT744ANs2bJFFf4AYODAgYiKisLmzU0hoby8HCdPnkR2drbLcxoMBiQkJKi+Qo03W7p9\\\n",
              "PXSYXFEDYA9wivAHqLuexezbhHvvhS4mBtDpkDBqlFM3raOEe+/F9Vs2N71/1Ci3W9KJx/qEBLka\\\n",
              "6WoLO+U5vP2eA/G5ERERhZKwrQA+9dRTePfdd/GPf/wDGRkZ8vMmkwkxMTEAgEmTJuGjjz7CqlWr\\\n",
              "kJCQgMmTJwMAPv30U6+uEYp/QThuC+c4i1e8rjeZ5PcoZ+46LvgMwOMs5NPTfyMvxtztD694nLXs\\\n",
              "6jXHazouNu3r99zSqiBnDBMRhY9QvH8HWtgGQJ1iUoHS22+/jfHjxwOwLwQ9ffp0rF69GlarFSNH\\\n",
              "jsQbb7yB1NRUr64Rij9AypCl7EIVoUa8Lrplla85dgu76qr15hru2lX54ktO3bfyNT107Ta3FI63\\\n",
              "S+V4+7lx0ggRUWgLxft3oIVtAGwLof4D5CnUOFbuxPEipAEAdDoYb7wRDefPq7Z/UwY5V1VGV5RB\\\n",
              "T4wXVLbRUwVQWbXUx8W1ahAkIqLQF+r370AI2zGA1DxPM4gvl5YCjY24XFqqWvcvdfbz9srf1Qkf\\\n",
              "tYcPq85xdvFrckC0Xd11xZtZyrFZWapdOxzb2O0Pr6DzE4/DsmGD03IvYvwfAI9rInq7ZiIREVG4\\\n",
              "YwAkl5QTLERwOrv4NbmClnDvvUBEhGrhZxWdzuX6fe5cLi0FJAlSba3b98jhUqdTTfIQIdFxKzhP\\\n",
              "3xMREZGWsQvYD1opIXsaF6h8XTkpRNlV624coLJ7t3rzZki1tdAZjUiZOcPpPRdKSlA593eAJEFv\\\n",
              "MslrChIREflKK/dvTyKD3QBqP9yNkUvKy1PNAnasoJ1d/Jq8jVvGnt0uu3tdvU+EPEtVldxtHNGx\\\n",
              "o/x+x1AJSQIiIuT9gptrNxEREbnGLmCSeTNGzlZTI+/NK7ppJcXi2K64G2uoXLtPuVWcq0AnjlVO\\\n",
              "EPGl3URERNSEXcB+CLcScnOVNOUyMMpJF2L2bWxWFi7t2AGgae3AlrRBdPU67j7S0nYTEREphdv9\\\n",
              "uyUYAP2gtR8gse8vALkbVtlNq1oixs1yLs0t0SJvC3cVF14mIqJA09r92xUGQD+E6g9Qa1TMlHv1\\\n",
              "AgAkyeWCzs0tGC12IJGsVugMBsTn5Pi88wcREZEnoXr/DiSOAdQgX8fMebOMizxGb84LSJ3zgtNy\\\n",
              "K66WYFG2Q7zeZdpUZOzZjT77S5GxZzcul5Y221bu00tEROQbBkAN8nU9POU6gO6CVlJenlzJu7z3\\\n",
              "c5evi4kgIrDFZmXJ7XCcKOLqmObax0kgRERE3mEXsB/aQwm5LSZANLcOoODNvr3K4zyN7/PmGMf2\\\n",
              "sZuYiIi80R7u38HGCmCIa4vql687bSSMGtWiHTmUXbnKY5rr4vW0pR0RERE5YwXQD+3hL4jWrn61\\\n",
              "ZXVNWUFUziD2pRpIRETUnPZw/w42VgBDXGtXv1q7wuhY9RPdx8rrcQ9fIiKiwGIAJI/8DV/Ndd+e\\\n",
              "XfyaPMEkKS8PqbOfd7oeu3iJiIgCi13AfmAJuXnNdd+WDxoMm9kMvcmEjD27g9BCIiLSGt6/WQGk\\\n",
              "VtZcBVFMLBE7ixAREVHrYwXQD/wLIrC4nAsREbUF3r9ZAaR2pC2WtOGuIURERAyA1I60xWxf7hpC\\\n",
              "REQERAa7AURCUl5eq3f9iu3quKQMERFpGccA+oFjCIiIiEIP79/sAiYiIiLSHAZAIiIiIo1hACQi\\\n",
              "IiLSGAZAIiIiIo1hACQiItKILzd9hD/mP4YvN30U7KZQkDEAErWRNeVrMOL9EVhTvibYTSEijfps\\\n",
              "3fuwfHcWn617P9hNoSBjACRqIysOrsCZmjNYcXBFsJtCRBp1W+4YJHTugttyxwS7KRRkDIBEbWTi\\\n",
              "TRPRNa4rJt400eXrrBASUWu7+e578Xjxn3Dz3fcGuykUZFwI2g9cSJICacT7I3Cm5gy6xnXFxjEb\\\n",
              "g90cIvLgy00f4bN17+O23DFhGabC/fvj/ZsVQKJ2Y+JNE2GKNqGmvoZVQKJ2LtzH0oX790cMgETt\\\n",
              "xoMZDyI2KhaWOgvHCRK1c+1pLN36JQvx6kM/xfolCwN2TlffH2cQhxcGQKJW0NLxfM2NEwzENYjI\\\n",
              "f8EcS+cYxMp37YBks6F8146AXcPV98eqYHhhACTyg7sQ1tIZvw9mPIiNYzbiwYwHmz2Ws4qJtEUE\\\n",
              "vx2r/1cVxDKyc6DT65GRndOq129PVU/yHwMgkQfNVdnchTBfKnneXMeVrC5Z0Ov0yOqS5fV7iKj9\\\n",
              "aq6LVVTgoJNUQWz0lN/imdX/xOgpv23V9nEGcXhhACTy4PUvXseZmjN4/YvXXb7uLuj5UskDWlbN\\\n",
              "Kz1bCptkQ+nZUq/fQ0Stx98xcs11sYoKXE7e2IAHMY7v056wDYDbt2/HT37yE6SlpUGn02HdunWq\\\n",
              "1yVJwgsvvICuXbsiJiYGw4cPx9dffx2cxlK7pYNO9V9HvgY9R6Lyl9Uly23FsLCwEMXFxU5VQmUF\\\n",
              "sLi4GIWFhT5fl+MHiQKnpWPkRPhKy+jjsYu1NStwHN+nPWEbAGtqanDzzTejuLjY5esLFy7EkiVL\\\n",
              "8Oabb2LPnj2Ii4vDyJEjUVtb28YtpfZsyoAp6BrXFVMGTPH7XK5Cl6j8lZ4tdRkkCwsLMXfuXBQU\\\n",
              "FGDOojmqKqGoAP7zz/9EQUEB5s6d63UI5PhBosBr6Rg5Eb4qyo8ErYuV4/s0SNIAANIHH3wgP7bZ\\\n",
              "bFJqaqq0aNEi+bmLFy9KBoNBWr16tdfnNZvNEgDJbDYHsrkUBO8deU+6e+3d0ntH3mu1c9299m4p\\\n",
              "c1Wm/Nrda++Wfrvtt/Jjx/fNmTNHAqD6SnskTfrttt/K1+kzoY/TMXPmzGnT75eI/LN/43rprace\\\n",
              "lfZvXN9q15gzZ45UVFTk8ZiioiKvfn+EA96/JUmTAfDo0aMSAKm0tFR13JAhQ6QpU6Z4fV7+AIUP\\\n",
              "ZTjzVnNBr/87/d0GPOUx4v3KNrgKf+Krz4Q+kiTZf1m7O0b8EmfQI2o5b4OZp+MCFe78uYby94m7\\\n",
              "EKj8feIqBLZFSG1LvH9LUth2AXtSWVkJAEhJSVE9n5KSIr/mitVqhcViUX1ReGjJrN2Xdr+EMzVn\\\n",
              "8NLul7CmfI1qPJ9ep4dNsmHD8Q1yV6tyvODEmybKx4huWPG+mvU1mDt3rttrH1l5BP369UNBQYHb\\\n",
              "Y0R3MLt6iVrO23Fxno4L1Ni6ll5DDCMRCgoKnIZGFRcXq36fzJ07F79+5FeqSSEcIxh+NBkAW2r+\\\n",
              "/PkwmUzyV3p6erCbRAHSklm7EuzbaEuQMG/PPHnGcOnZUjw36Dl0jeuKUT1HycFSOQbwwYwH8dyg\\\n",
              "52CKNuFC7QXkrM7BlpNbYJNsqIT7P0IykQkAOHz4sOqxK8nJyT4HWyJq4u24OE/HBWpHjbSMPtDp\\\n",
              "9UjL6OP19R3Dn1BQUIBfDsnGl5s+cgp/wvK/vIu1W3fIgY9jBMNPZLAbEAypqakAgKqqKnTt2lV+\\\n",
              "vqqqCrfccovb982aNQvPPPOM/NhisTAEatTEmybi9S9eR11jHayNVtgkG3TQOYWtgSkD8fKQlwEA\\\n",
              "I94fgTM1ZzBvzzwA9tC54uAKmOvMqG1smnyUOiIV1yZei/+89h/VNcdhHMZjPJZjOUpQgjzk4Uk8\\\n",
              "iVVYhXfwjurYoqIi5Ofny9fxZE35Gqw4uAITb5rY4tnMROHo5rvv9WpChqfjXL3mWE37bN37uC13\\\n",
              "jHzcl5s+kp8Tr9fVXoZks6Gi/IhXbXcX/oTV/283tv7ilzhzwez2mE1ffY1rB9yKx5v5Hik0abIC\\\n",
              "2KtXL6SmpmLz5s3ycxaLBXv27EF2drbb9xkMBiQkJKi+SJsezHgQOx/aib0P78Xzg5+XZwpPvGki\\\n",
              "VhxcgUV7F6nWD1xTvgaX6y8DAGySDYv2LpK7iyN16r/DdNDh8V8/jqKiIvm5TGRiPMYDAJ7Ek1iH\\\n",
              "dXgSTwIAxmO8qhKoDH/eYDcxUeB4U91TVtNcda0qnxO7ftRdqXVbAXR1juTkZLfXF78vRPjz1JNw\\\n",
              "0+Db3X+zFNLCNgBeunQJ+/fvx/79+wEAx44dw/79+3Hy5EnodDpMnToVL730Ev75z3/i4MGDGDt2\\\n",
              "LNLS0pCbmxvUdlPoEWP6lMFPVPTE+oGi0iceWxutcndxo9Qon0sHHcx1Zqw4uAL5+flyCCxDGZZj\\\n",
              "uXycCSb538uxHGUoA+B7+AN8H/9IRO55M1ZOuZ6fq65V1XM6+1ATm63RbQXQ1TmUvz+UxmEclmIp\\\n",
              "8pAHAMhDHpZiKcZhnNOxLfl9QqFDJ0mSFOxGtIatW7firrvucnp+3LhxWLVqFSRJwpw5c/DWW2/h\\\n",
              "4sWLyMnJwRtvvIEbbrjB62tYLBaYTCaYzWZWA8OUsnsUgNuuUtG9K0Tpo9A5prN8rDhPR2NHHD5/\\\n",
              "GCmxKai6XIVRPUdhy8ktcmA0RhhhiDBgyoAp8jX69esnj/lbh3Wq8GeGGbnIBQDEdYvDpW8vtdpn\\\n",
              "QUTNU3bfKrtM3T3v7WtpGX1QUX5EPsbTe5SUY/wykYmlWCq/ZoZZ9ftkMib79cdkKOH9O4wDYFvg\\\n",
              "D1B48DQGTgS7rnH2saLi3xvHbHR5jgu1F1DbWItIXSQapUYYIgx49tZn5fOK84kZwKZoEyRI0EEH\\\n",
              "CRIsdRb5/GvK12Dmgpk4tuoYAMhj/hyJMYFA+P/SJgpVf8x/DJbvziKhcxc8Xvwn1WvFjz2E2ppq\\\n",
              "GOM6IP9Pq12+33Fc4OY/vQnJZoNOr8ewx37tdQhsrd8j3gbS9oL37zDuAibylhgDN2/PPKet0ZTd\\\n",
              "o+LfWV2ycMfqO5CzOsfp+KHdh6JrXFc0So2QIKG2sRYrDq6QZwB3NHaEXqdHSmwK9Do9quurYamz\\\n",
              "wNpoxdMDnpbPP+L9EXj298/K4S8Tmapf2mY0Ddx+Ek/KY3iUSzxwuzeituHtuD9jXAfU1V52Pu5q\\\n",
              "N6/8XxdE1/LmP72JHav/F5LNBgCQbDbsKPmzx/bl5+ejb9++AIASlKh+fwD23yci/PXt27dFf0Ry\\\n",
              "mZjQwwBImudqTT5BuTyM+Hfp2VJY6izyWD2gKUTuPL0TANCvUz/ooIMxwiiPDzxTcwZfff+VfamX\\\n",
              "mkrYJBtskv2XeG1jLfZV7QMA7Dy9E2X/KMPJP5+U21GGMqzCKgD2v9RzkSuPCVyFVXK3DdAUAj0F\\\n",
              "WyIKHG/H/UXHxKD20iWn43LyxiKhcxfk5I11+34x+UOy2QCdBJ1ecfuWdB5DaHFxsTyMJA95qm5f\\\n",
              "wD6mWIwJPHz4MGZNfsrnZWq4TEzoYQAkzXGsjIk1+bydCDHxpokwRhihgw5ZXbLk57rGdYUECWdq\\\n",
              "zuB87Xk8P/h5JBmTVK8bIgwAAEOEAV3juiIhuqnr4aNjH+FMzRlUbKzAmb+ccbruO3gHkzFZ/ku9\\\n",
              "BCWYjMlOS8AA9hCYfiDdbbAlosBxDD/uwpjyOOUxykkh65csxKsP/RTrlyxUvVc5+SPKGANJkqCP\\\n",
              "iIQxPh45Dz0ih9AdJX9WXdtxDKA3PQkLipbh412f+VTNU34PFBoYAElzXC174stC0A9mPIgkYxIk\\\n",
              "SCg9W6p6v+jGVVb9xLp/G8dsxNDuQ6HX6TG0+1BsHLMRl+rVkzb0Oj26oqvTNQVR6TOkGVSPXUnX\\\n",
              "p/sUbInIM3fBzjH8eFMRdDzmy00fofixh3Bk53ZINhuO7Nyuuk6MYpxa9XfnAEmCrbEBPW8egM/W\\\n",
              "vY+YhATo9Ho01NXL53Vc5NmXnoQPSg/hv3qjx+/b28+H2icGQNIcb5c9cTWGbk35Gtyx+g5cqL0A\\\n",
              "U7RJHq8ntoJTTiYR1UGbZJO7YUvPlspbxK0pX4NRPUfJ59ZBh+cGPYe40XFI/pn7Nby6PtwV1//+\\\n",
              "enR92H1QHJM/Bp9mfgoAPu1wQkTueTvOzV13qPL9t+WOgTE+HnVXrsgTKGprqp2OB+zBquq/38jP\\\n",
              "6yOa1g49snM7LN+dRdV/v4Fks6Ghvg6R0Qb8+/MvXO7w4UtPwoKiZSguLg7IlngCQ2L7wQBImqNc\\\n",
              "t8/T2DhRwVvyxRI55K04uAKWOou8bEvp2VK5mqisLK4pX4MNxzfI5xLdsJ7GG3aI7gAAqKmvwQ2/\\\n",
              "uAFj8p3H0gz49QB0Ht4ZANBpeCekPZzmdMycOXNgvtPMxZ2JAsxdF64jd92hyvfffPe9iDbGoram\\\n",
              "Gpv/9CbSMvrAGNcBxvh4pFx7nWrRZ2WgijQYYGtscNk+nV4PSBIaG+phuXTZ7fchKn1dEuJVj105\\\n",
              "d+5cQLbEEzhZpP3gMjB+4DTy9qu57c2Uy7uIJV0c3yMe19TXwFJnQUJ0grxQM9C0Zp8ECTndcrDj\\\n",
              "9A7ooMOUAVPkMKjX6TGq5yiUni11Om9Wlyx8dKzp5iGWhFEuBZN+fzq+/fu3AOyVv87DO8t7EIs2\\\n",
              "9P+//vjTi/ZlJebMmYPCwkKvt3fjNnBEat4uZ+JpWRdfriWWc1GeR5zbGNcB0TExqjUAgaYQJdPp\\\n",
              "kNKrN8xVVYBOQs+bB+D4l1/gn5/tx8aycpfXfmDwAAzq3hV7Tp7B2t1fuDxG/D7x5vvYUfJnQNIh\\\n",
              "56FHPH5u7WW5GN6/GQD9wh+g9stVwFNaU74GS75YAgkSnh7wNB7MeNDtexzX+DNGGJFkTMLl+ssw\\\n",
              "15lVawTqdXo8N+g5AO4XjXZsI2APcrWNtTBFmxAbFSu/b8b2GVj16ipEdIhAp+GdEKmLRFxUHCx1\\\n",
              "FjkIJkQn4Jfnf4lz58559ctaKWd1Dsx1ZpiiTdjx0A6f3ksUjrwNdoEKMq72/RWBr672MmovXVK1\\\n",
              "Zf2ShSjftQPxHTuh+vvvEBkdjTsfmYAdq//XaS3BP+Y/hrVbd2DTV1+rrllUVIScG3rJ1335xRex\\\n",
              "+v/tVh3TXPhTtlsZSP0JxG2J9292AVOYam6c34MZDyI2KhaWOovcTert2MDoiGhsHLMRUwZMUa0R\\\n",
              "6K5rd8b2Gbj5zzcj7195qjGF4nqzB8/Gs7c+K88IzuqShRUHV2DG9hnYcHwDuvy8CzoN7wQAiIuK\\\n",
              "w5QBU+TuYsA+djB5eDI+zfzU5+VeRIhUVhWJtMzb7k5fZr266i4Wz317uKn7VQSp41/aK3I9bx4g\\\n",
              "t2X9koX4Q95P5Ekil85/j4ROyWiwWrH5T2+ioaEOANDQUCdf67bcMRiZeQPu7ne9fI2ZBZMQ/ZV9\\\n",
              "ySnR/hmzZ+OhHw6Wj/Gm8udqPKMxrgOXgQkhrAD6gX9BhDZvuz9FlUxU/twdrzyf6ALuGtcVVZer\\\n",
              "5PX+ALjdSWTennmq4wQddPLyMdER0XI3dEJ0AuKi4pyu56ri6e9nQEQtJ6qK0OlgjItDz5sHoHzX\\\n",
              "jqtr+ukASYIxPl5+PiIyCg11VrkL+LbcMfjPymWA4nadcu11MFdVqSaOGOPsfxjW1lTLO4R8e7gM\\\n",
              "5bt24POLV3DHj3MR/dU+9zuSFBd73ZPQXrpyW4r3bwZAv/AHKPytKV+Dl3a/BAkSEqITsPOhnV6/\\\n",
              "7/UvXkddYx0abA1olBrRr1M/nK8973Is4MfHPlZtCSeIcYfKcYXK4Ce6iT8+9jEidBGI1EciOiJa\\\n",
              "7tYmouBbv2QhjuzcLj/W6fXyNm6OYc/y3VkY4+MRbYzF5WozGqxWQKez/264+gfi8IlPNXW7Xg2Q\\\n",
              "gL37NS2jj3wtV9vEuQpuvozhCxe8fwORzR9CpF0rDq6Qg5kOOqwpX+MUrJRBTkz2AIBL9Zfkil7X\\\n",
              "uK4o+XGJPPbw9S9eBwBY6iyoOl4lh74O0R2Q0y0HHx/7GIYIg1ztm7dnnn3JmLOQryNsOL4BEiQ0\\\n",
              "SA1oaGxAbWOtvPYgQyBR8MmLOCsqgI6TOlz9+z8rl9nfJ0mQdPZ/GuPjVesNpmX0wfH9pYBOwm25\\\n",
              "Y7Bj9f/K15VsNnm2rfK8jj5b9z5qL12S/+0qAHqq+IV6NVCrWAH0A/+CCH8i3IkJH47VN6BpMocY\\\n",
              "A6icFKKDDh2iO+DpAU8DgKqbV7yW0y0HW05ugbXRint63YOXh7wsnzMhOkEOkmKCiGiLeNzR2BGH\\\n",
              "zx9G34598W31t/IEEccJJUQUHN4EJHGMCHS1ly/ZK3tuQqOo2PW8JUt+/ua778XrY++3Vw1hXzIm\\\n",
              "MioKkHSoralGQucuAADLd2dV1UFvKoCeJseI11xVHNsr3r85CYTIiXIBaLHDh5jwoYPOaX29iTdN\\\n",
              "REJ0AqL10UiITpAnhXSN64rnBz+PnQ/txIMZD2LFwRWwSTa5mihBQlxUHAamDESdrU61s4h4/9MD\\\n",
              "npZ38xDbzEmQnLad+3Lsl7jv+vsQGxWLe3rdo3qdawESBZ4vCxp7M2FEdOmW79phH9d3tTajj4hA\\\n",
              "Tt5YjJ7yWzl4bf7Tm6i9dAm1NdUo37VDta5eZGS0fM7G+nr5OMC+n/BtuWPkLmjxnpvvvhf5K0uQ\\\n",
              "/6fVbtvoaXKMq3NS+8cKoB/4F0R48rSEjLtJE80tISO6hV39W4ztA4B7e92Ll4e87NSmNeVrsGjv\\\n",
              "IlWVMO9feTj0/SG54qhclmbjmI2c4EHUivxZB9DTOLyG+npAAhrqrPLxxvh45K8sUa0bCJ0Oxth4\\\n",
              "mFJScPb4f5GRnYNr+mbK57A1NDotGB1pMKChrg76iAhEG2JU1UMAfnXjhlo3MO/fDIB+4Q9QeGrJ\\\n",
              "IsqA63X/vF2PUHTbOoY3Md5PhDugaRZx/3f6qyaM6KBDQnQCpgyYwsBH1MqUXbbKLtjmjleum+cY\\\n",
              "HpWhUjmZAzodhk+YJK/1BwB97hiC0VN+i8W/yoWtoUE+DpIkV+OURPgTlUXlpBOdXg9DbKzTmoPh\\\n",
              "jPdvdgGTRrna51c8723VTLn1m+gqFu8R58/qkqVaW3BN+RrkrM7BHavvkK9lrjOjQ3QH1XHi3B8f\\\n",
              "+xhnas7A2miFKdoEY4QRNfU1mLF9hhz+InWR0Ov0kCAhNirWqQ2+rg1IRM0T3boV5Ud83ifXXXeq\\\n",
              "8vnRU36L4ROfkrd3+2zd+4Cu6Q8+MbFEDn+AHO4cw1/KtdchtoMJKb16Nz15ddKIHBYlnVfrH1L4\\\n",
              "YAAkTVKGN2+edyWrSxb0Oj2yumS5PX/p2VJVMBSBTyxArRzrpzxOPC/W/wOA2KhYREdEw1JnkfcZ\\\n",
              "1uv0mDVoljxOULmItS/fCxG1jGOYczc20HEfYOWYQFeLQgP2kDnssV/L78vJGyvvFyyul3LtdfaD\\\n",
              "dTq3baw6dhSW786i6thReZ/hnjcPAAAYYuJgjI9HzkOPeL2wNYUHLgNDmpTVJQtVx6ucwpsYk9fc\\\n",
              "biAAUHq2FDbJplqSpbnzTLxporwFnagyuqo0iueV+xGLWcUJ0QnI6Zaj2l9YvKel3wsRtczNd9+r\\\n",
              "Ck3KSp/yeeXSLcrHyvdUn/9OnkghXnc8v2NAu2noCFyxWORt4wSxsHRF+ZGm9QQlCWeP/xeSzYaK\\\n",
              "8iOoKD8izw5m8NMeVgBJk9yFN8euXE8m3jQRpmgTauprnLpZ3Z3nwYwHseOhHfLM4OaI8zw94Gm5\\\n",
              "m1fMHFZy1d3rrltaHMMuYqKW81TpM8Z1QF3tZafXlOHQ8T0JnbsgIzvH625Ycf0dq/8Xlu/Ooram\\\n",
              "BvrIpppOtDFWnjl85yMT5K3alNfwdts7Ck+cBOIHDiINXYGaIdvcJA9HYn/fUT1HuZzt64mYMCLG\\\n",
              "/lnqLPJ1vWmH4zG+tp2ImhQ/9hBqa6phjOuA/D+tVr3mboZwczNl1y9ZiPJdO+QZvcpjHV8Ts4GN\\\n",
              "8fGoramR1wyU1w6MjdfMrh4twfs3K4CkUb5U+jwRY/Wa62YV1baPj30Mm2STx/C5O85dVa66vhqW\\\n",
              "Ogt00Kmuq2yHu3M4ttXbthORC2JChs65huKustbceoBif+DyXTucqoWOr4mt5HLyxsIYGw8AiIyK\\\n",
              "RkLnLjDGxqO2prpN1+TzZV1Eah9YAfQD/4IgobmKoqi2GSOMqLPVua0AeqrKKXcceW7Qc27DKyt7\\\n",
              "RP5rrloXyHXvRHUvvmMnXDr/vVcVQOVrjm0JxLZtvn5//qyLGAy8f7MCSBQQzc24FdW2Z299Fl+O\\\n",
              "/RIDUwbijtV3IGd1jqpSJ3YVuVx/2W0F77lBzwGA20ohK3tE/nM3Xg8IbPj7ctNHOLJzOySbDZfO\\\n",
              "f49nVv8To6f81qlaOHrKbzHssV/Ly78oX1Me21zbmvu+RBVvR8mfYfnurH2LOC9wPGHoYQAkcsHX\\\n",
              "CRLNhS5ll/Oa8jV4afdLsNRZYK4zq0LjgxkPIi4qzul5x3N4CpyB6t4m0jJPgcZTiPKV8hwZ2TnN\\\n",
              "Hut4Xceu1+ba5vX3JV1dVkZyv7yMkjfb3VH7wgBI5IKva+g1F7qUgXLFwRXyRA4ddMjqkqUKm95U\\\n",
              "8Hyt8nHGL5FvPAUadyGqJePgxLmGT3wKo6f81qtjldd1DHzNVeK8/b5yHnoECZ27IOehR7z+Xii0\\\n",
              "cAygHziGIHwFeh9d5bg85VqATw94Wg6brTlmryX7GxORb3wdB+drV7K7PYSDsQdvqO3964j3b1YA\\\n",
              "iVwKdDeqsmLnuBZgW4zZ83QN7hhCFBi+joPztSvZ1fHB6noNZDc4BQcrgH7gXxDkTihV1UKprUTh\\\n",
              "xJsqmvIYAO2m6sYKYOhjAPQDf4DIHS7FQkSBEGrLq4QK3r/ZBUzUKgLdrctJHETtQ1sveMzlVai1\\\n",
              "sALoB/4FQW2FkziI2getV+RCvetX4P2bFUCikMBJHETtQ2tU5EJpGzVO/ggfDIBEAdKa3bSeZiVz\\\n",
              "5w+ittMas25DKVSxSzp8sAvYDywhkxInfhBRS4RLt2oo4f2bFUCigAlGJY6TQ4jaB2U3rq9dui2t\\\n",
              "KoZS1zG1P6wA+oF/QVCwiapjQnQC4qLiOBGEKEiUk0MAtNpEEWW1UHQdiy7Z9rheoD9aszLK+zcr\\\n",
              "gCguLkbPnj1hNBoxaNAgfPbZZ8FuEpHXRNVRBx0nghAFkXJsXGuOk1OOF1ReR/l8KI0p9CRcvo/2\\\n",
              "StMVwPfeew9jx47Fm2++iUGDBuG1117D2rVrUV5eji5dujT7fv4FQe0Fl4Ih0gZ3VbH2umOIP1gB\\\n",
              "bF2aDoCDBg3CrbfeiqKiIgCAzWZDeno6Jk+ejJkzZzb7fv4AERERhR7evzXcBVxXV4d9+/Zh+PDh\\\n",
              "8nN6vR7Dhw/Hrl27XL7HarXCYrGovoiIiIhCjWYD4HfffYfGxkakpKSonk9JSUFlZaXL98yfPx8m\\\n",
              "k0n+Sk9Pb4umEhEREQWUZgNgS8yaNQtms1n+OnXqVLCbREREROSzyGA3IFg6d+6MiIgIVFVVqZ6v\\\n",
              "qqpCamqqy/cYDAYYDIa2aB4RERFRq9FsBTA6OhoDBw7E5s2b5edsNhs2b96M7OzsILaMiIiIqHVp\\\n",
              "tgIIAM888wzGjRuHH/zgB7jtttvw2muvoaamBo8++miwm0ZERETUajQdAH/xi1/g3LlzeOGFF1BZ\\\n",
              "WYlbbrkFGzZscJoYQkRERBRONL0OoL+4jhAREVHo4f1bw2MAiYiIiLSKAZCIiIhIYxgAiYiIiDSG\\\n",
              "AZCIiIhIYxgAiYiIiDSGAZCIiIhIYxgAiYiIiDSGAZCIiIhIYxgAiYiIiDSGAZCIiIhIYxgAiYiI\\\n",
              "iDSGAZCIiIhIYxgAiYiIiDSGAZCIiIhIYxgAiYiIiDSGAZCIiIhIYxgAiYiIiDSGAZCIiIhIYxgA\\\n",
              "iYiIiDSGAZCIiIhIYxgAiYiIiDSGAZCIiIhIYxgAiYiIiDSGAZCIiIhIYxgAiYiIiDSGAZCIiIhI\\\n",
              "YxgAiYiIiDSGAZCIiIhIYxgAiYiIiDSGAZCIiIhIYxgAiYiIiDSGAZCIiIhIYxgAiYiIiDSGAZCI\\\n",
              "iIhIYxgAiYiIiDSGAZCIiIhIYxgAiYiIiDQmLAPgvHnzcPvttyM2NhaJiYkujzl58iRGjx6N2NhY\\\n",
              "dOnSBc8++ywaGhratqFEREREQRAZ7Aa0hrq6OjzwwAPIzs7GypUrnV5vbGzE6NGjkZqaik8//RRn\\\n",
              "zpzB2LFjERUVhd///vdBaDERERFR29FJkiQFuxGtZdWqVZg6dSouXryoev7jjz/Gj3/8Y1RUVCAl\\\n",
              "JQUA8Oabb2LGjBk4d+4coqOjvTq/xWKByWSC2WxGQkJCoJtPRERErYD37zDtAm7Orl27cNNNN8nh\\\n",
              "DwBGjhwJi8WCQ4cOuX2f1WqFxWJRfRERERGFGk0GwMrKSlX4AyA/rqysdPu++fPnw2QyyV/p6emt\\\n",
              "2k4iIiKi1hAyAXDmzJnQ6XQev44cOdKqbZg1axbMZrP8derUqVa9HhEREVFrCJlJINOnT8f48eM9\\\n",
              "HnPttdd6da7U1FR89tlnqueqqqrk19wxGAwwGAxeXYOIiIiovQqZAJicnIzk5OSAnCs7Oxvz5s3D\\\n",
              "2bNn0aVLFwDApk2bkJCQgH79+gXkGkRERETtVcgEQF+cPHkS58+fx8mTJ9HY2Ij9+/cDAK677jrE\\\n",
              "x8djxIgR6NevHx555BEsXLgQlZWVeP7555Gfn88KHxEREYW9sFwGZvz48XjnnXecnv/kk09w5513\\\n",
              "AgBOnDiBSZMmYevWrYiLi8O4ceOwYMECREZ6n4k5jZyIiCj08P4dpgGwrfAHiIiIKPTw/h1Cs4CJ\\\n",
              "iIiIKDAYAImIiIg0hgGQiIiISGMYAImIiIg0hgGQiIiISGMYAImIiIg0hgGQiIiISGMYAImIiIg0\\\n",
              "hgGQiIiISGMYAImIiIg0hgGQiIiISGMYAImIiIg0hgGQiIiISGMYAImIiIg0hgGQiIiISGMYAImI\\\n",
              "iIg0hgGQiIiISGMYAImIiIg0hgGQiIiISGMYAImIiIg0hgGQiIiISGMYAImIiIg0hgGQiIiISGMY\\\n",
              "AImIiIg0hgGQiIiISGMYAImIiIg0hgGQiIiISGMYAImIiIg0hgGQiIiISGMYAImIiIg0hgGQiIiI\\\n",
              "SGMYAImIiIg0hgGQiIiISGMYAImIiIg0hgGQiIiISGMYAImIiIg0hgGQiIhII8q2n8af/2cnyraf\\\n",
              "DnZTKMjCMgAeP34cEyZMQK9evRATE4PevXtjzpw5qKurUx134MAB/PCHP4TRaER6ejoWLlwYpBYT\\\n",
              "ERG1vi82HEf1eSu+2HA82E2hIIsMdgNaw5EjR2Cz2bB8+XJcd911KCsrw+OPP46amhq88sorAACL\\\n",
              "xYIRI0Zg+PDhePPNN3Hw4EE89thjSExMxBNPPBHk74CIiCjwBozqiS82HMeAUT2D3RQKMp0kSVKw\\\n",
              "G9EWFi1ahGXLluG///0vAGDZsmV47rnnUFlZiejoaADAzJkzsW7dOhw5csSrc1osFphMJpjNZiQk\\\n",
              "JLRa24mIiChweP8O0y5gV8xmMzp27Cg/3rVrF4YMGSKHPwAYOXIkysvLceHCBZfnsFqtsFgsqi8i\\\n",
              "IiKiUKOJAPjNN99g6dKlePLJJ+XnKisrkZKSojpOPK6srHR5nvnz58NkMslf6enprddoIiIiFziR\\\n",
              "gwIhpALgzJkzodPpPH45dt+ePn0ao0aNwgMPPIDHH3/cr+vPmjULZrNZ/jp16pRf5yMiInLUXMDj\\\n",
              "RA4KhJCaBDJ9+nSMHz/e4zHXXnut/O+KigrcdddduP322/HWW2+pjktNTUVVVZXqOfE4NTXV5bkN\\\n",
              "BgMMBkMLWk5EROQdZcDLHNLN6XVO5KBACKkAmJycjOTkZK+OPX36NO666y4MHDgQb7/9NvR6dbEz\\\n",
              "Ozsbzz33HOrr6xEVFQUA2LRpEzIyMpCUlBTwthMREXmjuYCXOaSby2Dor7Ltp+Xrtsb5qX0JqS5g\\\n",
              "b50+fRp33nknunfvjldeeQXnzp1DZWWlamzfL3/5S0RHR2PChAk4dOgQ3nvvPbz++ut45plngthy\\\n",
              "IiLSqrLtp7Hime3Yve6oUwhri3F/7FrWlpCqAHpr06ZN+Oabb/DNN9/gmmuuUb0mVr0xmUzYuHEj\\\n",
              "8vPzMXDgQHTu3BkvvPAC1wAkIqKg+GLDcVgvN8j/VgbA5rqFfeGu0pfaOxGXLlYhtXeiX+en0KCZ\\\n",
              "dQBbA9cRIiKiQCnbfhq71x0FAAzO7e1UAQxU9+yf/2cnqs9bYYiNRLQxAqm9E1F59CLqahthvdyA\\\n",
              "Dh0NGPv7O/y6RnvH+zcDoF/4A0RERK0t0GPzxPlE4NPpAckGORCKsYfhPB6Q9+8w7QImIiIKdY5B\\\n",
              "LRDdv0rdb+yEyqMX5QqgMuyJKmGgr0ntR1hOAiEiImpPWjKJQ4z7A4AOHQ0BW/Zl9nOz8a/t78mh\\\n",
              "zzH8AUD5la34z6G/OF2Ti1CHD1YAiYiIWpnjDFtvuleVy8G4Oq4lXcOFhYVYt+NtAMD1t6YAG+50\\\n",
              "qvQVFxfj9689DwC4eUt3ZA4pdPl9sDIY2lgBJCIiamUDRvWUq3jeLLfiTbhzdx53VbrCwkLMnTtX\\\n",
              "fvz7155H+ZWtqupicXExCgoK5GPmzp2LwsJCl98HhTZWAImIiFqZcvHmiq8vNrvcigh320vK5fc7\\\n",
              "crdgtHjv7nVH5dff3/JHVfgTfv/a8ygqKkLmkDucwp8g3jdm6ONhPTFEazgL2A+cRURERL4SEyyU\\\n",
              "y604VvzKtp/G9pJySDb4vCyL4+SR/xz6i9zt6861Pa7Hf0987fGY3JxHMfzGh8NimRjev1kBJCIi\\\n",
              "alOuKneuxtZFGyPl45VrBIrZu8pKnAh9yhm94rz9ftAb63a4bksmMlGGMjn8iceudOueBp0eXCg6\\\n",
              "THAMIBERURvKHNINY39/h6ob1XFsndgVJNoYgcwh3eTH1ssN+GZfldPYPxEgxWvbVpfLW8rd3GUE\\\n",
              "HrhjslM7xmEclmIp8pAHAMhDHpZiKcZhnNOxRUVFuCVlBCQbcPLQ906vc3Zw6GEAJCIiagW+hCJl\\\n",
              "KCzbfhp1tY0wxEbKgXDAqJ4wxEYiMkqPiEi96jXAXpXT6YHO6R2g0wOQIK8deO5ENX6UmasKgZnI\\\n",
              "xHiMBwA8iSexDuvwJJ4EAIzHeGQiUz62qKgI+fn5HtvPfYRDDwMgERFRK2hpKHLcE7hs+2lkDumG\\\n",
              "ia8OQUyHKDTU2VBX2yAfX7b9NL7ZVwXJBtRW12FIXgYMsZFySEzu0QEAcOdNTSGwDGVYjuXyOUww\\\n",
              "yf9ejuVyN7Ay/A3O7Y0OHQ0YnNvbqc2cHRx6OAnEDxxESkQUWgK9rZov12rusXiPGOvXWG9DQ70N\\\n",
              "kdF6xMRHyeFKTA7R6YEheRly0BSP3X1fG1cewtefV+Gl9x5D5YUTAIB1WKcKf2aYkYtcAEDfvn3x\\\n",
              "1VdftdKnE1y8f7MCSEREGuJPV6WnLl1XrzmO9VMuz/Ln/9mJnWu/lh8r2yeqfw0NNvt/622qCSJD\\\n",
              "8jLk/XvFxA+dHrhuYIoqSDq2p/LoRWw7uE4Of3nIU4U/wF4JFGMCDx8+jOLiYp8/JwoNDIBERKQZ\\\n",
              "/nRVegqP3gRLcW0AqD5vlQOeu2Mg2at81/8gBYbYSNTVNsrdwUPyMuTvo/LoRUg2e8ATdq87iurz\\\n",
              "Vuxc+7UcBMuvbMXanUsB2McAijF/gL3yJzyJJ+UxgAUFBQyBYYoBkIiINMPVDFxveQqP3gRLcW0x\\\n",
              "lu76H6TIY+pExQ6AfIwhNhLRxkikXZ+IaGOEPKnD1bWVARGwdx8DTdXDhfP+IG/vBtjHAK7CKgD2\\\n",
              "MX+5yJXHBK7CKtVSMCIEcqZveOEYQD9wDAERkbZtXHkI3+yrwnUDUzBiwo1uj2tu7KGrxaGVzznu\\\n",
              "C+x4vHgsxgHufP9rNNTZQ+D2r9Zhzf9b6rJdjuv+eVoH8JER0zCo14+5EHSYYAWQiIiohcTs22/2\\\n",
              "VXk8rrkuYlcVRDG2L7V3olPlUnm8WDYGuqZxgRGRV2/vOqBTb/d7Poiwd22P61WPXYlPA2f6hhHu\\\n",
              "BEJERNRC1w1MkSuAnrjbt9cd5dIu3+yrQtr1iU4zh1N7J2J7STkiIvRoqLdd7TKOUC0mPWBUT/wI\\\n",
              "GThR9j0++vzPLq/1wB2T8eMhv0B1t/0u9wIGgEnjp2Fw1/tdVjDbcmY1BQ67gP3AEjIREfnC3dIv\\\n",
              "jvv+ii5dwRBrr9dYrzQAkv24SxetkGwAdIAhxv66q23iVjyzHdbLDVj/+Tv4eJ86BD5wx2Tc2T9X\\\n",
              "Xj7muWnzVGMFAfsewKNvHQ/r5QaX3b+uuq/bO96/2QVMREQUUJ4mS7jqCv5iw3F5XT/lzh860Yt7\\\n",
              "9b/Wyw3yzOABo3riuoEp8ixhMUnE1TZxwugfjMM9A8fKjx/7ybP48ZBfyOGvbPtpZMTcif+Z+pJ8\\\n",
              "zE8Gj8fwGx8G4L77l4tAhyZ2ARMREQWQMuQ5dom66gp2nOABQLV2oDhWrBc4OLc3Mod0Q+aQbvLE\\\n",
              "E1FZTO2dKFcAxfMAEBlt7yYe/YNx0OmAW3JuwLzFzwGwT2TZXlKOiEg9GupsyOh4Jx4ZMQ3fff89\\\n",
              "Rv9gHBobbeh+Yye3k1xEW5rDruL2hV3AfmAJmYiIHHkbdFoaiJS7hYgw6O613euO2iuHOnulUBkO\\\n",
              "xXGiWxk6oEOSQTWGsK620W3Xr6d2uNKeuop5/2YFkIiIqMVchThl9U752PE9V6rr0VBvw+51R70O\\\n",
              "gMrxguIayvc67iPcKBabluwLRSuXmBHH6fU6SDrJaSkbx0knvrTDFV8nwlDrYgAkIiJqIXfdvZ66\\\n",
              "gcVr0DmfT6wrGG2MhPVyA+I7GqAD5IApxguKiR/KMCWWg4mM0iMiSo/U3on4em/T8jSO3c7bVpcD\\\n",
              "EhBljMDEV4eo2qEMfmN/f4c8rtHbdrjb8zjYlT9qwgBIRETUQu6qWu6eFyHNEBupmrEriKVfRHXu\\\n",
              "0tWZwCJIuhovKIjqn5iQsW11ufyaITbS6Xgxc1jsRKLsznWcrCLCoqhWinaIMYcVX19U7Wksdi0R\\\n",
              "YdFdGKbgYQAkIiJqIXcTIJTPKytgypDmOKmibPtp+0SMehsMMZFyCFTODlae13EXEmU4/GLDcfu4\\\n",
              "PofzK7unRTsAqLpzRZAzxEY6nct6pUE+j3JHkksXq+T3G2IjnRapFuei9oPLwBAREbUiZQXM05Ip\\\n",
              "X2w4joY6GzokGTDx1SH40S8z0KGjQV6mRals+2l8vbdpoWjHblexP7D4ctxHWLTD2CEa294tV4U3\\\n",
              "wF7BizZGqM4FHQAJLs9z3cAU+VqDc3vLu5aIoCnORe0HK4BEREStSNld6moRaFFx635jJwAXVdU+\\\n",
              "wPVkEmUIu25gihwyt5eUy8eK8Xe71x11qsCJ14snbZGfM8RGYuKrQ7Bm/l6cO1ENY4do1bGi4pja\\\n",
              "O1F+T8XXF3Hpor2b2nEcofJ7Z/Wv/WEAJCIiakWO3aViLJzjTFrlLF3B3fi51N6JuHSxqftXeS7l\\\n",
              "scqu3oqvL2J7STk6p3eA5dwVAPYZwLZGe//u4NzeAIBzJ6vt/z1Rreo2rjx6EZLN/l9BuV2dq3UC\\\n",
              "vV0jkNoeu4CJiIjagGP3r2omraJCt3HlIbzx1BZsXHlI7n6tq21U7SziGMYyh3TDkLwMp+5l5TVF\\\n",
              "WDt3ohrWyw2wXm6ArVFCZLQeP/plUzdzZGRTNNi97qi8q4mr7muxG0lzeyFT+8OFoP3AhSSJiKil\\\n",
              "3C0E/cZTW+St4Z56Y6hcOTTERiLaGKEKkL4sIi26cEUFUEwygQ7IXzZU1S7HGb3tYfHmQOL9mwHQ\\\n",
              "L/wBIiKiQHOc3SuCoqddOVpi+eStaKi3ITJKjyeX3unymHDdvo33bwZAv/AHiIiImhOoEOUYDP29\\\n",
              "rj/tCvVgyPs3J4EQERF5paWhR0zk2L3uqGrGr1gE2ttzOY77a649Yh9gcU3lws3K97jbss6b74mL\\\n",
              "O4cuTgIhIiLyguPuGN4SkycAyJMvvtlX5fO5XE0i8fYcu9cdRfV5K77+XH1d8bxyzF9L2kKhhxVA\\\n",
              "IiIiL7R0TTvHNfkAICE5Bt+dqkZq70SfumqVY/9ctUdco7HeJs8uHpzbW75uZKQeMR2inL6Hxgab\\\n",
              "aq9fb78nCl1hWwH86U9/iu7du8NoNKJr16545JFHUFFRoTrmwIED+OEPfwij0Yj09HQsXLgwSK0l\\\n",
              "IqL2LnNIN3mHi5aKNkZgcG5v1FbXyd25ykpe2fbT8rIrgrtKn6v2iHX/GuptaKizyTtwDM7tjQ4d\\\n",
              "DbjjgetV7xmc2xuG2Eg01NucrqFcjobCT9gGwLvuugtr1qxBeXk5/va3v+Ho0aMYM2aM/LrFYsGI\\\n",
              "ESPQo0cP7Nu3D4sWLUJhYSHeeuutILaaiIjClbst4ZT/dhX2fOluFesGRkbpVWsLuguv8uOr00GV\\\n",
              "u3woF3mm8BO2XcDTpk2T/92jRw/MnDkTubm5qK+vR1RUFP7617+irq4Of/rTnxAdHY0bb7wR+/fv\\\n",
              "x6uvvoonnngiiC0nIqJwpOyydexCdaziudq2rTmiq3hwbu8Wz/pV7vJx3cAUedYxhR9NLANz/vx5\\\n",
              "TJo0CadPn8aOHTsAAGPHjoXFYsG6devk4z755BMMHToU58+fR1JSUrPn5TRyIiJqL8SC0e7WCXT3\\\n",
              "unJsorvwGG54/w7jCiAAzJgxA0VFRbh8+TIGDx6Mf/3rX/JrlZWV6NWrl+r4lJQU+TVXAdBqtcJq\\\n",
              "tcqPLRZLK7WciIjIN81NUnH3Oid0aFNIjQGcOXMmdDqdx68jR47Ixz/77LMoLS3Fxo0bERERgbFj\\\n",
              "x8Kfguf8+fNhMpnkr/T09EB8W0RERC65mhTiTnOTVAIxiYXCR0h1AZ87dw7ff/+9x2OuvfZaREdH\\\n",
              "Oz3/7bffIj09HZ9++imys7Nb1AXsqgKYnp6u6RIyERGpBXKXjOa6dall2AUcYl3AycnJSE5ObtF7\\\n",
              "bTYbAMgBLjs7G88995w8KQQANm3ahIyMDLfj/wwGAwwGQ4uuT0RE2hDIXTJauvYgUXNCqgLorT17\\\n",
              "9mDv3r3IyclBUlISjh49itmzZ6OqqgqHDh2CwWCA2WxGRkYGRowYgRkzZqCsrAyPPfYYFi9e7PUs\\\n",
              "YP4FQUREjkJ9n1wt4P07TAPgwYMH8fTTT+PLL79ETU0NunbtilGjRuH5559Ht25N/zMeOHAA+fn5\\\n",
              "2Lt3Lzp37ozJkydjxowZXl+HP0BEREShh/fvMA2AbYU/QEREFOq0WLHk/TvEZgETERFRYLnbao7C\\\n",
              "GwMgERGRhvmy1RyFj5CaBUxERESBxYWgtYkVQCIiIiKNYQAkIiIi0hgGQCIiInLLl+3oKHQwABIR\\\n",
              "EZFbnCUcnhgAiYiIyC3OEg5PnAVMREREbnGWcHhiBZCIiIhIYxgAiYiIiDSGAZCIiIhIYxgAiYiI\\\n",
              "iDSGAZCIiIhIYxgAiYiIiDSGAZCIiIhIYxgAiYiIiDSGAZCIiIhIYxgAiYiIiDSGAZCIiIhIYxgA\\\n",
              "iYiIiDSGAZCIiIhIYyKD3YBQJkkSAMBisQS5JUREROQtcd8W93EtYgD0Q3V1NQAgPT09yC0hIiIi\\\n",
              "X1VXV8NkMgW7GUGhk7Qcf/1ks9lQUVGBDh06QKfTBbs5AWexWJCeno5Tp04hISEh2M1pV/jZeMbP\\\n",
              "xzN+Pp7x83GPn41n3n4+kiShuroaaWlp0Ou1ORqOFUA/6PV6XHPNNcFuRqtLSEjgLxo3+Nl4xs/H\\\n",
              "M34+nvHzcY+fjWfefD5arfwJ2oy9RERERBrGAEhERESkMQyA5JbBYMCcOXNgMBiC3ZR2h5+NZ/x8\\\n",
              "POPn4xk/H/f42XjGz8d7nARCREREpDGsABIRERFpDAMgERERkcYwABIRERFpDAMgERERkcYwAJKT\\\n",
              "48ePY8KECejVqxdiYmLQu3dvzJkzB3V1darjDhw4gB/+8IcwGo1IT0/HwoULg9TitjVv3jzcfvvt\\\n",
              "iI2NRWJiostjTp48idGjRyM2NhZdunTBs88+i4aGhrZtaBAVFxejZ8+eMBqNGDRoED777LNgNyko\\\n",
              "tm/fjp/85CdIS0uDTqfDunXrVK9LkoQXXngBXbt2RUxMDIYPH46vv/46OI1tY/Pnz8ett96KDh06\\\n",
              "oEuXLsjNzUV5ebnqmNraWuTn56NTp06Ij4/H/fffj6qqqiC1uG0tW7YM/fv3lxc0zs7Oxscffyy/\\\n",
              "ruXPxtGCBQug0+kwdepU+Tl+Ps1jACQnR44cgc1mw/Lly3Ho0CEsXrwYb775Jv7nf/5HPsZisWDE\\\n",
              "iBHo0aMH9u3bh0WLFqGwsBBvvfVWEFveNurq6vDAAw9g0qRJLl9vbGzE6NGjUVdXh08//RTvvPMO\\\n",
              "Vq1ahRdeeKGNWxoc7733Hp555hnMmTMHX3zxBW6++WaMHDkSZ8+eDXbT2lxNTQ1uvvlmFBcXu3x9\\\n",
              "4cKFWLJkCd58803s2bMHcXFxGDlyJGpra9u4pW1v27ZtyM/Px+7du7Fp0ybU19djxIgRqKmpkY+Z\\\n",
              "Nm0aPvzwQ6xduxbbtm1DRUUF7rvvviC2uu1cc801WLBgAfbt24fPP/8cQ4cOxc9+9jMcOnQIgLY/\\\n",
              "G6W9e/di+fLl6N+/v+p5fj5ekIi8sHDhQqlXr17y4zfeeENKSkqSrFar/NyMGTOkjIyMYDQvKN5+\\\n",
              "+23JZDI5Pf/RRx9Jer1eqqyslJ9btmyZlJCQoPq8wtVtt90m5efny48bGxultLQ0af78+UFsVfAB\\\n",
              "kD744AP5sc1mk1JTU6VFixbJz128eFEyGAzS6tWrg9DC4Dp79qwEQNq2bZskSfbPIioqSlq7dq18\\\n",
              "zOHDhyUA0q5du4LVzKBKSkqSVqxYwc/mqurqaun666+XNm3aJP3oRz+Snn76aUmS+LPjLVYAyStm\\\n",
              "sxkdO3aUH+/atQtDhgxBdHS0/NzIkSNRXl6OCxcuBKOJ7cauXbtw0003ISUlRX5u5MiRsFgs8l/v\\\n",
              "4aqurg779u3D8OHD5ef0ej2GDx+OXbt2BbFl7c+xY8dQWVmp+qxMJhMGDRqkyc/KbDYDgPx7Zt++\\\n",
              "faivr1d9Pn369EH37t019/k0NjaipKQENTU1yM7O5mdzVX5+PkaPHq36HAD+7HgrMtgNoPbvm2++\\\n",
              "wdKlS/HKK6/Iz1VWVqJXr16q40TgqaysRFJSUpu2sT2prKxUhT9A/dmEs++++w6NjY0uv/8jR44E\\\n",
              "qVXtk/hZcPVZhfvPiSObzYapU6fijjvuQGZmJgD75xMdHe00zlZLn8/BgweRnZ2N2tpaxMfH44MP\\\n",
              "PkC/fv2wf/9+zX82JSUl+OKLL7B3716n1/iz4x1WADVk5syZ0Ol0Hr8cb9KnT5/GqFGj8MADD+Dx\\\n",
              "xx8PUstbX0s+GyIKjPz8fJSVlaGkpCTYTWlXMjIysH//fuzZsweTJk3CuHHj8NVXXwW7WUF36tQp\\\n",
              "PP300/jrX/8Ko9EY7OaELFYANWT69OkYP368x2OuvfZa+d8VFRW46667cPvttztN7khNTXWaUSUe\\\n",
              "p6amBqbBbcjXz8aT1NRUp1mvofzZ+KJz586IiIhw+bMR7t+7r8TnUVVVha5du8rPV1VV4ZZbbglS\\\n",
              "q9peQUEB/vWvf2H79u245ppr5OdTU1NRV1eHixcvqio5WvpZio6OxnXXXQcAGDhwIPbu3YvXX38d\\\n",
              "v/jFLzT92ezbtw9nz57FgAED5OcaGxuxfft2FBUV4d///remPx9vMQBqSHJyMpKTk7069vTp07jr\\\n",
              "rrswcOBAvP3229Dr1cXi7OxsPPfcc6ivr0dUVBQAYNOmTcjIyAjJ7l9fPpvmZGdnY968eTh79iy6\\\n",
              "dOkCwP7ZJCQkoF+/fgG5RnsVHR2NgQMHYvPmzcjNzQVg797bvHkzCgoKgtu4dqZXr15ITU3F5s2b\\\n",
              "5cBnsVjkak+4kyQJkydPxgcffICtW7c6DSkZOHAgoqKisHnzZtx///0AgPLycpw8eRLZ2dnBaHLQ\\\n",
              "2Ww2WK1WzX82w4YNw8GDB1XPPfroo+jTpw9mzJiB9PR0TX8+Xgv2LBRqf7799lvpuuuuk4YNGyZ9\\\n",
              "++230pkzZ+Qv4eLFi1JKSor0yCOPSGVlZVJJSYkUGxsrLV++PIgtbxsnTpyQSktLpblz50rx8fFS\\\n",
              "aWmpVFpaKlVXV0uSJEkNDQ1SZmamNGLECGn//v3Shg0bpOTkZGnWrFlBbnnbKCkpkQwGg7Rq1Srp\\\n",
              "q6++kp544gkpMTFRNStaK6qrq+WfDwDSq6++KpWWlkonTpyQJEmSFixYICUmJkr/+Mc/pAMHDkg/\\\n",
              "+9nPpF69eklXrlwJcstb36RJkySTySRt3bpV9Tvm8uXL8jG//vWvpe7du0tbtmyRPv/8cyk7O1vK\\\n",
              "zs4OYqvbzsyZM6Vt27ZJx44dkw4cOCDNnDlT0ul00saNGyVJ0vZn44pyFrAk8fPxBgMgOXn77bcl\\\n",
              "AC6/lL788kspJydHMhgMUrdu3aQFCxYEqcVta9y4cS4/m08++UQ+5vjx49I999wjxcTESJ07d5am\\\n",
              "T58u1dfXB6/RbWzp0qVS9+7dpejoaOm2226Tdu/eHewmBcUnn3zi8mdl3LhxkiTZl4KZPXu2lJKS\\\n",
              "IhkMBmnYsGFSeXl5cBvdRtz9jnn77bflY65cuSI99dRTUlJSkhQbGyv9/Oc/V/0hGs4ee+wxqUeP\\\n",
              "HlJ0dLSUnJwsDRs2TA5/kqTtz8YVxwDIz6d5OkmSpDYsOBIRERFRkHEWMBEREZHGMAASERERaQwD\\\n",
              "IBEREZHGMAASERERaQwDIBEREZHGMAASERERaQwDIBEREZHGMAASERERaQwDIBEREZHGMAASERER\\\n",
              "aQwDIBEREZHGMAASERERaQwDIBEREZHGMAASERERaQwDIBEREZHGMAASERERaQwDIBEREZHGMAAS\\\n",
              "ERERaQwDIBEREZHGMAASERERaQwDIBEREZHGMAASERERaQwDIBEREZHGMAASERERaQwDIBEREZHG\\\n",
              "MAASERERaQwDIBEREZHGMAASERERaQwDIBEREZHGMAASERERaQwDIBEREZHG/H9T2iMVddsKswAA\\\n",
              "AABJRU5ErkJggg==\\\n",
              "\"\n",
              "  frames[1] = \"data:image/png;base64,iVBORw0KGgoAAAANSUhEUgAAAoAAAAHgCAYAAAA10dzkAAAAOnRFWHRTb2Z0d2FyZQBNYXRwbG90\\\n",
              "bGliIHZlcnNpb24zLjEwLjAsIGh0dHBzOi8vbWF0cGxvdGxpYi5vcmcvlHJYcgAAAAlwSFlzAAAP\\\n",
              "YQAAD2EBqD+naQAAN0ZJREFUeJzt3Xt8VPWd//H3hCTDNQNISECCIlhMjLdSLwHkp0IBZa3ZqjW7\\\n",
              "j2qoqMgm7CKsC4iSsJZisRVtEgGrJbi7GtFdY+ut8kOFhwqoyMWQkJ+4KghOCAVmEGFCkvP7Y5xj\\\n",
              "JpmEQC4zme/r6WMecuacOXw9TXPe8/lejsOyLEsAAAAwRky4GwAAAIDORQAEAAAwDAEQAADAMARA\\\n",
              "AAAAwxAAAQAADEMABAAAMAwBEAAAwDAEQAAAAMMQAAEAAAxDAAQAADAMARAAAMAwBEAAAADDEAAB\\\n",
              "AAAMQwAEAAAwDAEQAADAMARAAAAAwxAAAQAADEMABAAAMAwBEAAAwDAEQAAAAMMQAAEAAAxDAAQA\\\n",
              "ADAMARAAAMAwBEAAAADDEAABAAAMQwAEAAAwDAEQAADAMARAAAAAwxAAAQAADEMABAAAMAwBEAAA\\\n",
              "wDAEQAAAAMMQAAEAAAxDAAQAADAMARAAAMAwBEAAAADDEAABAAAMQwAEAAAwDAEQAADAMARAAAAA\\\n",
              "wxAAAQAADEMABAAAMAwBEAAAwDAEQAAAAMMQAAEAAAxDAAQAADAMARAAAMAwBEAAAADDEAABAAAM\\\n",
              "QwAEAAAwDAEQAADAMARAAAAAwxAAAQAADEMABAAAMAwBEAAAwDAEQAAAAMPEhrsBXVl9fb3279+v\\\n",
              "Pn36yOFwhLs5AACgFSzL0tGjRzV48GDFxJhZCyMAtsH+/fuVkpIS7mYAAIAzsHfvXg0ZMiTczQgL\\\n",
              "AmAb9OnTR5L/ByghISHMrQEAAK3h9XqVkpJi38dNRABsg0C3b0JCAgEQAIAuxuThW2Z2fAMAABiM\\\n",
              "AAgAAGAYAiAAAIBhCIAAAACGIQAC7Sg/P19FRUUtHlNUVKT8/PzOaRAAACEwCxhoJ/n5+Vq0aJG9\\\n",
              "nZOT0+SYoqIi5ebmBn0GAIDORgUQaAeNw19ubm6TSmDj8Ldo0SICIAAgLAiAQBs1Dn8BDUNg4/AX\\\n",
              "QAgEAISDw7IsK9yN6Kq8Xq9cLpc8Hg8LQRuqufDXUGpqqioqKlo8Ji8vjyAIAJ2E+zcVQKBNEhMT\\\n",
              "m92XrnRJssNfYPt0zwMAQHsjAAJtkJOTo8LCwibvZytbBSpQlrIkSVnKUoEKlK3sJscWFhaGnDAC\\\n",
              "AEBHoQu4DSghI6DhGL90patABfY+jzxyyWVvz9RMlalMEuEPAMKB+zcVQKBdNKwElqlMK7XS3tcw\\\n",
              "/K3USsIfACDsqAC2Ad8g0FhaWpo95q9UpUHhzyOPMpUpyT8xpLy8PBxNBADjcf+mAgi0m6KiIjv8\\\n",
              "ZSkrKPxJ/kpgYExgRUXFKZ8YAgBARyEAAu2g8RjA6Zpu7/PIY/95uqbbs4FDLRYNAEBnIAACbdR4\\\n",
              "kecylalYxZL8Y/4ylWmPCSxWsT0GUCIEAgDCgzGAbcAYgijz0TPSe8uksfdJl09r1Ueae8KH5K8E\\\n",
              "Ngx7jbcbYkIIAHQe7t9UAIEfvLdM8uz1/7s5Hz0jLUv3/1tSdXV1s4cGwl5qamrQdigtnQcAgPZG\\\n",
              "AAQkf6DzfSv16CelXPlDyGsU+BqHxPz8fOXl5TV72sLCQpWXl4dcLDqAx8ABADpbbLgbAIRVoNu3\\\n",
              "5lvpxGGpez+p7L8lWdLbD0vxvf2B77U50rqHpRHj/Z8be599ikB4a/xM4MKfJyvniu6SZHfvNu4u\\\n",
              "JvwBAMKBCiDMFqjoWZJcKZJD8m9IOn5YOva37w+0/AFx72bpvrImYwQbVwILf56snIu+C+pObvzY\\\n",
              "OMIfgPaQn59/yslkRUVF/L5BECqAMNvY+/whLeVKf7gbPv6HCqAk1X4XfHyvAdKi/tKFfy/d8kzQ\\\n",
              "xJHAL9fExER/5S8woaSBQCWwurqaX8YA2iw/Pz+o9yHUZLLGk9X43QOJWcBtwiyiKPLIuf4K3+no\\\n",
              "0c+fE08c9lcP72t+kgcAtLfG4U9quqJAqJUK6H3g/i3RBQz4Oc7gM8cPS3U+f/hrVOkDgI4UKvxJ\\\n",
              "wWuLNrdM1aJFi4wPgKAC2CZ8g4giHz0jvTb79D8X11Na8E37twcAmtFc+GsoNTXVfjRlc0yuBHL/\\\n",
              "pgIIU330jPTbc/1dv09d45/l6ziD/zvEOpuet+GyMQDQzhITE5vdF3jUZCD8BbZP9zyIfgRARL9Q\\\n",
              "oey9Zf4u3BOHpf1bJVmSVX/65x4+vsV1AgGgvTVeUSAgW9kqUIGylCVJylKWClSgbGU3OZanD4EA\\\n",
              "iOgXKpSNvc8/iaPh4L+4nlJMXOvPO/gy/8zhhuceex9jAgF0uMYhMF3pmqqpkqTpmq5SlWq6pkuS\\\n",
              "pmpqUCWQ8AeJAAgThApll0+T5n4pTfm9f9+Ux/xj+a7/rRTbs3XnPXaw6bkvnxZynUAAaG8NQ2CZ\\\n",
              "yrRSK+19LrnsP6/USvtRlIQ/BDAJpA0YRBoFGqzjFxTafnuuv4vY5pC695Vqfd+vDejwh0eCHoAw\\\n",
              "S0tLs8f8lao0KPx55FGmMiX5J4aUl5eHo4kRh/t3FFcAly9frosvvlgJCQlKSEhQRkaG3njjDXv/\\\n",
              "iRMnlJOTo7POOku9e/fWzTffrKqqqjC2GJ3uo2f8kz88e/2PeWvouof8lb30W76vEP5emvelNOnX\\\n",
              "P2wT/gCEWVFRkR3+spQVFP4kfyUwMCawoqLilE8MgTmitgL4l7/8Rd26ddP5558vy7K0evVqPfro\\\n",
              "o9q6dasuvPBCzZgxQ6+99pqKi4vlcrmUm5urmJgYvf/++63+O/gG0cUtS/eHP8k/HnDul2FtDgCc\\\n",
              "jux/fVjP/n6hJP8YwAIV2Ps88gSFwZmaSTdwA9y/o7gCeOONN+qGG27Q+eefrx/96EdavHixevfu\\\n",
              "rU2bNsnj8eiZZ57RY489puuuu06jRo3SqlWr9MEHH2jTpk3hbjo6y9j7pO79/OHvuoeC97GcC4AI\\\n",
              "VlRUZIc/yT8GsFjFkvxj/jKVaY8JLFaxHf6k4MWiYa6orQA2VFdXpxdffFHZ2dnaunWr3G63xo8f\\\n",
              "r8OHD6tv3772ceecc45mzZql++5r3QxOvkFEsUB1kEe8AehA/7npKy1/93PNuGa4fnnVOa36THNP\\\n",
              "+JD8lcCGYa/xdkMmVwK5f0dxBVCSPv30U/Xu3VtOp1P33nuvXn75ZaWlpcntdis+Pj4o/ElSUlKS\\\n",
              "3G53s+fz+Xzyer1BL0QplnMB0AmWv/u59h05ruXvfh70/n9u+kpjHnlb//z8Vo155G3956av7H3V\\\n",
              "1dXNni8Q9lJTU4O2Q2npPIh+UR0AR44cqW3btmnz5s2aMWOGsrOz2zQDasmSJXK5XPYrJSWlHVuL\\\n",
              "iMJyLgA6wYxrhuvsvj0045rhdugLVAX3HTmuP2/fr31HjivvlTI7BObn5ysvL6/ZcxYWFqq8vDzk\\\n",
              "YtEBJj8GDn5GdAEHTJgwQcOHD9dtt912Rl3APp9PPp/P3vZ6vUpJSTG6hAwAaB+XLnpLR46flEPS\\\n",
              "jZcM1p+37w/a37dHnLblTbQDYu1HL+jD/3kq6JjG3bqhuosJf3QBS1JsuBvQmerr6+Xz+TRq1CjF\\\n",
              "xcVp3bp1uvnmmyVJlZWV2rNnjzIyMpr9vNPplNPpbHY/AACn62cF72nHPo9ivn8wkSU1CX+SdOT4\\\n",
              "SaU+9IZOnKyXJanbj34m15ij8rz/vKTQY/oC24EQSPhDQNQGwPnz5+v666/X0KFDdfToUT333HN6\\\n",
              "99139de//lUul0vTpk3T7Nmz1b9/fyUkJGjmzJnKyMjQVVddFe6mAwAMsmOfR5JU34r+uOMn/c8s\\\n",
              "d0iacvFgbeg+Ve7Ybpr0kx81O6Ej8H51dTXhD7aoDYAHDhzQHXfcoW+++UYul0sXX3yx/vrXv+qn\\\n",
              "P/2pJGnZsmWKiYnRzTffLJ/Pp0mTJunJJ58Mc6sBAKaJcbQu/DVkSdrw/6o17keJ2qDbtV3+iSPN\\\n",
              "zSQ2dbYvmmfUGMD2xhgCAEBbBcb+nYluDqnu+7v42X176P1517Vjy6IX9+8onwUMAEAka7i8y+nq\\\n",
              "2yNOUy4erL494tS3R5xmXDO8HVuGaBe1XcCAPnpGem+Zfy0/lnMBEIGWv/v5GVX/zu7bXe/PG98B\\\n",
              "LYIpqAAier23zP80j/eWhbslABBSYB3AU+nmkH52yeAGxzo6tmGIegRARC+e5gGgi7j4bFeL++ss\\\n",
              "actXh4MWjgbagkkgbcAgUgBAWwQmgDRc5HnxaxU6frIu6LhuDmnRTemtfl4wWsb9mwogAABh56ut\\\n",
              "05hH3pYk9e8Vb7/vkH+yB+EP7Y0ACABAmPzrpJE6u28POWO7ad+R41r+7ueacc1we2bvw5np2pY3\\\n",
              "kfCHdkcXcBtQQgYAtIfA831nXDOcsNcJuH8TANuEHyAAALoe7t90AQMAABiHAAgAAGAYAiAAAIBh\\\n",
              "CIAAAACGIQACAAAYhgAIAABgGAIgAACAYQiAAAAAhiEAAgAAGIYACAAAYBgCIAAAgGEIgAAAAIYh\\\n",
              "AAIAABiGAAgAAGAYAiAAAIBhCIAAAACGIQACAAAYhgCI05Kfn6+ioqIWjykqKlJ+fn7nNAgAAJy2\\\n",
              "2HA3AF1Hfn6+Fi1aZG/n5OQ0OaaoqEi5ublBnwEAAJGFCiBapXH4y83NbVIJbBz+Fi1aRAAEACAC\\\n",
              "EQBxSo3DX0DDENg4/AUQAgEAiDwEQIMdLinRZ9eN1+GSkmaPaS78BeTm5iotLS1k+AsgBAIAEFkI\\\n",
              "gAY7+NQfVbt/vw4+9cdmj0lMTGx2X7rSJUkVFRVB26d7HgAA0LkIgAYbcM/dih08WAPuubvZY3Jy\\\n",
              "clRYWNjk/Wxlq0AFylKWJClLWSpQgbKV3eTYwsLCkBNGAABAeDgsy7LC3Yiuyuv1yuVyyePxKCEh\\\n",
              "IdzN6VANx/ilK10FKrD3eeSRSy57e6Zmqkxlkgh/AIDIY9L9uzlUACNUa8bndaaGlcAylWmlVtr7\\\n",
              "Goa/lVpJ+AMAIMJRAWyDjvwG8dl141W7f79iBw/W+W+va9dzt0VaWpo95q9UpUHhzyOPMpUpSUpN\\\n",
              "TVV5eXk4mggAQIuoAFIBjFitGZ/X2YqKiuzwl6WsoPAn+SuBgTGBFRUVp3xiCAAACA8CYITql5Wl\\\n",
              "899ep35ZWR3697S2q7nxGMDpmm7v88hj/3m6ptuzgUMtFg0AAMKPAGi41iwF03iR5zKVqVjFkvxj\\\n",
              "/jKVaY8JLFaxPQZQIgQCABCJeBZwFDtcUqKDT/1RPS+7TN9t3Wp3Jwfe+/a991R/7Jgkqe7QIR0u\\\n",
              "KWlScWzuCR+rtVpbtMUOeyUqUdn3/zQW+DwTQgAAiAwEwCgWqO55q6qkujodfOqPqj92TPUej7z7\\\n",
              "9wcda504IffDv5akoBBYXV3d7PkDYS81NVUVFRUhw19rzgMAADoXXcBRpPF4vsBEkoTJkxXjcqnu\\\n",
              "0CHVezzNn6CuTu5F/x40HjA/P195eXnNfqSwsFDl5eUhF4sOyMvL41FwAABEEJaBaYNwTSMPdO0O\\\n",
              "uOfuoGpdS0vHVF55VcvhrwFH9+66YNvWoPdCPRN44fk/0qL/V2lvh+ouJvwBACINy8BQAeySmpu4\\\n",
              "0dLSMfXffdfq81s+n11N3DfnX/XZdeP1LxdcoH+7+Wb7mIXn/0iz/j04EDZ+bBzhDwCAyBS1FcAl\\\n",
              "S5bof/7nf7Rr1y716NFDo0eP1m9/+1uNHDnSPubEiROaM2eOSkpK5PP5NGnSJD355JNKSkpq1d8R\\\n",
              "aRXAUMcEJoDUNhrz16LY74eG1tbab8W4XIrp1UuP79iuAf3PCqr8NVZUVKTq6mrCHwAgIlEBjOIA\\\n",
              "OHnyZGVlZenyyy9XbW2tHnjgAZWVlam8vFy9evWSJM2YMUOvvfaaiouL5XK5lJubq5iYGL3//vut\\\n",
              "+jsi4QfoVN3B6tZNqqtr898T43Jp4H2zThk8AQCIdJFw/w63qA2AjVVXV2vgwIFav369xo0bJ4/H\\\n",
              "o8TERD333HO65ZZbJEm7du1SamqqNm7cqKuuuuqU54yEH6Dmxv0FgmFs//46sXOndKb/M8fFydGt\\\n",
              "mxxOpwbeNyso+LWmEgkAQKSJhPt3uBkzBtDz/QSI/v37S5K2bNmikydPasKECfYxF1xwgYYOHaqN\\\n",
              "GzeGPIfP55PX6w16hVtz4/4CTxKp2bv3jMNfwpQpSv10h7r17696j6fJmMPWLCINAAAijxEBsL6+\\\n",
              "XrNmzdKYMWOUnu5/TJnb7VZ8fLz69u0bdGxSUpLcbnfI8yxZskQul8t+paSkdHTTT6mlR8YdLilR\\\n",
              "fUshNabl//m/2+qfCdxcyIzE5xUDAIBTMyIA5uTkqKysTCWneN7tqcyfP18ej8d+7d27t51a2DEO\\\n",
              "PvVHf/WvWzclTJkSvNPhUEyfPs1/2OGwg11zIbOznlcMAADaV9QHwNzcXL366qt65513NGTIEPv9\\\n",
              "5ORk1dTU6MiRI0HHV1VVKTk5OeS5nE6nEhISgl6RLFChS37oQZ39+98pdvDgH3ZalmJ69fJPEmnI\\\n",
              "4ZAkxSQkEOwAAIhSURsALctSbm6uXn75Zb399tsaNmxY0P5Ro0YpLi5O69b9MHGisrJSe/bsUUZG\\\n",
              "Rmc3t0OcqkJXu3+/f4ZwYNmX2Fgl3HCDYgcP1sD7ZnVeQwEAQKeK2mcB5+Tk6LnnntMrr7yiPn36\\\n",
              "2OP6XC6XevToIZfLpWnTpmn27Nnq37+/EhISNHPmTGVkZLRqBnAkON1ZuAPuuVsHlj2u+mPHpLo6\\\n",
              "db/wQtUeOmQ/Hzh24ECd/fvfdULLAQBAOEXtMjCO77syG1u1apWmTp0q6YeFoJ9//vmghaCb6wJu\\\n",
              "LNzTyFt69NvpYDkXAIBJwn3/jgRRGwA7Q7h/gAhuAACcvnDfvyMBAbAN+AECAKDr4f4dxZNAAAAA\\\n",
              "EBoBEAAAwDAEQAAAAMMQAAEAAAxDAAQAADAMARAAAMAwBEAAAADDEAABAAAMQwAEAAAwDAEQAADA\\\n",
              "MARAAAAAwxAAAQAADEMABAAAMAwBEAAAwDAEQAAAAMMQAAEAAAxDAAQAADAMARAAAMAwBEAAAADD\\\n",
              "EAABAAAMQwAEAAAwDAEQAADAMARAAAAAwxAAAQAADEMABAAAMAwBEAAAwDAEQAAAAMMQAAEAAAxD\\\n",
              "AAQAADAMARAAAMAwBEAAAADDEAABAAAMQwAEAAAwDAEQAADAMARAAAAAwxAAAQAADEMABAAAMAwB\\\n",
              "EAAAwDAEQAAAAMMQAAEAAAxDAAQAADAMARAAAMAwURsAN2zYoBtvvFGDBw+Ww+FQaWlp0H7LsrRw\\\n",
              "4UINGjRIPXr00IQJE/TZZ5+Fp7EAAACdKGoD4LFjx3TJJZeoqKgo5P6lS5fqD3/4g1asWKHNmzer\\\n",
              "V69emjRpkk6cONHJLUU0y8/Pb/ZnMKCoqEj5+fmd0yAAACTFhrsBHeX666/X9ddfH3KfZVl6/PHH\\\n",
              "9eCDD+qmm26SJD377LNKSkpSaWmpsrKyOrOpiFL5+flatGiRvZ2Tk9PkmKKiIuXm5gZ9BgCAjha1\\\n",
              "FcCWfPHFF3K73ZowYYL9nsvl0pVXXqmNGzeGsWWIFo3DX25ubpNKYOPwt2jRIgIgAKBTGBkA3W63\\\n",
              "JCkpKSno/aSkJHtfKD6fT16vN+gFNNY4/AU0DIGNw18AIRBAV8EQl64taruAO8KSJUtC3tiBgObC\\\n",
              "X0AgBFZUVDR7TODz/NIEEKkY4tL1GVkBTE5OliRVVVUFvV9VVWXvC2X+/PnyeDz2a+/evR3aTnQ9\\\n",
              "iYmJze5LV7ok2eEvsH265wGAcGKIS3QwMgAOGzZMycnJWrdunf2e1+vV5s2blZGR0eznnE6nEhIS\\\n",
              "gl5AQzk5OSosLGzyfrayVaACZck/wShLWSpQgbKV3eTYwsLCkN+mASDcGOISPaK2C/jbb7/V7t27\\\n",
              "7e0vvvhC27ZtU//+/TV06FDNmjVLv/71r3X++edr2LBheuihhzR48GBlZmaGr9GICoHwFvgFmK50\\\n",
              "TdVUSdJ0TVeWsuSSS5I0VVO1RVtUpjJJhD8AkYshLtElaiuAH3/8sS677DJddtllkqTZs2frsssu\\\n",
              "08KFCyVJ//Zv/6aZM2fqnnvu0eWXX65vv/1Wb775prp37x7OZiNKNKwElqlMK7XS3hcIf5K0UisJ\\\n",
              "fwC6BIa4RBeHZVlWuBvRVXm9XrlcLnk8HrqDEVJaWpr9C7FUpUHhzyOPMpUpSUpNTVV5eXk4mggA\\\n",
              "rRaqezdb2ZqqqVqplSpRibKUpemarmIVa7VWBx0bKV90uX9HcQUQCLeGXSENu30DXHLZYwIrKipO\\\n",
              "uZwCAIRb43HOjYe4lKpU0zVdkn+IS8NKYKSEP/gRAIEG1lSu0cSXJmpN5Zoz2h/Q8FtyutLtX4iS\\\n",
              "v/IXMF3T7V+QoWbSAcDp2L72df0x505tX/t6h52HIS7RgQAIfG9N5Rot3rxY3xz7Rk9/+vQp9zcX\\\n",
              "Bht3kZSpTMUqluT/hZipTPsXZrGK7V+QEiEQQNt8WPqSvAcP6MPSlzr0PDk5OUpNTZUklagk6Iut\\\n",
              "5P+iW6ISSf4hLoS/yEMABL739KdPq96qV4wjRndddJckf+gb+/xYjXl+jP7wyR9Ub9XLIYe+O/md\\\n",
              "nvjkiaCwuKZyjVLvSg25/MFqrdZMzbR/IZaoRDM1s8n4GIkQCODMXZF5ixIGDNQVmbd06HkY4tL1\\\n",
              "Re0yMMDpuuuiu/T0p0/rrovu0i9G/kKS9OhHj+pE3QlJkkMOSZIlS54a/7ddV7zLDotPf/q0/nbw\\\n",
              "b82eP1DpS01NVUVFRVDlr7Hq6uq2/wcBMM4lP71Bl/z0hnY5jyS7AtjwnKca4hIIg9M1XWXf/xM4\\\n",
              "nkpg5KACCLTAV+ez/2yp6YT5oyeP2n++66K7dOkvL9XoqaObPV9hYaHKy8tDLhYdkJeXxxpZADpM\\\n",
              "a8cJhuoGZohL9KACCHzv6U+ftrt0fzHyF1pTuUbObk67AhhKvVWvhzc9LEn6xchf6Bcjf6GJmqjE\\\n",
              "w4mqfiW4itdwEHTjxaIDCH8AOlrjYPdh6Uu6IvOWJpXDKzJvsfdJzT/hY7VWBy1oX6ISu/LXGJXA\\\n",
              "yEEFEPjeXRfdpUG9BumygZdp4ksTtWTzEp2oO6EYx6n/b/Lwpoc15vkxWlO5xq4E3pLzw9iZUDPg\\\n",
              "Gi+nQPgD0Bkaju8LhMF1f1oRsiJYc/y43it5VtvXvt7i0JSGQ1wabofCEJfIwELQbcBCktFp4ksT\\\n",
              "9c2xb87os4N6DdJbt7xlb+fn5ysxMbHFb7tFRUWqrq4m/AHoUNvXvq73nv8P1dbWSJYkh1RfW6f6\\\n",
              "ulpJCgqFDcNhYN/dRX9q8XFwgS+6zVUKpcj5osv9mwDYJvwARae5G+bq9S9Ofw2tWEesesX10j//\\\n",
              "+J/tSSQAEAm2r31d//fpJ5s/wOFQbHy8an3+cc+xTqeuuX2a3nv+PySHpbFZd9hdxKFCYONejlAh\\\n",
              "MFLCn8T9W6ILGGhi64GtZ/S5WqtWnhpPyDUEASCcTrkuoGXZ4U+San0+vVfyrMb+w+0am3WHPix9\\\n",
              "ye4izs/P1/Rf/qN9LENcuiYmgQCNBJaDuWzgZdp6YKv978MnDrc4IURS0BqCABAprsi8peUKYAgn\\\n",
              "vv1Wbxc/pfq6Osmy9F7Js3YVcFSCUz9NO18Dzjqr2SEugfcZ4hKZ6AJuA0rIZllTuUZPfPKEvDXe\\\n",
              "kPsDXcBjzh6jrQe2Bq0nCADhtn3t61r3pxWy6uvP6POxTqd69nHZs4Kbmz3cFXD/JgC2CT9A0WlN\\\n",
              "5ZomC0I3dNHqi+w/d+/WvdmqYIwjRguuXEAIBBB229e+rg9LX5IlS0cPtn4WbtJ5I+Q54JYs/0L4\\\n",
              "J44dtSeEdGXcvxkDCDTRcD3AUG4YdoNiHDG6YdgNiu8W3+x56q16xgMCCJuGCz6/9/x/yHvwwGmF\\\n",
              "Pzkc+uWSx5XzTIly/vS8xv7D7e3ymDlEBiqAbcA3iOh0qgpgqGMbjxcM/JtuYADh0LC7N2HAQNWc\\\n",
              "+E4nvv32tM8z54VXO6B14cf9mwDYJvwAAQAi0R9z7pT34AE5YmI0/s57JSnk+D+HI0aWVR/YUGxc\\\n",
              "vGpr/LOB+wxIlEOOLjvOryXcv+kCBtrVmso1mvjSRK2pXBPupgAwWOBpH+PvvFeX/PQGXfLTGzT+\\\n",
              "znuVMGCg+gxIlOQf3zd+2r2KjXdKkmLj43XNHdM054VXNeeFV+WQo8mzgBE9qAC2Ad8g0FjgKSKN\\\n",
              "nwgCAJEsUDFsOMEjMHGECmB0Yh1AoB0F1hBkLUAAkWD72tf1XsmzkuXQ2H+4vdkg1/ARcAGByiGi\\\n",
              "ExXANuAbBAAgkgUqe5KiYvmW9sL9mzGAAABErSsyb1H33r3VvVcflm9BECqAbcA3CAAAuh7u31QA\\\n",
              "AQAAjEMABAAAMAwBEAAAwDAEQAAAAMMQAAEAAAxDAAQAADAMARAAAESc7Wtf1x9z7tT2ta+HuylR\\\n",
              "iQAIAAAizoelL8l78IA+LH0p3E2JSgRAAAAQca7IvEUJAwbyBJMOwpNA2oCVxAEA6Hq4f1MBBAAA\\\n",
              "MA4BEAAAwDAEQAAAAMMQAAEAAAxDAAQAADAMARAAAMAwBEAAAADDEAABAAAMQwAEAAAwDAEQAADA\\\n",
              "MARAAAAAwxgfAIuKinTuueeqe/fuuvLKK/Xhhx+Gu0kAAAAdyugA+MILL2j27NnKy8vTJ598oksu\\\n",
              "uUSTJk3SgQMHwt00AACADmN0AHzsscd0991361e/+pXS0tK0YsUK9ezZU3/605/C3TQAAIAOY2wA\\\n",
              "rKmp0ZYtWzRhwgT7vZiYGE2YMEEbN24M+Rmfzyev1xv0AgAA6GqMDYAHDx5UXV2dkpKSgt5PSkqS\\\n",
              "2+0O+ZklS5bI5XLZr5SUlM5oKgAAQLsyNgCeifnz58vj8divvXv3hrtJAAAApy023A0IlwEDBqhb\\\n",
              "t26qqqoKer+qqkrJyckhP+N0OuV0OjujeQAAAB3G2ApgfHy8Ro0apXXr1tnv1dfXa926dcrIyAhj\\\n",
              "ywAAADqWsRVASZo9e7ays7P1k5/8RFdccYUef/xxHTt2TL/61a/C3TQAAIAOY3QAvO2221RdXa2F\\\n",
              "CxfK7Xbr0ksv1ZtvvtlkYggAAEA0cViWZYW7EV2V1+uVy+WSx+NRQkJCuJsDAABagfu3wWMAAQAA\\\n",
              "TEUABAAAMAwBEAAAwDAEQAAAAMMQAAEAAAxDAAQAADAMARAAAMAwBEAAAADDEAABAAAMQwAEAAAw\\\n",
              "DAEQAADAMARAAAAAwxAAAQAADEMABAAAMAwBEAAAwDAEQAAAAMMQAAEAAAxDAAQAADAMARAAAMAw\\\n",
              "BEAAAADDEAABAAAMQwAEAAAwDAEQAADAMARAAAAAwxAAAQAADEMABAAAMAwBEAAAwDAEQAAAAMMQ\\\n",
              "AAEAAAxDAAQAADAMARAAAMAwBEAAAADDEAABAAAMQwAEAAAwDAEQAADAMARAAAAAwxAAAQAADEMA\\\n",
              "BAAAMAwBEAAAwDAEQAAAAMMQAAEAAAxDAAQAADAMARAAAMAwURkAFy9erNGjR6tnz57q27dvyGP2\\\n",
              "7NmjKVOmqGfPnho4cKDuv/9+1dbWdm5DAQAAwiA23A3oCDU1Nbr11luVkZGhZ555psn+uro6TZky\\\n",
              "RcnJyfrggw/0zTff6I477lBcXJx+85vfhKHFAAAAncdhWZYV7kZ0lOLiYs2aNUtHjhwJev+NN97Q\\\n",
              "3/3d32n//v1KSkqSJK1YsUJz585VdXW14uPjW3V+r9crl8slj8ejhISE9m4+AADoANy/o7QL+FQ2\\\n",
              "btyoiy66yA5/kjRp0iR5vV7t3LkzjC0DAADoeFHZBXwqbrc7KPxJsrfdbnezn/P5fPL5fPa21+vt\\\n",
              "mAYCAAB0oC5TAZw3b54cDkeLr127dnVoG5YsWSKXy2W/UlJSOvTvAwAA6AhdpgI4Z84cTZ06tcVj\\\n",
              "zjvvvFadKzk5WR9++GHQe1VVVfa+5syfP1+zZ8+2t71eLyEQAAB0OV0mACYmJioxMbFdzpWRkaHF\\\n",
              "ixfrwIEDGjhwoCRp7dq1SkhIUFpaWrOfczqdcjqd7dIGAACAcOkyAfB07NmzR4cOHdKePXtUV1en\\\n",
              "bdu2SZJGjBih3r17a+LEiUpLS9Ptt9+upUuXyu1268EHH1ROTg4BDwAARL2oXAZm6tSpWr16dZP3\\\n",
              "33nnHV1zzTWSpK+++kozZszQu+++q169eik7O1uPPPKIYmNbn4mZRg4AQNfD/TtKA2Bn4QcIAICu\\\n",
              "h/t3F5oFDAAAgPZBAAQAADAMARAAAMAwBEAAAADDEAABAAAMQwAEAAAwDAEQAADAMARAAAAAwxAA\\\n",
              "AQAADEMABAAAMAwBEAAAwDAEQAAAAMMQAAEAAAxDAAQAADAMARAAAMAwBEAAAADDEAABAAAMQwAE\\\n",
              "AAAwDAEQAADAMARAAAAAwxAAAQAADEMABAAAMAwBEAAAwDAEQAAAAMMQAAEAAAxDAAQAADAMARAA\\\n",
              "AMAwBEAAAADDEAABAAAMQwAEAAAwDAEQAADAMARAAAAAwxAAAQAADEMABAAAMAwBEAAAwDAEQAAA\\\n",
              "AMMQAAEAAAxDAAQAADAMARAAAMAwBEAAAADDEAABAAAMQwAEAAAwDAEQAADAMARAAAAAw0RlAPzy\\\n",
              "yy81bdo0DRs2TD169NDw4cOVl5enmpqaoON27Nihq6++Wt27d1dKSoqWLl0aphYDAAB0nthwN6Aj\\\n",
              "7Nq1S/X19Vq5cqVGjBihsrIy3X333Tp27Jh+97vfSZK8Xq8mTpyoCRMmaMWKFfr000915513qm/f\\\n",
              "vrrnnnvC/F8AAADQcRyWZVnhbkRnePTRR7V8+XL97//+ryRp+fLlWrBggdxut+Lj4yVJ8+bNU2lp\\\n",
              "qXbt2tWqc3q9XrlcLnk8HiUkJHRY2wEAQPvh/h2lXcCheDwe9e/f397euHGjxo0bZ4c/SZo0aZIq\\\n",
              "Kyt1+PDhkOfw+Xzyer1BLwAAgK7GiAC4e/duFRQUaPr06fZ7brdbSUlJQccFtt1ud8jzLFmyRC6X\\\n",
              "y36lpKR0XKMBAAA6SJcKgPPmzZPD4Wjx1bj7dt++fZo8ebJuvfVW3X333W36++fPny+Px2O/9u7d\\\n",
              "26bzAQAAhEOXmgQyZ84cTZ06tcVjzjvvPPvP+/fv17XXXqvRo0frqaeeCjouOTlZVVVVQe8FtpOT\\\n",
              "k0Oe2+l0yul0nkHLAQAAIkeXCoCJiYlKTExs1bH79u3Ttddeq1GjRmnVqlWKiQkudmZkZGjBggU6\\\n",
              "efKk4uLiJElr167VyJEj1a9fv3ZvOwAAQKToUl3ArbVv3z5dc801Gjp0qH73u9+purpabrc7aGzf\\\n",
              "P/7jPyo+Pl7Tpk3Tzp079cILL+iJJ57Q7Nmzw9hyAACAjtelKoCttXbtWu3evVu7d+/WkCFDgvYF\\\n",
              "Vr1xuVx66623lJOTo1GjRmnAgAFauHAhawACAICoZ8w6gB2BdYQAAOh6uH9HaRcwAAAAmkcABAAA\\\n",
              "MAwBEAAAwDAEQAAAAMMQAAEAQJvk5+erqKioxWOKioqUn5/fOQ3CKUXlMjAAAKBz5Ofna9GiRfZ2\\\n",
              "Tk5Ok2OKioqUm5sb9BmEFxVAAABwRhqHv9zc3CaVwMbhb9GiRQTACEAABAAAp61x+AtoGAIbh78A\\\n",
              "QmD4sRB0G7CQJADARM2Fv4ZSU1NVUVHR4jF5eXlhCYLcv6kAAgCA05SYmNjsvnSlS5Id/gLbp3se\\\n",
              "dCwCIAAAOC05OTkqLCxs8n62slWgAmUpS5KUpSwVqEDZym5ybGFhYcgJI+gcdAG3ASVkAIDJGo7x\\\n",
              "S1e6ClRg7/PII5dc9vZMzVSZyiSFP/xx/6YCCAAAzlDDSmCZyrRSK+19DcPfSq2MmPAHPyqAbcA3\\\n",
              "CAAApLS0NHvMX6lKg8KfRx5lKlOSf2JIeXl5OJoYhPs3FUAAANAGRUVFdvjLUlZQ+JP8lcDAmMCK\\\n",
              "iopTPjEEnYMACAAAzkjjMYDTNd3e55HH/vN0TbdnA4daLBqdjwAIAIBhyjbs07MPvK+yDftCbrdG\\\n",
              "40Wey1SmYhVL8o/5y1SmPSawWMX2GECJEBgJeBYwAACG+eTNL3X0kE+fvPml0sed3WS7sbee2and\\\n",
              "W6o0YlSSJk67sNknfKzWam3RFjvslahEZd//01jg80wICQ8qgAAAGObHk89Vn/5O/XjyuUHbycP7\\\n",
              "6unZG/T07A1B1cHPPqqSVS999nGVJKm6urrZcwfCXmpqatB2KC2dBx2LAAgAgGHSx52tO34zpkm1\\\n",
              "74tt1fJ9Vyvfd7Va/1ylyjbs0ydvfmnvdzikZx94X6NTblXm2F81e/7CwkKVl5eHXCw6IFyPgYMf\\\n",
              "XcAAABgu0AXc2PrnKoO2rXrp6CGfjh6u0oQLf6m6Wkt/2VQcdEzDdf4C/27cXUz4Cz8CIAAAUSpQ\\\n",
              "wUse3lfuz4/ox5PPVfq4s1W2YZ82lX4uSboqc7iSh/fV0UNVrT5vbFyMevSO088yfqXak/V6Y8uz\\\n",
              "kkIv8tw4BBL+IgMBEACAKBWo7H17xD+Gr+GkD993tZJkB8HT0W9QL6WNGaxNpZ/r5+Om6dyLztKF\\\n",
              "Pxne7ISOwPvV1dWEvwjBk0DagJXEAQCRrGEFcM/Ov0nyV/wkaf3zlZIlOXv6a0GBQNhaffo7dfSQ\\\n",
              "T44YaVzWyJCzhyMV928mgQAAELUCkz0mTrtQ8d27yfddrV0F/D//MFJ9+jt1VeZwOxSejmNHaiT5\\\n",
              "xwWeSRUR4UUXMAAABvjx5HP1yZtf2ku/BCp2gQrh6aqv/6ED0fddrYpmvK3EoX104miNPdYQkYsA\\\n",
              "CACAARoGvsB2wzGCbWZJ1V8dtf8OAmBkowsYAABDNHzih+SvCjp7xqpbbIxiYhytPk9g3KAkxcQ4\\\n",
              "FNPNITmkxHP6BC0wjchFBRAAAEM07gbe/9kRe/KHo0FJKBDw6k7Wq77eUn3dD929sXHfH+iQZEm9\\\n",
              "+sbrjt+M6Yzmox0RAAEAMET6uLODumZ3b/mh63fEqKSgmcKNu3CffeB9HT3kU11dvWpP1ksOf1Ck\\\n",
              "2tc1EQABADDUiFFJ2r2lSiNGJWnitAtbPDZQPUwe3le7t/jXFYzv3o2xfl0U6wC2AesIAQBMFFhf\\\n",
              "sKvO9uX+TQUQAACcpsZdyeh6mAUMAADOWNmGfXr2gfdVtmFfuJuC00AABAAAZ6zx0jLoGgiAAADg\\\n",
              "jP148rms/dcFMQYQAACcMcYDdk1UAAEAAAxDAAQAADAMARAAAMAwBEAAAADDEAABAAAMQwAEAAAw\\\n",
              "TNQGwJ/97GcaOnSounfvrkGDBun222/X/v37g47ZsWOHrr76anXv3l0pKSlaunRpmFoLAADQeaI2\\\n",
              "AF577bVas2aNKisr9d///d/6/PPPdcstt9j7vV6vJk6cqHPOOUdbtmzRo48+qvz8fD311FNhbDUA\\\n",
              "AEDHc1iWZYW7EZ3hz3/+szIzM+Xz+RQXF6fly5drwYIFcrvdio+PlyTNmzdPpaWl2rVrV6vO6fV6\\\n",
              "5XK55PF4lJCQ0JHNBwAA7YT7dxRXABs6dOiQ/uu//kujR49WXFycJGnjxo0aN26cHf4kadKkSaqs\\\n",
              "rNThw4fD1VQAAIAOF9UBcO7cuerVq5fOOuss7dmzR6+88oq9z+12KykpKej4wLbb7Q55Pp/PJ6/X\\\n",
              "G/QCAADoarpUAJw3b54cDkeLr4bdt/fff7+2bt2qt956S926ddMdd9yhtvR4L1myRC6Xy36lpKS0\\\n",
              "x38WAABAp+pSYwCrq6v1t7/9rcVjzjvvvKBu3YCvv/5aKSkp+uCDD5SRkaE77rhDXq9XpaWl9jHv\\\n",
              "vPOOrrvuOh06dEj9+vVrcg6fzyefz2dve71epaSkGD2GAACAroYxgFJsuBtwOhITE5WYmHhGn62v\\\n",
              "r5ckO8BlZGRowYIFOnnypD0ucO3atRo5cmTI8CdJTqdTTqfT3g5kZ7qCAQDoOgL37S5UA2t3XaoC\\\n",
              "2FqbN2/WRx99pLFjx6pfv376/PPP9dBDD6mqqko7d+6U0+mUx+PRyJEjNXHiRM2dO1dlZWW68847\\\n",
              "tWzZMt1zzz2t+nsCVUUAAND17N27V0OGDAl3M8IiKgPgp59+qn/5l3/R9u3bdezYMQ0aNEiTJ0/W\\\n",
              "gw8+qLPPPts+bseOHcrJydFHH32kAQMGaObMmZo7d26r/576+nrt379fffr0kcPhaPf/jkAX8969\\\n",
              "e40tUbcHrmP74Dq2HdewfXAd24fJ19GyLB09elSDBw9WTEyXmg7RbqIyAEYLxii0D65j++A6th3X\\\n",
              "sH1wHdsH19FsZsZeAAAAgxEAAQAADEMAjGBOp1N5eXlBM49x+riO7YPr2HZcw/bBdWwfXEezMQYQ\\\n",
              "AADAMFQAAQAADEMABAAAMAwBEAAAwDAEQAAAAMMQACPQl19+qWnTpmnYsGHq0aOHhg8frry8PNXU\\\n",
              "1AQdt2PHDl199dXq3r27UlJStHTp0jC1OHItXrxYo0ePVs+ePdW3b9+Qx+zZs0dTpkxRz549NXDg\\\n",
              "QN1///2qra3t3IZGuKKiIp177rnq3r27rrzySn344YfhblJE27Bhg2688UYNHjxYDodDpaWlQfst\\\n",
              "y9LChQs1aNAg9ejRQxMmTNBnn30WnsZGqCVLlujyyy9Xnz59NHDgQGVmZqqysjLomBMnTignJ0dn\\\n",
              "nXWWevfurZtvvllVVVVhanFkWr58uS6++GIlJCQoISFBGRkZeuONN+z9XENzEQAj0K5du1RfX6+V\\\n",
              "K1dq586dWrZsmVasWKEHHnjAPsbr9WrixIk655xztGXLFj366KPKz8/XU089FcaWR56amhrdeuut\\\n",
              "mjFjRsj9dXV1mjJlimpqavTBBx9o9erVKi4u1sKFCzu5pZHrhRde0OzZs5WXl6dPPvlEl1xyiSZN\\\n",
              "mqQDBw6Eu2kR69ixY7rkkktUVFQUcv/SpUv1hz/8QStWrNDmzZvVq1cvTZo0SSdOnOjklkau9evX\\\n",
              "KycnR5s2bdLatWt18uRJTZw4UceOHbOPue+++/SXv/xFL774otavX6/9+/fr5z//eRhbHXmGDBmi\\\n",
              "Rx55RFu2bNHHH3+s6667TjfddJN27twpiWtoNAtdwtKlS61hw4bZ208++aTVr18/y+fz2e/NnTvX\\\n",
              "GjlyZDiaF/FWrVpluVyuJu+//vrrVkxMjOV2u+33li9fbiUkJARdW5NdccUVVk5Ojr1dV1dnDR48\\\n",
              "2FqyZEkYW9V1SLJefvlle7u+vt5KTk62Hn30Ufu9I0eOWE6n03r++efD0MKu4cCBA5Yka/369ZZl\\\n",
              "+a9ZXFyc9eKLL9rHVFRUWJKsjRs3hquZXUK/fv2sp59+mmtoOCqAXYTH41H//v3t7Y0bN2rcuHGK\\\n",
              "j4+335s0aZIqKyt1+PDhcDSxS9q4caMuuugiJSUl2e9NmjRJXq/X/oZsspqaGm3ZskUTJkyw34uJ\\\n",
              "idGECRO0cePGMLas6/riiy/kdruDrqnL5dKVV17JNW2Bx+ORJPv34JYtW3Ty5Mmg63jBBRdo6NCh\\\n",
              "XMdm1NXVqaSkRMeOHVNGRgbX0HAEwC5g9+7dKigo0PTp0+333G53UGiRZG+73e5ObV9XxnVs2cGD\\\n",
              "B1VXVxfyGnF9zkzgunFNW6++vl6zZs3SmDFjlJ6eLsl/HePj45uM7eU6NvXpp5+qd+/ecjqduvfe\\\n",
              "e/Xyyy8rLS2Na2g4AmAnmjdvnhwOR4uvXbt2BX1m3759mjx5sm699VbdfffdYWp5ZDmT6wig68rJ\\\n",
              "yVFZWZlKSkrC3ZQuaeTIkdq2bZs2b96sGTNmKDs7W+Xl5eFuFsIsNtwNMMmcOXM0derUFo8577zz\\\n",
              "7D/v379f1157rUaPHt1kckdycnKTmVqB7eTk5PZpcIQ63evYkuTk5CYzWk25jq0xYMAAdevWLeTP\\\n",
              "GtfnzASuW1VVlQYNGmS/X1VVpUsvvTRMrYpcubm5evXVV7VhwwYNGTLEfj85OVk1NTU6cuRIUAWL\\\n",
              "n82m4uPjNWLECEnSqFGj9NFHH+mJJ57QbbfdxjU0GAGwEyUmJioxMbFVx+7bt0/XXnutRo0apVWr\\\n",
              "VikmJrhYm5GRoQULFujkyZOKi4uTJK1du1YjR45Uv3792r3tkeR0ruOpZGRkaPHixTpw4IAGDhwo\\\n",
              "yX8dExISlJaW1i5/R1cWHx+vUaNGad26dcrMzJTk745bt26dcnNzw9u4LmrYsGFKTk7WunXr7MDn\\\n",
              "9Xrt6gz8LMvSzJkz9fLLL+vdd9/VsGHDgvaPGjVKcXFxWrdunW6++WZJUmVlpfbs2aOMjIxwNLnL\\\n",
              "qK+vl8/n4xqaLtyzUNDU119/bY0YMcIaP3689fXXX1vffPON/Qo4cuSIlZSUZN1+++1WWVmZVVJS\\\n",
              "YvXs2dNauXJlGFseeb766itr69at1qJFi6zevXtbW7dutbZu3WodPXrUsizLqq2ttdLT062JEyda\\\n",
              "27Zts958800rMTHRmj9/fphbHjlKSkosp9NpFRcXW+Xl5dY999xj9e3bN2jmNIIdPXrU/lmTZD32\\\n",
              "2GPW1q1bra+++sqyLMt65JFHrL59+1qvvPKKtWPHDuumm26yhg0bZh0/fjzMLY8cM2bMsFwul/Xu\\\n",
              "u+8G/Q787rvv7GPuvfdea+jQodbbb79tffzxx1ZGRoaVkZERxlZHnnnz5lnr16+3vvjiC2vHjh3W\\\n",
              "vHnzLIfDYb311luWZXENTUYAjECrVq2yJIV8NbR9+3Zr7NixltPptM4++2zrkUceCVOLI1d2dnbI\\\n",
              "6/jOO+/Yx3z55ZfW9ddfb/Xo0cMaMGCANWfOHOvkyZPha3QEKigosIYOHWrFx8dbV1xxhbVp06Zw\\\n",
              "NymivfPOOyF/7rKzsy3L8i8F89BDD1lJSUmW0+m0xo8fb1VWVoa30RGmud+Bq1atso85fvy49U//\\\n",
              "9E9Wv379rJ49e1p///d/H/RFGZZ15513Wuecc44VHx9vJSYmWuPHj7fDn2VxDU3msCzL6sSCIwAA\\\n",
              "AMKMWcAAAACGIQACAAAYhgAIAABgGAIgAACAYQiAAAAAhiEAAgAAGIYACAAAYBgCIAAAgGEIgAAA\\\n",
              "AIYhAAIAABiGAAgAAGAYAiAAAIBhCIAAAACGIQACAAAYhgAIAABgGAIgAACAYQiAAAAAhiEAAgAA\\\n",
              "GIYACAAAYBgCIAAAgGEIgAAAAIYhAAIAABiGAAgAAGAYAiAAAIBhCIAAAACGIQACAAAYhgAIAABg\\\n",
              "GAIgAACAYQiAAAAAhiEAAgAAGIYACAAAYJj/Dy35NkA/0MJSAAAAAElFTkSuQmCC\\\n",
              "\"\n",
              "  frames[2] = \"data:image/png;base64,iVBORw0KGgoAAAANSUhEUgAAAoAAAAHgCAYAAAA10dzkAAAAOnRFWHRTb2Z0d2FyZQBNYXRwbG90\\\n",
              "bGliIHZlcnNpb24zLjEwLjAsIGh0dHBzOi8vbWF0cGxvdGxpYi5vcmcvlHJYcgAAAAlwSFlzAAAP\\\n",
              "YQAAD2EBqD+naQAAJu5JREFUeJzt3X9sXXdh//9XQhs3pfUtoW5MlGSEdWsdBYoUaGvYEJSsoeoQ\\\n",
              "GT9ENIk60A/LpziRSiq0ZkDtSLB0he8GJKbNtK3p/iipKq1hsDGoQlukEcoIitY0SUU1WCKCUzNW\\\n",
              "u0SrU5L7/SMf39mOnSZ14pt7348HuiL3nuObd6+ie59+n/c5d0a1Wq0GAIBizKz3AAAAmF4CEACg\\\n",
              "MAIQAKAwAhAAoDACEACgMAIQAKAwAhAAoDACEACgMAIQAKAwAhAAoDACEACgMAIQAKAwAhAAoDAC\\\n",
              "EACgMAIQAKAwAhAAoDACEACgMAIQAKAwAhAAoDACEACgMAIQAKAwAhAAoDACEACgMAIQAKAwAhAA\\\n",
              "oDACEACgMAIQAKAwAhAAoDACEACgMAIQAKAwAhAAoDACEACgMAIQAKAwAhAAoDACEACgMAIQAKAw\\\n",
              "AhAAoDACEACgMAIQAKAwAhAAoDACEACgMAIQAKAwAhAAoDACEACgMAIQAKAwAhAAoDACEACgMAIQ\\\n",
              "AKAwAhAAoDACEACgMAIQAKAwAhAAoDACEACgMAIQAKAwAhAAoDACEACgMBfUewCN7Pjx4zl06FAu\\\n",
              "vfTSzJgxo97DAQBOQ7VazQsvvJB58+Zl5swy58IE4BQcOnQoCxYsqPcwAIBX4ODBg5k/f369h1EX\\\n",
              "AnAKLr300iQn/gG1trbWeTQAwOkYGhrKggULap/jJRKAUzBy2Le1tVUAAkCDKXn5VpkHvgEACiYA\\\n",
              "AQAKIwABAAojAAEACiMAYZTe3t709fWdcp++vr709vZOz4AA4BxwFjD8P729vdmwYUPtfnd390n7\\\n",
              "9PX1Zc2aNWN+BgAajRlAyMnxt2bNmpNmAsfH34YNGwQgAA1JAFK88fE3YnQEjo+/ESIQgEY0o1qt\\\n",
              "Vus9iEY1NDSUSqWSwcFBF4JuUJPF32gdHR3Zt2/fKffp6ekRggANwue3GUAK19bWNum2JVmSJLX4\\\n",
              "G7l/ps8DAOcbAUjRuru7s3nz5pMe70pXNmVTVmZlkmRlVmZTNqUrXSftu3nz5glPGAGA85VDwFNg\\\n",
              "Crl5jF7jtyRLsimbatsGM5hKKrX7a7M2e7InifgDaEQ+v80AQpKxM4F7sidbsqW2bXT8bckW8QdA\\\n",
              "wzMDOAV+g2g+ixcvrq35257tY+JvMINZkRVJTpwYsnfv3noMEYAp8vltBhBq+vr6avG3MivHxF9y\\\n",
              "YiZwZE3gvn37XvYbQwDgfCUAISevAVyd1bVtgxms/Xl1VtfOBp7oYtEA0AgEIMUbf5HnPdmTrdma\\\n",
              "5MSavxVZUVsTuDVba2sAExEIQGOyBnAKrCFofJN9w0dyYiZwdOyNvz+aE0IAGofPbzOAFG5gYGDS\\\n",
              "bSOx19HRMeb+mT4PAJxvBCBF6+3tTU9Pz6TbN2/enL179054segRvgYOgEYjACneZBE4+rDuZN8Y\\\n",
              "Iv4AaEQCEHJyBE60pm98BIo/ABrVBfUeAJwvRmKura1t0hM6Rh4fGBgQf0BD6+3tPeX7XXLiRDnv\\\n",
              "d81JAMIop/Mm52xfoNH19vZmw4YNtfsTva+Nv0qCCGwuDgEDQEHGx99E1zMdH38bNmwQgE3GDCDN\\\n",
              "qbcy7v7gxPsBFGR8/I0Yib3u7u5Jr4868nNCsDkIQAAowGTxN2JkJnDkO9EnIgKbh0PAAFCAtra2\\\n",
              "SbeNfMf5SPyN3D/T56FxmAGkOTnkCzDGyIke4w/vdqUrq7IqW7Il27ItK7Myq7M6W7M1D+SBMfv6\\\n",
              "2svm4buAp8B3CQLQaEav8VuSJdmUTbVtgxlMJf+7hnpt1ta+BrOZ4s/nt0PAAFCU0Re135M92ZIt\\\n",
              "tW2j429LtjRl/HGCGcAp8BsEAI1q8eLFtTV/27N9TPwNZjArsiJJ0tHRkb1799ZjiOeMz+8mngG8\\\n",
              "995786Y3vSmtra1pbW1NZ2dnvvWtb9W2v/jii+nu7s5rX/vaXHLJJfnABz6Qw4cP13HEADA9Rp/t\\\n",
              "uzIrx8RfcmImcGVWJjlxYsj46wTS+Jo2AOfPn5+77747u3btyo9+9KPccMMNed/73penn346SfLJ\\\n",
              "T34y3/jGN/Lwww/niSeeyKFDh/L+97+/zqMGgHNr/BrA1Vld2zaY/z2BbnVW184Gnuhi0TS2og4B\\\n",
              "z5kzJ1/4whfywQ9+MG1tbXnwwQfzwQ9+MEmyf//+dHR0ZOfOnbn++utP6/lMIQPQSCa6yHOJZwH7\\\n",
              "/C7kMjDHjh3Lww8/nCNHjqSzszO7du3KSy+9lGXLltX2ufrqq7Nw4cIzCkAAaBSTfcPHA3kgu7Kr\\\n",
              "dsLHtmzLnv/3v/FGf2MIja2pA/Cpp55KZ2dnXnzxxVxyySV55JFHsnjx4uzevTuzZs3KZZddNmb/\\\n",
              "uXPnpr+/f9LnGx4ezvDwcO3+0NDQuRo6AJxVAwMDk24bib2Ojo7s27dvwvg7neehcTTtGsAkueqq\\\n",
              "q7J79+48+eSTue2229LV1TWlM5k2btyYSqVSuy1YsOAsjhYAzp3e3t709PRMun3z5s3Zu3dv7RIx\\\n",
              "E+np6fE1cE2iqQNw1qxZufLKK7N06dJs3Lgx11xzTb785S+nvb09R48ezfPPPz9m/8OHD6e9vX3S\\\n",
              "51u/fn0GBwdrt4MHD57j/wIAOHsmi8DRa/tGXydwNPHXXJo6AMc7fvx4hoeHs3Tp0lx44YXZsWNH\\\n",
              "bdszzzyTAwcOpLOzc9Kfb2lpqV1WZuQGAI1kfAROdGLH+AgUf82nadcArl+/PjfddFMWLlyYF154\\\n",
              "IQ8++GAef/zxfPvb306lUsmtt96adevWZc6cOWltbc3atWvT2dnpBBAAmt5IzLW1tU16QsfI4wMD\\\n",
              "A+KvCTVtAD733HO55ZZb8otf/CKVSiVvetOb8u1vfzt/8Ad/kCT5q7/6q8ycOTMf+MAHMjw8nOXL\\\n",
              "l+erX/1qnUcNAK/M6+/8pzH3f3b3zafc/3Siztm+zauo6wCeba4jBMD54kwDsGQ+vwtbAwgAQBMf\\\n",
              "AgaAkpjx40yYAQQAKIwABAAojAAEACiMAAQAKIwABAAojAAEACiMAAQAKIwABAAojAAEACiMAAQA\\\n",
              "KIwABAAojAAEACiMAAQAKIwABAAojAAEACiMAAQAKIwABAAojAAEACiMAAQAKIwABAAojAAEACiM\\\n",
              "AAQAKIwABAAojAAEACiMAAQAKIwAbEK9vb3p6+s75T59fX3p7e2dngEBAOeVC+o9AM6u3t7ebNiw\\\n",
              "oXa/u7v7pH36+vqyZs2aMT8DAJTDDGATGR9/a9asOWkmcHz8bdiwQQACQGEEYJMYH38jRkfg+Pgb\\\n",
              "IQIBoCwzqtVqtd6DaFRDQ0OpVCoZHBxMa2tr3cYxWfyN1tHRkX379p1yn56eHiEIQNM7Xz6/68kM\\\n",
              "YBNoa2ubdNuSLEmSWvyN3D/T5wEAmocAbALd3d3ZvHnzSY93pSubsikrszJJsjIrsymb0pWuk/bd\\\n",
              "vHnzhCeMAADNxyHgKTjfppBHr/FbkiXZlE21bYMZTCWV2v21WZs92ZNE/AFQlvPt87sezAA2kdEz\\\n",
              "gXuyJ1uypbZtdPxtyRbxBwAFMwM4BefrbxCLFy+urfnbnu1j4m8wg1mRFUlOnBiyd+/eegwRAOrm\\\n",
              "fP38nk5mAJtMX19fLf5WZuWY+EtOzASOrAnct2/fy35jCADQfARgExm/BnB1Vte2DWaw9ufVWV07\\\n",
              "G3iii0UDAM1NADaJ8Rd53pM92ZqtSU6s+VuRFbU1gVuztbYGMBGBAFAaawCn4HxZQzDZN3wkJ2YC\\\n",
              "R8fe+PujOSEEgBKcL5/f9WQGsAkMDAxMum0k9jo6OsbcP9PnAQCahwBsAr29venp6Zl0++bNm7N3\\\n",
              "794JLxY9wtfAAUA5BGCTmCwCRx/WnewbQ8QfAJRFADaR8RE40Zq+8REo/gCgPBfUewDnysaNG/MP\\\n",
              "//AP2b9/f2bPnp23ve1t+Yu/+ItcddVVtX1efPHF3HHHHdm2bVuGh4ezfPnyfPWrX83cuXPrOPIT\\\n",
              "9l3dUftzx/59p/1zIzHX1tY26QkdI48PDAyIPwAoUNOeBfye97wnK1euzFvf+tb85je/yZ/92Z9l\\\n",
              "z5492bt3b1796lcnSW677bb80z/9U7Zu3ZpKpZI1a9Zk5syZ+dd//dfT+jvO5VlErzQAAYBTcxZw\\\n",
              "EwfgeAMDA7niiivyxBNP5B3veEcGBwfT1taWBx98MB/84AeTJPv3709HR0d27tyZ66+//mWfUwAC\\\n",
              "QOMRgAWtARwcPPFNGHPmzEmS7Nq1Ky+99FKWLVtW2+fqq6/OwoULs3PnzrqMEQBgOjTtGsDRjh8/\\\n",
              "nttvvz1vf/vbs2TJia9A6+/vz6xZs3LZZZeN2Xfu3Lnp7++f8HmGh4czPDxcuz80NHTOxmzWDwA4\\\n",
              "V4qYAezu7s6ePXuybdu2KT3Pxo0bU6lUarcFCxacpRECAEyfpg/ANWvW5Jvf/GYee+yxzJ8/v/Z4\\\n",
              "e3t7jh49mueff37M/ocPH057e/uEz7V+/foMDg7WbgcPHjyXQwcAOCeaNgCr1WrWrFmTRx55JN/9\\\n",
              "7nezaNGiMduXLl2aCy+8MDt27Kg99swzz+TAgQPp7Oyc8DlbWlrS2to65gYA0Giadg1gd3d3Hnzw\\\n",
              "wXz961/PpZdeWlvXV6lUMnv27FQqldx6661Zt25d5syZk9bW1qxduzadnZ2ndQYwAECjatrLwMyY\\\n",
              "MWPCx++///6sWrUqyf9eCPprX/vamAtBT3YIeDynkQNA4/H53cQBOB38AwKAxuPzu4nXAAIAMDEB\\\n",
              "CABQGAEIAFAYAQgAUBgBCABQGAEIAFAYAQgAUBgBCABQGAEIAFAYAQgAUBgBCABQGAEIAFAYAQgA\\\n",
              "UBgBCABQGAEIAFAYAQgAUBgBCABQGAEIAFAYAQgAUBgBCABQGAEIAFAYAQgAUBgBCABQGAEIAFAY\\\n",
              "AQgAUBgBCABQGAEIAFAYAQgAUBgBCABQGAEIAFAYAQgAUBgBCABQGAEIAFAYAQgAUBgBCABQGAEI\\\n",
              "AFAYAQgAUBgBCABQGAEIAFAYAQgAUBgBCABQGAEIAFAYAQgAUBgBCABQGAEIAFAYAQgAUJimDcDv\\\n",
              "fe97ee9735t58+ZlxowZ2b59+5jt1Wo1d911V173utdl9uzZWbZsWX7yk5/UZ7Cc13p7e9PX13fK\\\n",
              "ffr6+tLb2zs9AwKAKbqg3gM4V44cOZJrrrkmH/vYx/L+97//pO333HNPvvKVr+SBBx7IokWL8tnP\\\n",
              "fjbLly/P3r17c9FFF9VhxJyPent7s2HDhtr97u7uk/bp6+vLmjVrxvwMAJzPmjYAb7rpptx0000T\\\n",
              "bqtWq/nSl76Uz3zmM3nf+96XJPn7v//7zJ07N9u3b8/KlSunc6icp8bH30jkjY7A8fE3sr8IBOB8\\\n",
              "1rSHgE/lpz/9afr7+7Ns2bLaY5VKJdddd1127tw56c8NDw9naGhozI3mND7+RqxZs6Z2OHh8/I3Y\\\n",
              "sGGDAAQ4DZbY1E/TzgCeSn9/f5Jk7ty5Yx6fO3dubdtENm7cOGEU0Fwmi78RIxG4b9++SfcxEwhw\\\n",
              "apbY1FeRM4Cv1Pr16zM4OFi7HTx4sN5D4hxoa2ubdNuSLEmSWvyN3D/T5wEo2URLbMbPBE60xEYA\\\n",
              "nj1FBmB7e3uS5PDhw2MeP3z4cG3bRFpaWtLa2jrmRvPp7u7O5s2bT3q8K13ZlE1ZmRNrRFdmZTZl\\\n",
              "U7rSddK+mzdvnvC3WYDSWWJzfigyABctWpT29vbs2LGj9tjQ0FCefPLJdHZ21nFknC/GR+CSLMmq\\\n",
              "rEqSrM7qbM/2rM7qJMmqrBozEyj+ACZ2OktsFi9ePGH8jRCBZ0fTBuCvf/3r7N69O7t3705y4sSP\\\n",
              "3bt358CBA5kxY0Zuv/32fO5zn8s//uM/5qmnnsott9ySefPmZcWKFXUdN+eP0RG4J3uyJVtq2yqp\\\n",
              "1P68JVuyJ3uSiD+AU7HE5vwxo1qtVus9iHPh8ccfz7ve9a6THu/q6srWrVtTrVbT09OTv/7rv87z\\\n",
              "zz+f3/u938tXv/rV/O7v/u5p/x1DQ0OpVCoZHBx0OLiJLV68uPaGtD3bx8TfYAazIiuSJB0dHdm7\\\n",
              "d289hgjQMCY6vNuVrqzKqmzJlmzLtqzMyqzO6mzN1jyQB8bsezZ+0fb53cQBOB38A2p+o9+oRt6Q\\\n",
              "xht5w0rMAAKcjtHvrUuyJJuyqbZtMINjftFem7Vn/SiLz+8mPgQMUzX+DWp0/A1msPbn1VldO1Qx\\\n",
              "0ZlsAIxliU39CUCYwPhDFHuyJ1uzNcmJN6QVWVF7w9qarbU3qEQEApyO7u7udHR0JEm2ZduYX6yT\\\n",
              "E79ojxxd6ejoEH9nmQCEcSa7/MADeSBrs7b2hrQt27I2a09an5KIQICXM/qC+iuzcszMX3JiJnDk\\\n",
              "slv79u3znnqWCUAYZ2BgYNJtIzN9I7+1jp75O5PnASiZJTb1JwBhnN7e3vT09Ey6ffPmzdm7d++E\\\n",
              "F4se0dPT4zpVABOwxOb84CzgKXAWUXOb6IKl4xchT3S4WPwBTGyyJTbJiZnA0bE3/v5oUz0hxOe3\\\n",
              "GUCY1PiZwInecMZ/Y4j4A5icJTbnjwvqPQCYTm984I21Pz/V9dTL7j8Sc21tbZP+tjny+MDAgPgD\\\n",
              "OIWR98jJvg5u5BftU80U+kX77BCA8DJO543G5QkATs9kETj6KMvI/1tic+44BAwATCtLbOrPDCBF\\\n",
              "OZ3DvgCce5bY1JezgKfAWUQAlOz/+/Af1v58x0PfrONIzozPb4eAAQCKIwABAAojAAGAV2TZ//lE\\\n",
              "Wi+/Isv+zyfqPRTOkDWAU2ANAQA0Hp/fZgABAIojAAEACiMAAQAKIwABAAojAAEACiMAAQAKIwAB\\\n",
              "AAojAAEACiMAAQAKIwABAAojAAEACiMAAQAKIwABAAojAAEACiMAAQAKIwABAAojAAEACiMAAQAK\\\n",
              "IwABAAojAAEACiMAAQAKIwABAAojAAEACiMAAQAKIwABAAojAAEACiMAAQAKIwABAAojAAEAClN8\\\n",
              "APb19eX1r399Lrroolx33XX54Q9/WO8hAQCcU0UH4EMPPZR169alp6cnP/7xj3PNNddk+fLlee65\\\n",
              "5+o9NACAc6boAPzLv/zLfPzjH89HP/rRLF68OPfdd18uvvji/N3f/V29hwYAcM4UG4BHjx7Nrl27\\\n",
              "smzZstpjM2fOzLJly7Jz584Jf2Z4eDhDQ0NjbgAAjabYAPzlL3+ZY8eOZe7cuWMenzt3bvr7+yf8\\\n",
              "mY0bN6ZSqdRuCxYsmI6hAgCcVcUG4Cuxfv36DA4O1m4HDx6s95AAAM7YBfUeQL1cfvnledWrXpXD\\\n",
              "hw+Pefzw4cNpb2+f8GdaWlrS0tIyHcMDADhnip0BnDVrVpYuXZodO3bUHjt+/Hh27NiRzs7OOo4M\\\n",
              "AODcKnYGMEnWrVuXrq6uvOUtb8m1116bL33pSzly5Eg++tGP1ntoAADnTNEB+OEPfzgDAwO56667\\\n",
              "0t/fnze/+c35l3/5l5NODAEAaCYzqtVqtd6DaFRDQ0OpVCoZHBxMa2trvYcDAJwGn98FrwEEACiV\\\n",
              "AAQAKIwABAAojAAEACiMAAQAKIwABAAojAAEACiMAAQAKIwABAAojAAEACiMAAQAKIwABAAojAAE\\\n",
              "ACiMAAQAKIwABAAojAAEACiMAAQAKIwABAAojAAEACiMAAQAKIwABAAojAAEACiMAAQAKIwABAAo\\\n",
              "jAAEACiMAAQAKIwABAAojAAEACiMAAQAKIwABAAojAAEACiMAAQAKIwABAAojAAEACiMAAQAKIwA\\\n",
              "BAAojAAEACiMAAQAKIwABAAojAAEACiMAAQAKIwABAAojAAEACiMAAQAKIwABAAoTFMG4Oc///m8\\\n",
              "7W1vy8UXX5zLLrtswn0OHDiQm2++ORdffHGuuOKKfOpTn8pvfvOb6R0oAEAdXFDvAZwLR48ezYc+\\\n",
              "9KF0dnbmb//2b0/afuzYsdx8881pb2/P97///fziF7/ILbfckgsvvDB//ud/XocRAwBMnxnVarVa\\\n",
              "70GcK1u3bs3tt9+e559/fszj3/rWt/KHf/iHOXToUObOnZskue+++/Knf/qnGRgYyKxZs07r+YeG\\\n",
              "hlKpVDI4OJjW1tazPXwA4Bzw+d2kh4Bfzs6dO/PGN76xFn9Jsnz58gwNDeXpp5+e9OeGh4czNDQ0\\\n",
              "5gYA0GiKDMD+/v4x8Zekdr+/v3/Sn9u4cWMqlUrttmDBgnM6TgCAc6FhAvDOO+/MjBkzTnnbv3//\\\n",
              "OR3D+vXrMzg4WLsdPHjwnP59AADnQsOcBHLHHXdk1apVp9znDW94w2k9V3t7e374wx+Oeezw4cO1\\\n",
              "bZNpaWlJS0vLaf0dAADnq4YJwLa2trS1tZ2V5+rs7MznP//5PPfcc7niiiuSJI8++mhaW1uzePHi\\\n",
              "s/J3AACcrxomAM/EgQMH8qtf/SoHDhzIsWPHsnv37iTJlVdemUsuuSQ33nhjFi9enI985CO55557\\\n",
              "0t/fn8985jPp7u42wwcANL2mvAzMqlWr8sADD5z0+GOPPZZ3vvOdSZL//M//zG233ZbHH388r371\\\n",
              "q9PV1ZW77747F1xw+k3sNHIAaDw+v5s0AKeLf0AA0Hh8fjfQWcAAAJwdAhAAoDACEACgMAIQAKAw\\\n",
              "AhAAoDACEACgMAIQAKAwAhAAoDACEACgMAIQAKAwAhAAoDACEACgMAIQAKAwAhAAoDACEACgMAIQ\\\n",
              "AKAwAhAAoDACEACgMAIQAKAwAhAAoDACEACgMAIQAKAwAhAAoDACEACgMAIQAKAwAhAAoDACEACg\\\n",
              "MAIQAKAwAhAAoDACEACgMAIQAKAwAhAAoDACEACgMAIQAKAwAhAAoDACEACgMAIQAKAwAhAAoDAC\\\n",
              "EACgMAIQAKAwAhAAoDACEACgMAIQAKAwAhAAoDACEACgME0ZgD/72c9y6623ZtGiRZk9e3Z++7d/\\\n",
              "Oz09PTl69OiY/f793/89v//7v5+LLrooCxYsyD333FOnEQMATJ8L6j2Ac2H//v05fvx4tmzZkiuv\\\n",
              "vDJ79uzJxz/+8Rw5ciRf/OIXkyRDQ0O58cYbs2zZstx333156qmn8rGPfSyXXXZZ/uRP/qTO/wUA\\\n",
              "AOfOjGq1Wq33IKbDF77whdx77735j//4jyTJvffem09/+tPp7+/PrFmzkiR33nlntm/fnv3795/W\\\n",
              "cw4NDaVSqWRwcDCtra3nbOwAwNnj87tJDwFPZHBwMHPmzKnd37lzZ97xjnfU4i9Jli9fnmeeeSb/\\\n",
              "/d//XY8hAgBMiyIC8Nlnn82mTZuyevXq2mP9/f2ZO3fumP1G7vf390/4PMPDwxkaGhpzAwBoNA0V\\\n",
              "gHfeeWdmzJhxytv4w7c///nP8573vCcf+tCH8vGPf3xKf//GjRtTqVRqtwULFkzp+QAA6qGh1gAO\\\n",
              "DAzkv/7rv065zxve8IbaYd1Dhw7lne98Z66//vps3bo1M2f+b+/ecsstGRoayvbt22uPPfbYY7nh\\\n",
              "hhvyq1/9Kq95zWtOeu7h4eEMDw/X7g8NDWXBggVFryEAgEZjDWCDnQXc1taWtra209r35z//ed71\\\n",
              "rndl6dKluf/++8fEX5J0dnbm05/+dF566aVceOGFSZJHH300V1111YTxlyQtLS1paWmZ2n8EAECd\\\n",
              "NdQh4NP185//PO985zuzcOHCfPGLX8zAwED6+/vHrO374z/+48yaNSu33nprnn766Tz00EP58pe/\\\n",
              "nHXr1tVx5AAA515DzQCerkcffTTPPvtsnn322cyfP3/MtpEj3pVKJd/5znfS3d2dpUuX5vLLL89d\\\n",
              "d93lGoAAQNNrqDWA5xtrCACg8fj8btJDwAAATE4AAgAURgACABRGAAIAFEYAAgAURgACAHXX29ub\\\n",
              "vr6+U+7T19eX3t7e6RlQk2vK6wACAI2jt7c3GzZsqN3v7u4+aZ++vr6sWbNmzM/wypkBBADqZnz8\\\n",
              "rVmz5qSZwPHxt2HDBgE4RQIQAKiL8fE3YnQEjo+/ESJwanwTyBS4kjgAvDKTxd9oHR0d2bdv3yn3\\\n",
              "6enpOeMQ9PltBhAAqIO2trZJty3JkiSpxd/I/TN9HiYnAAGAadfd3Z3Nmzef9HhXurIpm7IyK5Mk\\\n",
              "K7Mym7IpXek6ad/NmzdPeMIIL88h4CkwhQwAUzN6jd+SLMmmbKptG8xgKqnU7q/N2uzJniRTiz+f\\\n",
              "32YAAYA6Gj0TuCd7siVbattGx9+WbDkr8ccJZgCnwG8QAHB2LF68uLbmb3u2j4m/wQxmRVYkOXFi\\\n",
              "yN69e6f0d/n8NgMIANRZX19fLf5WZuWY+EtOzASOrAnct2/fy35jCC9PAAIAdTN+DeDqrK5tG8xg\\\n",
              "7c+rs7p2NvBEF4vmzAhAAKAuxl/keU/2ZGu2Jjmx5m9FVtTWBG7N1toawEQETpU1gFNgDQEAvDKT\\\n",
              "fcNHcmImcHTsjb8/2is5IcTntxlAAKAOBgYGJt02EnsdHR1j7p/p8zA5AQgATLve3t709PRMun3z\\\n",
              "5s3Zu3fvhBeLHvFKvgaOEwQgAFAXk0Xg6MO6k31jiPibGgEIANTN+AicaE3f+AgUf1N3Qb0HAACU\\\n",
              "bSTm2traJj2hY+TxgYEB8XcWOAt4CpxFBAAT6/u/3x1zv/u+G+o0kpP5/HYIGACgOAIQAKAw1gAC\\\n",
              "AGfd+XTIl5OZAQQAKIwABAAojAAEACiMAAQAKIwABAAojAAEACiMAAQAKIwABAAojAAEACiMAAQA\\\n",
              "KIwABAAojAAEACiMAAQAKMwF9R5AI6tWq0mSoaGhOo8EADhdI5/bI5/jJRKAU/DCCy8kSRYsWFDn\\\n",
              "kQAAZ+qFF15IpVKp9zDqYka15PydouPHj+fQoUO59NJLM2PGjHoPp6kMDQ1lwYIFOXjwYFpbW+s9\\\n",
              "nKbldZ4eXufp47WeHo3+Oler1bzwwguZN29eZs4sczWcGcApmDlzZubPn1/vYTS11tbWhnxzaTRe\\\n",
              "5+nhdZ4+Xuvp0civc6kzfyPKzF4AgIIJQACAwghAzkstLS3p6elJS0tLvYfS1LzO08PrPH281tPD\\\n",
              "69z4nAQCAFAYM4AAAIURgAAAhRGAAACFEYAAAIURgJx3Pv/5z+dtb3tbLr744lx22WUT7nPgwIHc\\\n",
              "fPPNufjii3PFFVfkU5/6VH7zm99M70CbQF9fX17/+tfnoosuynXXXZcf/vCH9R5SQ/ve976X9773\\\n",
              "vZk3b15mzJiR7du3j9lerVZz11135XWve11mz56dZcuW5Sc/+Ul9BtvANm7cmLe+9a259NJLc8UV\\\n",
              "V2TFihV55plnxuzz4osvpru7O6997WtzySWX5AMf+EAOHz5cpxE3pnvvvTdvetObahd77uzszLe+\\\n",
              "9a3adq9xYxOAnHeOHj2aD33oQ7ntttsm3H7s2LHcfPPNOXr0aL7//e/ngQceyNatW3PXXXdN80gb\\\n",
              "20MPPZR169alp6cnP/7xj3PNNddk+fLlee655+o9tIZ15MiRXHPNNenr65tw+z333JOvfOUrue++\\\n",
              "+/Lkk0/m1a9+dZYvX54XX3xxmkfa2J544ol0d3fnBz/4QR599NG89NJLufHGG3PkyJHaPp/85Cfz\\\n",
              "jW98Iw8//HCeeOKJHDp0KO9///vrOOrGM3/+/Nx9993ZtWtXfvSjH+WGG27I+973vjz99NNJvMYN\\\n",
              "rwrnqfvvv79aqVROevyf//mfqzNnzqz29/fXHrv33nurra2t1eHh4WkcYWO79tprq93d3bX7x44d\\\n",
              "q86bN6+6cePGOo6qeSSpPvLII7X7x48fr7a3t1e/8IUv1B57/vnnqy0tLdWvfe1rdRhh83juueeq\\\n",
              "SapPPPFEtVo98bpeeOGF1Ycffri2z759+6pJqjt37qzXMJvCa17zmurf/M3feI2bgBlAGs7OnTvz\\\n",
              "xje+MXPnzq09tnz58gwNDdV+M+XUjh49ml27dmXZsmW1x2bOnJlly5Zl586ddRxZ8/rpT3+a/v7+\\\n",
              "Ma95pVLJdddd5zWfosHBwSTJnDlzkiS7du3KSy+9NOa1vvrqq7Nw4UKv9St07NixbNu2LUeOHEln\\\n",
              "Z6fXuAlcUO8BwJnq7+8fE39Javf7+/vrMaSG88tf/jLHjh2b8HXcv39/nUbV3Eb+bU70mvt3+8od\\\n",
              "P348t99+e97+9rdnyZIlSU681rNmzTppDbHX+sw99dRT6ezszIsvvphLLrkkjzzySBYvXpzdu3d7\\\n",
              "jRucGUCmxZ133pkZM2ac8iY8gDPV3d2dPXv2ZNu2bfUeSlO66qqrsnv37jz55JO57bbb0tXVlb17\\\n",
              "99Z7WJwFZgCZFnfccUdWrVp1yn3e8IY3nNZztbe3n3S26siZZ+3t7a9ofKW5/PLL86pXveqkM/YO\\\n",
              "Hz7sNTxHRl7Xw4cP53Wve13t8cOHD+fNb35znUbV2NasWZNvfvOb+d73vpf58+fXHm9vb8/Ro0fz\\\n",
              "/PPPj5mh8u/7zM2aNStXXnllkmTp0qX5t3/7t3z5y1/Ohz/8Ya9xgzMDyLRoa2vL1VdffcrbrFmz\\\n",
              "Tuu5Ojs789RTT405W/XRRx9Na2trFi9efK7+E5rKrFmzsnTp0uzYsaP22PHjx7Njx450dnbWcWTN\\\n",
              "a9GiRWlvbx/zmg8NDeXJJ5/0mp+harWaNWvW5JFHHsl3v/vdLFq0aMz2pUuX5sILLxzzWj/zzDM5\\\n",
              "cOCA13qKjh8/nuHhYa9xEzADyHnnwIED+dWvfpUDBw7k2LFj2b17d5LkyiuvzCWXXJIbb7wxixcv\\\n",
              "zkc+8pHcc8896e/vz2c+85l0d3enpaWlvoNvIOvWrUtXV1fe8pa35Nprr82XvvSlHDlyJB/96Efr\\\n",
              "PbSG9etf/zrPPvts7f5Pf/rT7N69O3PmzMnChQtz++2353Of+1x+53d+J4sWLcpnP/vZzJs3LytW\\\n",
              "rKjfoBtQd3d3HnzwwXz961/PpZdeWltzVqlUMnv27FQqldx6661Zt25d5syZk9bW1qxduzadnZ25\\\n",
              "/vrr6zz6xrF+/frcdNNNWbhwYV544YU8+OCDefzxx/Ptb3/ba9wM6n0aMozX1dVVTXLS7bHHHqvt\\\n",
              "87Of/ax60003VWfPnl29/PLLq3fccUf1pZdeqt+gG9SmTZuqCxcurM6aNat67bXXVn/wgx/Ue0gN\\\n",
              "7bHHHpvw325XV1e1Wj1xKZjPfvaz1blz51ZbWlqq7373u6vPPPNMfQfdgCZ6jZNU77///to+//M/\\\n",
              "/1P9xCc+UX3Na15Tvfjii6t/9Ed/VP3FL35Rv0E3oI997GPV3/qt36rOmjWr2tbWVn33u99d/c53\\\n",
              "vlPb7jVubDOq1Wp1+rMTAIB6sQYQAKAwAhAAoDACEACgMAIQAKAwAhAAoDACEACgMAIQAKAwAhAA\\\n",
              "oDACEACgMAIQAKAwAhAAoDACEACgMAIQAKAwAhAAoDACEACgMAIQAKAwAhAAoDACEACgMAIQAKAw\\\n",
              "AhAAoDACEACgMAIQAKAwAhAAoDACEACgMAIQAKAwAhAAoDACEACgMAIQAKAwAhAAoDACEACgMAIQ\\\n",
              "AKAw/z/4PzInaQ67pwAAAABJRU5ErkJggg==\\\n",
              "\"\n",
              "  frames[3] = \"data:image/png;base64,iVBORw0KGgoAAAANSUhEUgAAAoAAAAHgCAYAAAA10dzkAAAAOnRFWHRTb2Z0d2FyZQBNYXRwbG90\\\n",
              "bGliIHZlcnNpb24zLjEwLjAsIGh0dHBzOi8vbWF0cGxvdGxpYi5vcmcvlHJYcgAAAAlwSFlzAAAP\\\n",
              "YQAAD2EBqD+naQAAJuxJREFUeJzt3X9s3Hdh//FXQhs3pbVLqBsTJRlh3VpHgSIF2ho2BCVrqDpE\\\n",
              "xg9hTaIOVCzfzolUUqE1A2pHgqUrfDcgMW2mbU33R0lVaQ2DjUEV2iKNUEZQtLpJKqrBEhGcmrHa\\\n",
              "JVqdktz3j3x92I6dJnWcy9378UAncvf5+PLuKbp7+v15fz43q1KpVAIAQDFm13oAAACcWwIQAKAw\\\n",
              "AhAAoDACEACgMAIQAKAwAhAAoDACEACgMAIQAKAwAhAAoDACEACgMAIQAKAwAhAAoDACEACgMAIQ\\\n",
              "AKAwAhAAoDACEACgMAIQAKAwAhAAoDACEACgMAIQAKAwAhAAoDACEACgMAIQAKAwAhAAoDACEACg\\\n",
              "MAIQAKAwAhAAoDACEACgMAIQAKAwAhAAoDACEACgMAIQAKAwAhAAoDACEACgMAIQAKAwAhAAoDAC\\\n",
              "EACgMAIQAKAwAhAAoDACEACgMAIQAKAwAhAAoDACEACgMAIQAKAwAhAAoDACEACgMAIQAKAwAhAA\\\n",
              "oDACEACgMAIQAKAwAhAAoDACEACgMAIQAKAwAhAAoDACEACgMAIQAKAwF9R6APXs+PHjOXToUC69\\\n",
              "9NLMmjWr1sMBAE5DpVLJCy+8kAULFmT27DLnwgTgNBw6dCiLFi2q9TAAgFfg4MGDWbhwYa2HURMC\\\n",
              "cBouvfTSJCf+ATU3N9d4NADA6RgeHs6iRYuqn+MlEoDTMHrYt7m5WQACQJ0peflWmQe+AQAKJgAB\\\n",
              "AAojAAEACiMAAQAKIwBhjN7e3vT19Z1yn76+vvT29p6bAQHADHAWMPx/vb292bhxY/V+d3f3Sfv0\\\n",
              "9fVl7dq1434GAOqNGUDIyfG3du3ak2YCJ8bfxo0bBSAAdUkAUryJ8TdqbAROjL9RIhCAejSrUqlU\\\n",
              "aj2IejU8PJyWlpYMDQ25EHSdmir+xmpvb8++fftOuU9PT48QBKgTPr/NAFK41tbWKbcty7Ikqcbf\\\n",
              "6P0zfR4AON8IQIrW3d2dLVu2nPR4V7qyOZvTmc4kSWc6szmb05Wuk/bdsmXLpCeMAMD5yiHgaTCF\\\n",
              "3DjGrvFblmXZnM3VbUMZSktaqvfXZV36059E/AHUI5/fZgAhyfiZwP70Z2u2VreNjb+t2Sr+AKh7\\\n",
              "ZgCnwW8QjWfp0qXVNX87smNc/A1lKKuyKsmJE0P27t1biyECME0+v80AQlVfX181/jrTOS7+khMz\\\n",
              "gaNrAvft2/ey3xgCAOcrAQg5eQ3gmqypbhvKUPXPa7KmejbwZBeLBoB6IAAp3sSLPPenP9uyLcmJ\\\n",
              "NX+rsqq6JnBbtlXXACYiEID6ZA3gNFhDUP+m+oaP5MRM4NjYm3h/LCeEANQPn99mACnc4ODglNtG\\\n",
              "Y6+9vX3c/TN9HgA43whAitbb25uenp4pt2/ZsiV79+6d9GLRo3wNHAD1RgBSvKkicOxh3am+MUT8\\\n",
              "AVCPBCDk5AicbE3fxAgUfwDUqwtqPQA4X4zGXGtr65QndIw+Pjg4KP6AutXb23vK97rkxEly3usa\\\n",
              "lwCEMU7njc7ZvkA96+3tzcaNG6v3J3tPm3iFBBHYeBwCBoBCTIy/ya5lOjH+Nm7cKAAbkBlAGlPv\\\n",
              "mK9x6x2aej+AQkyMv1Gjsdfd3T3ltVFHf04INg4BCAANbqr4GzU6Ezj6feiTEYGNxSFgAGhwra2t\\\n",
              "U24b/X7z0fgbvX+mz0N9EYA0pt6h39wACjfVtUy70pXN2ZzOdCZJOtOZzdmcrnSdtK+vvGwsvgt4\\\n",
              "GnyXIAD1ZOwav2VZls3ZXN02lKG05Dfrp9dlXfUrMBst/nx+mwEEgGKMnQnsT3+2Zmt129j425qt\\\n",
              "DRt/nGAGcBr8BgFAPVq6dGl1zd+O7BgXf0MZyqqsSpK0t7dn7969tRjijPL53cAzgPfee2/e9KY3\\\n",
              "pbm5Oc3Nzeno6Mg3v/nN6vYXX3wx3d3dee1rX5tLLrkkH/jAB3L48OEajhgAZt7Ys3070zku/pIT\\\n",
              "M4GjawL37dt30nUCaQwNG4ALFy7M3Xffnd27d+eHP/xhbrjhhrzvfe/L008/nST5xCc+ka9//et5\\\n",
              "+OGH88QTT+TQoUN5//vfX+NRA8DMmbgGcE3WVLcN5Tcnza3JmurZwJNdLJr6V9Qh4Hnz5uXzn/98\\\n",
              "PvjBD6a1tTUPPvhgPvjBDyZJ9u/fn/b29uzatSvXX3/9aT2fKWQA6sVkF3nuSldWZ3W2Zmu2Z3s6\\\n",
              "05k1WZNt2ZYH8sC4fRtpLaDP70IuBH3s2LE8/PDDOXLkSDo6OrJ79+689NJLWbFiRXWfq6++OosX\\\n",
              "Lz6jAASAejDVN3w8kAeyO7urJ3xsz/b0////TTT2G0Oofw0dgE899VQ6Ojry4osv5pJLLskjjzyS\\\n",
              "pUuXZs+ePZkzZ04uu+yycfvPnz8/AwMDUz7fyMhIRkZGqveHh4dnaugAcNYMDg5OuW009trb27Nv\\\n",
              "375J4+90nof60rBrAJPkqquuyp49e/Lkk0/mtttuS1dX17TOZtq0aVNaWlqqt0WLFp3F0QLAzOjt\\\n",
              "7U1PT8+U27ds2ZK9e/dOerHoUT09Pb4GroE0dADOmTMnV155ZZYvX55NmzblmmuuyZe+9KW0tbXl\\\n",
              "6NGjef7558ftf/jw4bS1tU35fBs2bMjQ0FD1dvDgwRn+LwCAs2OqCBy7tm+qbwwRf42noQNwouPH\\\n",
              "j2dkZCTLly/PhRdemJ07d1a3PfPMMzlw4EA6Ojqm/PmmpqbqZWVGbwBQLyZG4GQndkyMQPHXmBp2\\\n",
              "DeCGDRty0003ZfHixXnhhRfy4IMP5vHHH8+3vvWttLS05NZbb8369eszb968NDc3Z926deno6HAC\\\n",
              "CAANbTTmWltbpzyhY/TxwcFB8degGjYAn3vuudxyyy35+c9/npaWlrzpTW/Kt771rfzBH/xBkuSv\\\n",
              "//qvM3v27HzgAx/IyMhIVq5cma985Ss1HjUAvDKvv/Ofq3/+6d03n3Lf04k6Z/s2tqKuA3i2uY4Q\\\n",
              "AOeLMwnA0vn8LmwNIAAADXwIGABKYtaPM2EGEACgMAIQAKAwAhAAoDACEACgMAIQAKAwAhAAoDAC\\\n",
              "EACgMAIQAKAwAhAAoDACEACgMAIQAKAwAhAAoDACEACgMAIQAKAwAhAAoDACEACgMAIQAKAwAhAA\\\n",
              "oDACEACgMAIQAKAwAhAAoDACEACgMAIQAKAwAhAAoDACEACgMAKwwfT29qavr++U+/T19aW3t/fc\\\n",
              "DAgAOO9cUOsBcPb09vZm48aN1fvd3d0n7dPX15e1a9eO+xkAoCxmABvExPhbu3btSTOBE+Nv48aN\\\n",
              "AhAACiQAG8DE+Bs1NgInxt8oEQgA5ZlVqVQqtR5EvRoeHk5LS0uGhobS3NxckzFMFX9jtbe3Z9++\\\n",
              "fafcp6enRwgCUITz4fO71swA1rnW1tYpty3LsiSpxt/o/TN9HgCgsQjAOtfd3Z0tW7ac9HhXurI5\\\n",
              "m9OZziRJZzqzOZvTla6T9t2yZcukJ4wAAI3JIeBpOJ+mkMeu8VuWZdmczdVtQxlKS1qq99dlXfrT\\\n",
              "n0T8AVCe8+nzu1bMADaIsTOB/enP1mytbhsbf1uzVfwBQOHMAE7D+fgbxNKlS6tr/nZkx7j4G8pQ\\\n",
              "VmVVkhMnhuzdu7cWQwSAmjofP7/PNTOADaSvr68af53pHBd/yYmZwNE1gfv27XvZbwwBABqTAGwQ\\\n",
              "E9cArsma6rahDFX/vCZrqmcDT3axaACg8QnABjDxIs/96c+2bEtyYs3fqqyqrgnclm3VNYCJCASA\\\n",
              "ElkDOA3nwxqCqb7hIzkxEzg29ibeH8sJIQCU4nz4/K41M4B1bnBwcMpto7HX3t4+7v6ZPg8A0FgE\\\n",
              "YJ3r7e1NT0/PlNu3bNmSvXv3Tnqx6FG+Bg4AyiIAG8BUETj2sO5U3xgi/gCgPAKwQUyMwMnW9E2M\\\n",
              "QPEHAGW6oNYDmCmbNm3KP/7jP2b//v2ZO3du3va2t+Uv//Ivc9VVV1X3efHFF3PHHXdk+/btGRkZ\\\n",
              "ycqVK/OVr3wl8+fPr+HIT9h3dXv1z+37953Wz4zGXGtr65QndIw+Pjg4KP4AoFANexbwe97znnR2\\\n",
              "duatb31rfv3rX+fP//zP09/fn7179+bVr351kuS2227LP//zP2fbtm1paWnJ2rVrM3v27Pzbv/3b\\\n",
              "af0dM3kW0SsJQADg5TkLuIEDcKLBwcFcccUVeeKJJ/KOd7wjQ0NDaW1tzYMPPpgPfvCDSZL9+/en\\\n",
              "vb09u3btyvXXX/+yzykAAaD+CMAGPgQ80dDQiW/DmDdvXpJk9+7deemll7JixYrqPldffXUWL158\\\n",
              "2gE4k0QfADBTigjA48eP5/bbb8/b3/72LFt24mvQBgYGMmfOnFx22WXj9p0/f34GBgYmfZ6RkZGM\\\n",
              "jIxU7w8PD8/YmAEAZkoRZwF3d3env78/27dvn9bzbNq0KS0tLdXbokWLztIIAQDOnYYPwLVr1+Yb\\\n",
              "3/hGHnvssSxcuLD6eFtbW44ePZrnn39+3P6HDx9OW1vbpM+1YcOGDA0NVW8HDx6cyaEDAMyIhg3A\\\n",
              "SqWStWvX5pFHHsl3vvOdLFmyZNz25cuX58ILL8zOnTurjz3zzDM5cOBAOjo6Jn3OpqamNDc3j7sB\\\n",
              "ANSbhl0D2N3dnQcffDBf+9rXcumll1bX9bW0tGTu3LlpaWnJrbfemvXr12fevHlpbm7OunXr0tHR\\\n",
              "UfMTQAAAZlLDXgZm1qxZkz5+//33Z/Xq1Ul+cyHor371q+MuBD3VIeCJnEYOAPXH53cDB+C54B8Q\\\n",
              "ANQfn98NvAYQAIDJCUAAgMIIQACAwghAAIDCCEAAgMIIQACAwghAAIDCCEAAgMIIQACAwghAAIDC\\\n",
              "CEAAgMIIQACAwghAAIDCCEAAgMIIQACAwghAAIDCCEAAgMIIQACAwghAAIDCCEAAgMIIQACAwghA\\\n",
              "AIDCCEAAgMIIQACAwghAAIDCCEAAgMIIQACAwghAAIDCCEAAgMIIQACAwghAAIDCCEAAgMIIQACA\\\n",
              "wghAAIDCCEAAgMIIQACAwghAAIDCCEAAgMIIQACAwghAAIDCCEAAgMIIQACAwghAAIDCCEAAgMII\\\n",
              "QACAwghAAIDCNGwAfve738173/veLFiwILNmzcqOHTvGba9UKrnrrrvyute9LnPnzs2KFSvy4x//\\\n",
              "uDaD5bzW29ubvr6+U+7T19eX3t7eczMgAJimC2o9gJly5MiRXHPNNfnYxz6W97///Sdtv+eee/Ll\\\n",
              "L385DzzwQJYsWZLPfOYzWblyZfbu3ZuLLrqoBiPmfNTb25uNGzdW73d3d5+0T19fX9auXTvuZwDg\\\n",
              "fNawAXjTTTflpptumnRbpVLJF7/4xXz605/O+973viTJP/zDP2T+/PnZsWNHOjs7z+VQOU9NjL/R\\\n",
              "yBsbgRPjb3R/EQjA+axhDwGfyk9+8pMMDAxkxYoV1cdaWlpy3XXXZdeuXVP+3MjISIaHh8fdaEwT\\\n",
              "42/U2rVrq4eDJ8bfqI0bNwpAgNNgiU3tNOwM4KkMDAwkSebPnz/u8fnz51e3TWbTpk2TRgGNZar4\\\n",
              "GzUagfv27ZtyHzOBAKdmiU1tFTkD+Ept2LAhQ0ND1dvBgwdrPSRmQGtr65TblmVZklTjb/T+mT4P\\\n",
              "QMkmW2IzcSZwsiU2AvDsKTIA29rakiSHDx8e9/jhw4er2ybT1NSU5ubmcTcaT3d3d7Zs2XLS413p\\\n",
              "yuZsTmdOrBHtTGc2Z3O60nXSvlu2bJn0t1mA0llic34oMgCXLFmStra27Ny5s/rY8PBwnnzyyXR0\\\n",
              "dNRwZJwvJkbgsizL6qxOkqzJmuzIjqzJmiTJ6qweNxMo/gAmdzpLbJYuXTpp/I0SgWdHwwbgr371\\\n",
              "q+zZsyd79uxJcuLEjz179uTAgQOZNWtWbr/99nz2s5/NP/3TP+Wpp57KLbfckgULFmTVqlU1HTfn\\\n",
              "j7ER2J/+bM3W6raWtFT/vDVb05/+JOIP4FQssTl/zKpUKpVaD2ImPP7443nXu9510uNdXV3Ztm1b\\\n",
              "KpVKenp68jd/8zd5/vnn83u/93v5yle+kt/93d897b9jeHg4LS0tGRoacji4gS1durT6hrQjO8bF\\\n",
              "31CGsiqrkiTt7e3Zu3dvLYYIUDcmO7zbla6szupszdZsz/Z0pjNrsibbsi0P5IFx+56NX7R9fjdw\\\n",
              "AJ4L/gE1vrFvVKNvSBONvmElZgABTsfY99ZlWZbN2VzdNpShcb9or8u6s36Uxed3Ax8Chuma+AY1\\\n",
              "Nv6GMlT985qsqR6qmOxMNgDGs8Sm9gQgTGLiIYr+9GdbtiU58Ya0Kquqb1jbsq36BpWIQIDT0d3d\\\n",
              "nfb29iTJ9mwf94t1cuIX7dGjK+3t7eLvLBOAMMFUlx94IA9kXdZV35C2Z3vWZd1J61MSEQjwcsZe\\\n",
              "UL8zneNm/pITM4Gjl93at2+f99SzTADCBIODg1NuG53pG/2tdezM35k8D0DJLLGpPQEIE/T29qan\\\n",
              "p2fK7Vu2bMnevXsnvVj0qJ6eHtepApiEJTbnB2cBT4OziBrbZBcsnbgIebLDxeIPYHJTLbFJTswE\\\n",
              "jo29iffHmu4JIT6/zQDClCbOBE72hjPxG0PEH8DULLE5f1xQ6wHAufTGB95Y/fNTXU+97P6jMdfa\\\n",
              "2jrlb5ujjw8ODoo/gFMYfY+c6uvgRn/RPtVMoV+0zw4BCC/jdN5oXJ4A4PRMFYFjj7KM/r8lNjPH\\\n",
              "IWAA4JyyxKb2zABSlNM57AvAzLPEpracBTwNziICoGT/98N/WP3zHQ99o4YjOTM+vx0CBgAojgAE\\\n",
              "ACiMNYAAwCtST4d9Gc8MIABAYQQgAEBhBCAAQGEEIABAYQQgAEBhBCAAQGEEIABAYQQgAEBhBCAA\\\n",
              "QGEEIABAYQQgAEBhBCAAQGEEIABAYQQgAEBhBCAAQGEEIABAYQQgAEBhBCAAQGEEIABAYQQgAEBh\\\n",
              "BCAAQGEEIABAYQQgAEBhBCAAQGEEIABAYQQgAEBhBCAAQGEEIABAYQQgAEBhBCAAQGGKD8C+vr68\\\n",
              "/vWvz0UXXZTrrrsuP/jBD2o9JACAGVV0AD700ENZv359enp68qMf/SjXXHNNVq5cmeeee67WQwMA\\\n",
              "mDFFB+Bf/dVf5eMf/3g++tGPZunSpbnvvvty8cUX5+///u9rPTQAgBlTbAAePXo0u3fvzooVK6qP\\\n",
              "zZ49OytWrMiuXbsm/ZmRkZEMDw+PuwEA1JtiA/AXv/hFjh07lvnz5497fP78+RkYGJj0ZzZt2pSW\\\n",
              "lpbqbdGiRediqAAAZ1WxAfhKbNiwIUNDQ9XbwYMHaz0kAIAzdkGtB1Arl19+eV71qlfl8OHD4x4/\\\n",
              "fPhw2traJv2ZpqamNDU1nYvhAQDMmGJnAOfMmZPly5dn586d1ceOHz+enTt3pqOjo4YjAwCYWcXO\\\n",
              "ACbJ+vXr09XVlbe85S259tpr88UvfjFHjhzJRz/60VoPDQBgxhQdgB/+8IczODiYu+66KwMDA3nz\\\n",
              "m9+cf/3Xfz3pxBAAgEYyq1KpVGo9iHo1PDyclpaWDA0Npbm5udbDAQBOg8/vgtcAAgCUSgACABRG\\\n",
              "AAIAFEYAAgAURgACABRGAAIAFEYAAgAURgACABRGAAIAFEYAAgAURgACABRGAAIAFEYAAgAURgAC\\\n",
              "ABRGAAIAFEYAAgAURgACABRGAAIAFEYAAgAURgACABRGAAIAFEYAAgAURgACABRGAAIAFEYAAgAU\\\n",
              "RgACABRGAAIAFEYAAgAURgACABRGAAIAFEYAAgAURgACABRGAAIAFEYAAgAURgACABRGAAIAFEYA\\\n",
              "AgAURgACABRGAAIAFEYAAgAURgACABRGAAIAFEYAAgAURgACABRGAAIAFKYhA/Bzn/tc3va2t+Xi\\\n",
              "iy/OZZddNuk+Bw4cyM0335yLL744V1xxRT75yU/m17/+9bkdKABADVxQ6wHMhKNHj+ZDH/pQOjo6\\\n",
              "8nd/93cnbT927FhuvvnmtLW15Xvf+15+/vOf55ZbbsmFF16Yv/iLv6jBiAEAzp1ZlUqlUutBzJRt\\\n",
              "27bl9ttvz/PPPz/u8W9+85v5wz/8wxw6dCjz589Pktx33335sz/7swwODmbOnDmn9fzDw8NpaWnJ\\\n",
              "0NBQmpubz/bwAYAZ4PO7QQ8Bv5xdu3bljW98YzX+kmTlypUZHh7O008/PeXPjYyMZHh4eNwNAKDe\\\n",
              "FBmAAwMD4+IvSfX+wMDAlD+3adOmtLS0VG+LFi2a0XECAMyEugnAO++8M7NmzTrlbf/+/TM6hg0b\\\n",
              "NmRoaKh6O3jw4Iz+fQAAM6FuTgK54447snr16lPu84Y3vOG0nqutrS0/+MEPxj12+PDh6rapNDU1\\\n",
              "pamp6bT+DgCA81XdBGBra2taW1vPynN1dHTkc5/7XJ577rlcccUVSZJHH300zc3NWbp06Vn5OwAA\\\n",
              "zld1E4Bn4sCBA/nlL3+ZAwcO5NixY9mzZ0+S5Morr8wll1ySG2+8MUuXLs1HPvKR3HPPPRkYGMin\\\n",
              "P/3pdHd3m+EDABpeQ14GZvXq1XnggQdOevyxxx7LO9/5ziTJf/3Xf+W2227L448/nle/+tXp6urK\\\n",
              "3XffnQsuOP0mdho5ANQfn98NGoDnin9AAFB/fH7X0VnAAACcHQIQAKAwAhAAoDACEACgMAIQAKAw\\\n",
              "AhAAoDACEACgMAIQAKAwAhAAoDACEACgMAIQAKAwAhAAoDACEACgMAIQAKAwAhAAoDACEACgMAIQ\\\n",
              "AKAwAhAAoDACEACgMAIQAKAwAhAAoDACEACgMAIQAKAwAhAAoDACEACgMAIQAKAwAhAAoDACEACg\\\n",
              "MAIQAKAwAhAAoDACEACgMAIQAKAwAhAAoDACEACgMAIQAKAwAhAAoDACEACgMAIQAKAwAhAAoDAC\\\n",
              "EACgMAIQAKAwAhAAoDACEACgMAIQAKAwAhAAoDANGYA//elPc+utt2bJkiWZO3dufvu3fzs9PT05\\\n",
              "evTouP3+4z/+I7//+7+fiy66KIsWLco999xToxEDAJw7F9R6ADNh//79OX78eLZu3Zorr7wy/f39\\\n",
              "+fjHP54jR47kC1/4QpJkeHg4N954Y1asWJH77rsvTz31VD72sY/lsssuy5/8yZ/U+L8AAGDmzKpU\\\n",
              "KpVaD+Jc+PznP5977703//mf/5kkuffee/OpT30qAwMDmTNnTpLkzjvvzI4dO7J///7Tes7h4eG0\\\n",
              "tLRkaGgozc3NMzZ2AODs8fndoIeAJzM0NJR58+ZV7+/atSvveMc7qvGXJCtXrswzzzyT//mf/6nF\\\n",
              "EAEAzokiAvDZZ5/N5s2bs2bNmupjAwMDmT9//rj9Ru8PDAxM+jwjIyMZHh4edwMAqDd1FYB33nln\\\n",
              "Zs2adcrbxMO3P/vZz/Ke97wnH/rQh/Lxj398Wn//pk2b0tLSUr0tWrRoWs8HAFALdbUGcHBwMP/9\\\n",
              "3/99yn3e8IY3VA/rHjp0KO985ztz/fXXZ9u2bZk9+ze9e8stt2R4eDg7duyoPvbYY4/lhhtuyC9/\\\n",
              "+cu85jWvOem5R0ZGMjIyUr0/PDycRYsWFb2GAADqjTWAdXYWcGtra1pbW09r35/97Gd517veleXL\\\n",
              "l+f+++8fF39J0tHRkU996lN56aWXcuGFFyZJHn300Vx11VWTxl+SNDU1pampaXr/EQAANVZXh4BP\\\n",
              "189+9rO8853vzOLFi/OFL3whg4ODGRgYGLe274//+I8zZ86c3HrrrXn66afz0EMP5Utf+lLWr19f\\\n",
              "w5EDAMy8upoBPF2PPvponn322Tz77LNZuHDhuG2jR7xbWlry7W9/O93d3Vm+fHkuv/zy3HXXXa4B\\\n",
              "CAA0vLpaA3i+sYYAAOqPz+8GPQQMAMDUBCAAQGEEIABAYQQgAEBhBCAAQGEEIABQc729venr6zvl\\\n",
              "Pn19fent7T03A2pwDXkdQACgfvT29mbjxo3V+93d3Sft09fXl7Vr1477GV45M4AAQM1MjL+1a9ee\\\n",
              "NBM4Mf42btwoAKdJAAIANTEx/kaNjcCJ8TdKBE6PbwKZBlcSB4BXZqr4G6u9vT379u075T49PT1n\\\n",
              "HII+v80AAgA10NraOuW2ZVmWJNX4G71/ps/D1AQgAHDOdXd3Z8uWLSc93pWubM7mdKYzSdKZzmzO\\\n",
              "5nSl66R9t2zZMukJI7w8h4CnwRQyAEzP2DV+y7Ism7O5um0oQ2lJS/X+uqxLf/qTTC/+fH6bAQQA\\\n",
              "amjsTGB/+rM1W6vbxsbf1mw9K/HHCWYAp8FvEABwdixdurS65m9HdoyLv6EMZVVWJTlxYsjevXun\\\n",
              "9Xf5/DYDCADUWF9fXzX+OtM5Lv6SEzOBo2sC9+3b97LfGMLLE4AAQM1MXAO4Jmuq24YyVP3zmqyp\\\n",
              "ng082cWiOTMCEACoiYkXee5Pf7ZlW5ITa/5WZVV1TeC2bKuuAUxE4HRZAzgN1hAAwCsz1Td8JCdm\\\n",
              "AsfG3sT7Y72SE0J8fpsBBABqYHBwcMpto7HX3t4+7v6ZPg9TE4AAwDnX29ubnp6eKbdv2bIle/fu\\\n",
              "nfRi0aNeydfAcYIABABqYqoIHHtYd6pvDBF/0yMAAYCamRiBk63pmxiB4m/6Lqj1AACAso3GXGtr\\\n",
              "65QndIw+Pjg4KP7OAmcBT4OziABgan3/5zvVP3ffd0MNRzKez2+HgAEAiiMAAQAKYw0gADAjzqfD\\\n",
              "voxnBhAAoDACEACgMAIQAKAwAhAAoDACEACgMAIQAKAwAhAAoDACEACgMAIQAKAwAhAAoDACEACg\\\n",
              "MAIQAKAwAhAAoDAX1HoA9axSqSRJhoeHazwSAOB0jX5uj36Ol0gATsMLL7yQJFm0aFGNRwIAnKkX\\\n",
              "XnghLS0ttR5GTcyqlJy/03T8+PEcOnQol156aWbNmlXr4TSU4eHhLFq0KAcPHkxzc3Oth9OwvM7n\\\n",
              "htf53PA6nzv1/lpXKpW88MILWbBgQWbPLnM1nBnAaZg9e3YWLlxY62E0tObm5rp8c6k3Xudzw+t8\\\n",
              "bnidz516fq1LnfkbVWb2AgAUTAACABRGAHJeampqSk9PT5qammo9lIbmdT43vM7nhtf53PFa1z8n\\\n",
              "gQAAFMYMIABAYQQgAEBhBCAAQGEEIABAYQQg553Pfe5zedvb3paLL744l1122aT7HDhwIDfffHMu\\\n",
              "vvjiXHHFFfnkJz+ZX//61+d2oHWur68vr3/963PRRRfluuuuyw9+8INaD6nuffe738173/veLFiw\\\n",
              "ILNmzcqOHTvGba9UKrnrrrvyute9LnPnzs2KFSvy4x//uDaDrWObNm3KW9/61lx66aW54oorsmrV\\\n",
              "qjzzzDPj9nnxxRfT3d2d1772tbnkkkvygQ98IIcPH67RiOvTvffemze96U3Viz13dHTkm9/8ZnW7\\\n",
              "17i+CUDOO0ePHs2HPvSh3HbbbZNuP3bsWG6++eYcPXo03/ve9/LAAw9k27Ztueuuu87xSOvXQw89\\\n",
              "lPXr16enpyc/+tGPcs0112TlypV57rnnaj20unbkyJFcc8016evrm3T7Pffcky9/+cu577778uST\\\n",
              "T+bVr351Vq5cmRdffPEcj7S+PfHEE+nu7s73v//9PProo3nppZdy44035siRI9V9PvGJT+TrX/96\\\n",
              "Hn744TzxxBM5dOhQ3v/+99dw1PVn4cKFufvuu7N79+788Ic/zA033JD3ve99efrpp5N4jeteBc5T\\\n",
              "999/f6WlpeWkx//lX/6lMnv27MrAwED1sXvvvbfS3NxcGRkZOYcjrF/XXnttpbu7u3r/2LFjlQUL\\\n",
              "FlQ2bdpUw1E1liSVRx55pHr/+PHjlba2tsrnP//56mPPP/98pampqfLVr361BiNsHM8991wlSeWJ\\\n",
              "J56oVConXtcLL7yw8vDDD1f32bdvXyVJZdeuXbUaZkN4zWteU/nbv/1br3EDMANI3dm1a1fe+MY3\\\n",
              "Zv78+dXHVq5cmeHh4epvpkzt6NGj2b17d1asWFF9bPbs2VmxYkV27dpVw5E1tp/85CcZGBgY97q3\\\n",
              "tLTkuuuu87pP09DQUJJk3rx5SZLdu3fnpZdeGvdaX3311Vm8eLHX+hU6duxYtm/fniNHjqSjo8Nr\\\n",
              "3AAuqPUA4EwNDAyMi78k1fsDAwO1GFJd+cUvfpFjx45N+hru37+/RqNqfKP/Nid73f27feWOHz+e\\\n",
              "22+/PW9/+9uzbNmyJCde6zlz5py0hthrfeaeeuqpdHR05MUXX8wll1ySRx55JEuXLs2ePXu8xnXO\\\n",
              "DCDnxJ133plZs2ad8iY+gDPV3d2d/v7+bN++vdZDaUhXXXVV9uzZkyeffDK33XZburq6snfv3loP\\\n",
              "i7PADCDnxB133JHVq1efcp83vOENp/VcbW1tJ52xOnrmWVtb2ysaX0kuv/zyvOpVrzrpbL3Dhw97\\\n",
              "/WbQ6Gt7+PDhvO51r6s+fvjw4bz5zW+u0ajq29q1a/ONb3wj3/3ud7Nw4cLq421tbTl69Gief/75\\\n",
              "cTNU/o2fuTlz5uTKK69Mkixfvjz//u//ni996Uv58Ic/7DWuc2YAOSdaW1tz9dVXn/I2Z86c03qu\\\n",
              "jo6OPPXUU+POWH300UfT3NycpUuXztR/QsOYM2dOli9fnp07d1YfO378eHbu3JmOjo4ajqyxLVmy\\\n",
              "JG1tbeNe9+Hh4Tz55JNe9zNUqVSydu3aPPLII/nOd76TJUuWjNu+fPnyXHjhheNe62eeeSYHDhzw\\\n",
              "Wk/T8ePHMzIy4jVuAGYAOe8cOHAgv/zlL3PgwIEcO3Yse/bsSZJceeWVueSSS3LjjTdm6dKl+chH\\\n",
              "PpJ77rknAwMD+fSnP53u7u40NTXVdvB1Yv369enq6spb3vKWXHvttfniF7+YI0eO5KMf/With1bX\\\n",
              "fvWrX+XZZ5+t3v/JT36SPXv2ZN68eVm8eHFuv/32fPazn83v/M7vZMmSJfnMZz6TBQsWZNWqVbUb\\\n",
              "dB3q7u7Ogw8+mK997Wu59NJLq2vOWlpaMnfu3LS0tOTWW2/N+vXrM2/evDQ3N2fdunXp6OjI9ddf\\\n",
              "X+PR148NGzbkpptuyuLFi/PCCy/kwQcfzOOPP55vfetbXuNGUOvTkGGirq6uSpKTbo899lh1n5/+\\\n",
              "9KeVm266qTJ37tzK5ZdfXrnjjjsqL730Uu0GXYc2b95cWbx4cWXOnDmVa6+9tvL973+/1kOqe489\\\n",
              "9tik/3a7uroqlcqJS8F85jOfqcyfP7/S1NRUefe731155plnajvoOjTZa5ykcv/991f3+d///d/K\\\n",
              "n/7pn1Ze85rXVC6++OLKH/3RH1V+/vOf127QdehjH/tY5bd+67cqc+bMqbS2tlbe/e53V7797W9X\\\n",
              "t3uN69usSqVSOffZCQBArVgDCABQGAEIAFAYAQgAUBgBCABQGAEIAFAYAQgAUBgBCABQGAEIAFAY\\\n",
              "AQgAUBgBCABQGAEIAFAYAQgAUBgBCABQGAEIAFAYAQgAUBgBCABQGAEIAFAYAQgAUBgBCABQGAEI\\\n",
              "AFAYAQgAUBgBCABQGAEIAFAYAQgAUBgBCABQGAEIAFAYAQgAUBgBCABQGAEIAFAYAQgAUBgBCABQ\\\n",
              "mP8HmHEizNoGSq4AAAAASUVORK5CYII=\\\n",
              "\"\n",
              "  frames[4] = \"data:image/png;base64,iVBORw0KGgoAAAANSUhEUgAAAoAAAAHgCAYAAAA10dzkAAAAOnRFWHRTb2Z0d2FyZQBNYXRwbG90\\\n",
              "bGliIHZlcnNpb24zLjEwLjAsIGh0dHBzOi8vbWF0cGxvdGxpYi5vcmcvlHJYcgAAAAlwSFlzAAAP\\\n",
              "YQAAD2EBqD+naQAAJuxJREFUeJzt3X9s3Hdh//FXQhs3pbVLqBsTJRlh3VpHgSIF2ho2BCVrqDpE\\\n",
              "xg9hTaIOVCzfzolUUqE1A2pHgqUrfDcgMW2mbU33R0lVaQ2DjUEV2iKNUEZQtLpJKqrBEhGcmrHa\\\n",
              "JVqdktz3j3x92I6dJnWcy9378UAncvf5+PLuKbp7+v15fz43q1KpVAIAQDFm13oAAACcWwIQAKAw\\\n",
              "AhAAoDACEACgMAIQAKAwAhAAoDACEACgMAIQAKAwAhAAoDACEACgMAIQAKAwAhAAoDACEACgMAIQ\\\n",
              "AKAwAhAAoDACEACgMAIQAKAwAhAAoDACEACgMAIQAKAwAhAAoDACEACgMAIQAKAwAhAAoDACEACg\\\n",
              "MAIQAKAwAhAAoDACEACgMAIQAKAwAhAAoDACEACgMAIQAKAwAhAAoDACEACgMAIQAKAwAhAAoDAC\\\n",
              "EACgMAIQAKAwAhAAoDACEACgMAIQAKAwAhAAoDACEACgMAIQAKAwAhAAoDACEACgMAIQAKAwAhAA\\\n",
              "oDACEACgMAIQAKAwAhAAoDACEACgMAIQAKAwAhAAoDACEACgMAIQAKAwF9R6APXs+PHjOXToUC69\\\n",
              "9NLMmjWr1sMBAE5DpVLJCy+8kAULFmT27DLnwgTgNBw6dCiLFi2q9TAAgFfg4MGDWbhwYa2HURMC\\\n",
              "cBouvfTSJCf+ATU3N9d4NADA6RgeHs6iRYuqn+MlEoDTMHrYt7m5WQACQJ0peflWmQe+AQAKJgAB\\\n",
              "AAojAAEACiMAAQAKIwBhjN7e3vT19Z1yn76+vvT29p6bAQHADHAWMPx/vb292bhxY/V+d3f3Sfv0\\\n",
              "9fVl7dq1434GAOqNGUDIyfG3du3ak2YCJ8bfxo0bBSAAdUkAUryJ8TdqbAROjL9RIhCAejSrUqlU\\\n",
              "aj2IejU8PJyWlpYMDQ25EHSdmir+xmpvb8++fftOuU9PT48QBKgTPr/NAFK41tbWKbcty7Ikqcbf\\\n",
              "6P0zfR4AON8IQIrW3d2dLVu2nPR4V7qyOZvTmc4kSWc6szmb05Wuk/bdsmXLpCeMAMD5yiHgaTCF\\\n",
              "3DjGrvFblmXZnM3VbUMZSktaqvfXZV36059E/AHUI5/fZgAhyfiZwP70Z2u2VreNjb+t2Sr+AKh7\\\n",
              "ZgCnwW8QjWfp0qXVNX87smNc/A1lKKuyKsmJE0P27t1biyECME0+v80AQlVfX181/jrTOS7+khMz\\\n",
              "gaNrAvft2/ey3xgCAOcrAQg5eQ3gmqypbhvKUPXPa7KmejbwZBeLBoB6IAAp3sSLPPenP9uyLcmJ\\\n",
              "NX+rsqq6JnBbtlXXACYiEID6ZA3gNFhDUP+m+oaP5MRM4NjYm3h/LCeEANQPn99mACnc4ODglNtG\\\n",
              "Y6+9vX3c/TN9HgA43whAitbb25uenp4pt2/ZsiV79+6d9GLRo3wNHAD1RgBSvKkicOxh3am+MUT8\\\n",
              "AVCPBCDk5AicbE3fxAgUfwDUqwtqPQA4X4zGXGtr65QndIw+Pjg4KP6AutXb23vK97rkxEly3usa\\\n",
              "lwCEMU7njc7ZvkA96+3tzcaNG6v3J3tPm3iFBBHYeBwCBoBCTIy/ya5lOjH+Nm7cKAAbkBlAGlPv\\\n",
              "mK9x6x2aej+AQkyMv1Gjsdfd3T3ltVFHf04INg4BCAANbqr4GzU6Ezj6feiTEYGNxSFgAGhwra2t\\\n",
              "U24b/X7z0fgbvX+mz0N9EYA0pt6h39wACjfVtUy70pXN2ZzOdCZJOtOZzdmcrnSdtK+vvGwsvgt4\\\n",
              "GnyXIAD1ZOwav2VZls3ZXN02lKG05Dfrp9dlXfUrMBst/nx+mwEEgGKMnQnsT3+2Zmt129j425qt\\\n",
              "DRt/nGAGcBr8BgFAPVq6dGl1zd+O7BgXf0MZyqqsSpK0t7dn7969tRjijPL53cAzgPfee2/e9KY3\\\n",
              "pbm5Oc3Nzeno6Mg3v/nN6vYXX3wx3d3dee1rX5tLLrkkH/jAB3L48OEajhgAZt7Ys3070zku/pIT\\\n",
              "M4GjawL37dt30nUCaQwNG4ALFy7M3Xffnd27d+eHP/xhbrjhhrzvfe/L008/nST5xCc+ka9//et5\\\n",
              "+OGH88QTT+TQoUN5//vfX+NRA8DMmbgGcE3WVLcN5Tcnza3JmurZwJNdLJr6V9Qh4Hnz5uXzn/98\\\n",
              "PvjBD6a1tTUPPvhgPvjBDyZJ9u/fn/b29uzatSvXX3/9aT2fKWQA6sVkF3nuSldWZ3W2Zmu2Z3s6\\\n",
              "05k1WZNt2ZYH8sC4fRtpLaDP70IuBH3s2LE8/PDDOXLkSDo6OrJ79+689NJLWbFiRXWfq6++OosX\\\n",
              "Lz6jAASAejDVN3w8kAeyO7urJ3xsz/b0////TTT2G0Oofw0dgE899VQ6Ojry4osv5pJLLskjjzyS\\\n",
              "pUuXZs+ePZkzZ04uu+yycfvPnz8/AwMDUz7fyMhIRkZGqveHh4dnaugAcNYMDg5OuW009trb27Nv\\\n",
              "375J4+90nof60rBrAJPkqquuyp49e/Lkk0/mtttuS1dX17TOZtq0aVNaWlqqt0WLFp3F0QLAzOjt\\\n",
              "7U1PT8+U27ds2ZK9e/dOerHoUT09Pb4GroE0dADOmTMnV155ZZYvX55NmzblmmuuyZe+9KW0tbXl\\\n",
              "6NGjef7558ftf/jw4bS1tU35fBs2bMjQ0FD1dvDgwRn+LwCAs2OqCBy7tm+qbwwRf42noQNwouPH\\\n",
              "j2dkZCTLly/PhRdemJ07d1a3PfPMMzlw4EA6Ojqm/PmmpqbqZWVGbwBQLyZG4GQndkyMQPHXmBp2\\\n",
              "DeCGDRty0003ZfHixXnhhRfy4IMP5vHHH8+3vvWttLS05NZbb8369eszb968NDc3Z926deno6HAC\\\n",
              "CAANbTTmWltbpzyhY/TxwcFB8degGjYAn3vuudxyyy35+c9/npaWlrzpTW/Kt771rfzBH/xBkuSv\\\n",
              "//qvM3v27HzgAx/IyMhIVq5cma985Ss1HjUAvDKvv/Ofq3/+6d03n3Lf04k6Z/s2tqKuA3i2uY4Q\\\n",
              "AOeLMwnA0vn8LmwNIAAADXwIGABKYtaPM2EGEACgMAIQAKAwAhAAoDACEACgMAIQAKAwAhAAoDAC\\\n",
              "EACgMAIQAKAwAhAAoDACEACgMAIQAKAwAhAAoDACEACgMAIQAKAwAhAAoDACEACgMAIQAKAwAhAA\\\n",
              "oDACEACgMAIQAKAwAhAAoDACEACgMAIQAKAwAhAAoDACEACgMAKwwfT29qavr++U+/T19aW3t/fc\\\n",
              "DAgAOO9cUOsBcPb09vZm48aN1fvd3d0n7dPX15e1a9eO+xkAoCxmABvExPhbu3btSTOBE+Nv48aN\\\n",
              "AhAACiQAG8DE+Bs1NgInxt8oEQgA5ZlVqVQqtR5EvRoeHk5LS0uGhobS3NxckzFMFX9jtbe3Z9++\\\n",
              "fafcp6enRwgCUITz4fO71swA1rnW1tYpty3LsiSpxt/o/TN9HgCgsQjAOtfd3Z0tW7ac9HhXurI5\\\n",
              "m9OZziRJZzqzOZvTla6T9t2yZcukJ4wAAI3JIeBpOJ+mkMeu8VuWZdmczdVtQxlKS1qq99dlXfrT\\\n",
              "n0T8AVCe8+nzu1bMADaIsTOB/enP1mytbhsbf1uzVfwBQOHMAE7D+fgbxNKlS6tr/nZkx7j4G8pQ\\\n",
              "VmVVkhMnhuzdu7cWQwSAmjofP7/PNTOADaSvr68af53pHBd/yYmZwNE1gfv27XvZbwwBABqTAGwQ\\\n",
              "E9cArsma6rahDFX/vCZrqmcDT3axaACg8QnABjDxIs/96c+2bEtyYs3fqqyqrgnclm3VNYCJCASA\\\n",
              "ElkDOA3nwxqCqb7hIzkxEzg29ibeH8sJIQCU4nz4/K41M4B1bnBwcMpto7HX3t4+7v6ZPg8A0FgE\\\n",
              "YJ3r7e1NT0/PlNu3bNmSvXv3Tnqx6FG+Bg4AyiIAG8BUETj2sO5U3xgi/gCgPAKwQUyMwMnW9E2M\\\n",
              "QPEHAGW6oNYDmCmbNm3KP/7jP2b//v2ZO3du3va2t+Uv//Ivc9VVV1X3efHFF3PHHXdk+/btGRkZ\\\n",
              "ycqVK/OVr3wl8+fPr+HIT9h3dXv1z+37953Wz4zGXGtr65QndIw+Pjg4KP4AoFANexbwe97znnR2\\\n",
              "duatb31rfv3rX+fP//zP09/fn7179+bVr351kuS2227LP//zP2fbtm1paWnJ2rVrM3v27Pzbv/3b\\\n",
              "af0dM3kW0SsJQADg5TkLuIEDcKLBwcFcccUVeeKJJ/KOd7wjQ0NDaW1tzYMPPpgPfvCDSZL9+/en\\\n",
              "vb09u3btyvXXX/+yzykAAaD+CMAGPgQ80dDQiW/DmDdvXpJk9+7deemll7JixYrqPldffXUWL158\\\n",
              "2gE4k0QfADBTigjA48eP5/bbb8/b3/72LFt24mvQBgYGMmfOnFx22WXj9p0/f34GBgYmfZ6RkZGM\\\n",
              "jIxU7w8PD8/YmAEAZkoRZwF3d3env78/27dvn9bzbNq0KS0tLdXbokWLztIIAQDOnYYPwLVr1+Yb\\\n",
              "3/hGHnvssSxcuLD6eFtbW44ePZrnn39+3P6HDx9OW1vbpM+1YcOGDA0NVW8HDx6cyaEDAMyIhg3A\\\n",
              "SqWStWvX5pFHHsl3vvOdLFmyZNz25cuX58ILL8zOnTurjz3zzDM5cOBAOjo6Jn3OpqamNDc3j7sB\\\n",
              "ANSbhl0D2N3dnQcffDBf+9rXcumll1bX9bW0tGTu3LlpaWnJrbfemvXr12fevHlpbm7OunXr0tHR\\\n",
              "UfMTQAAAZlLDXgZm1qxZkz5+//33Z/Xq1Ul+cyHor371q+MuBD3VIeCJnEYOAPXH53cDB+C54B8Q\\\n",
              "ANQfn98NvAYQAIDJCUAAgMIIQACAwghAAIDCCEAAgMIIQACAwghAAIDCCEAAgMIIQACAwghAAIDC\\\n",
              "CEAAgMIIQACAwghAAIDCCEAAgMIIQACAwghAAIDCCEAAgMIIQACAwghAAIDCCEAAgMIIQACAwghA\\\n",
              "AIDCCEAAgMIIQACAwghAAIDCCEAAgMIIQACAwghAAIDCCEAAgMIIQACAwghAAIDCCEAAgMIIQACA\\\n",
              "wghAAIDCCEAAgMIIQACAwghAAIDCCEAAgMIIQACAwghAAIDCCEAAgMIIQACAwghAAIDCCEAAgMII\\\n",
              "QACAwghAAIDCNGwAfve738173/veLFiwILNmzcqOHTvGba9UKrnrrrvyute9LnPnzs2KFSvy4x//\\\n",
              "uDaD5bzW29ubvr6+U+7T19eX3t7eczMgAJimC2o9gJly5MiRXHPNNfnYxz6W97///Sdtv+eee/Ll\\\n",
              "L385DzzwQJYsWZLPfOYzWblyZfbu3ZuLLrqoBiPmfNTb25uNGzdW73d3d5+0T19fX9auXTvuZwDg\\\n",
              "fNawAXjTTTflpptumnRbpVLJF7/4xXz605/O+973viTJP/zDP2T+/PnZsWNHOjs7z+VQOU9NjL/R\\\n",
              "yBsbgRPjb3R/EQjA+axhDwGfyk9+8pMMDAxkxYoV1cdaWlpy3XXXZdeuXVP+3MjISIaHh8fdaEwT\\\n",
              "42/U2rVrq4eDJ8bfqI0bNwpAgNNgiU3tNOwM4KkMDAwkSebPnz/u8fnz51e3TWbTpk2TRgGNZar4\\\n",
              "GzUagfv27ZtyHzOBAKdmiU1tFTkD+Ept2LAhQ0ND1dvBgwdrPSRmQGtr65TblmVZklTjb/T+mT4P\\\n",
              "QMkmW2IzcSZwsiU2AvDsKTIA29rakiSHDx8e9/jhw4er2ybT1NSU5ubmcTcaT3d3d7Zs2XLS413p\\\n",
              "yuZsTmdOrBHtTGc2Z3O60nXSvlu2bJn0t1mA0llic34oMgCXLFmStra27Ny5s/rY8PBwnnzyyXR0\\\n",
              "dNRwZJwvJkbgsizL6qxOkqzJmuzIjqzJmiTJ6qweNxMo/gAmdzpLbJYuXTpp/I0SgWdHwwbgr371\\\n",
              "q+zZsyd79uxJcuLEjz179uTAgQOZNWtWbr/99nz2s5/NP/3TP+Wpp57KLbfckgULFmTVqlU1HTfn\\\n",
              "j7ER2J/+bM3W6raWtFT/vDVb05/+JOIP4FQssTl/zKpUKpVaD2ImPP7443nXu9510uNdXV3Ztm1b\\\n",
              "KpVKenp68jd/8zd5/vnn83u/93v5yle+kt/93d897b9jeHg4LS0tGRoacji4gS1durT6hrQjO8bF\\\n",
              "31CGsiqrkiTt7e3Zu3dvLYYIUDcmO7zbla6szupszdZsz/Z0pjNrsibbsi0P5IFx+56NX7R9fjdw\\\n",
              "AJ4L/gE1vrFvVKNvSBONvmElZgABTsfY99ZlWZbN2VzdNpShcb9or8u6s36Uxed3Ax8Chuma+AY1\\\n",
              "Nv6GMlT985qsqR6qmOxMNgDGs8Sm9gQgTGLiIYr+9GdbtiU58Ya0Kquqb1jbsq36BpWIQIDT0d3d\\\n",
              "nfb29iTJ9mwf94t1cuIX7dGjK+3t7eLvLBOAMMFUlx94IA9kXdZV35C2Z3vWZd1J61MSEQjwcsZe\\\n",
              "UL8zneNm/pITM4Gjl93at2+f99SzTADCBIODg1NuG53pG/2tdezM35k8D0DJLLGpPQEIE/T29qan\\\n",
              "p2fK7Vu2bMnevXsnvVj0qJ6eHtepApiEJTbnB2cBT4OziBrbZBcsnbgIebLDxeIPYHJTLbFJTswE\\\n",
              "jo29iffHmu4JIT6/zQDClCbOBE72hjPxG0PEH8DULLE5f1xQ6wHAufTGB95Y/fNTXU+97P6jMdfa\\\n",
              "2jrlb5ujjw8ODoo/gFMYfY+c6uvgRn/RPtVMoV+0zw4BCC/jdN5oXJ4A4PRMFYFjj7KM/r8lNjPH\\\n",
              "IWAA4JyyxKb2zABSlNM57AvAzLPEpracBTwNziICoGT/98N/WP3zHQ99o4YjOTM+vx0CBgAojgAE\\\n",
              "ACiMNYAAwCtST4d9Gc8MIABAYQQgAEBhBCAAQGEEIABAYQQgAEBhBCAAQGEEIABAYQQgAEBhBCAA\\\n",
              "QGEEIABAYQQgAEBhBCAAQGEEIABAYQQgAEBhBCAAQGEEIABAYQQgAEBhBCAAQGEEIABAYQQgAEBh\\\n",
              "BCAAQGEEIABAYQQgAEBhBCAAQGEEIABAYQQgAEBhBCAAQGEEIABAYQQgAEBhBCAAQGGKD8C+vr68\\\n",
              "/vWvz0UXXZTrrrsuP/jBD2o9JACAGVV0AD700ENZv359enp68qMf/SjXXHNNVq5cmeeee67WQwMA\\\n",
              "mDFFB+Bf/dVf5eMf/3g++tGPZunSpbnvvvty8cUX5+///u9rPTQAgBlTbAAePXo0u3fvzooVK6qP\\\n",
              "zZ49OytWrMiuXbsm/ZmRkZEMDw+PuwEA1JtiA/AXv/hFjh07lvnz5497fP78+RkYGJj0ZzZt2pSW\\\n",
              "lpbqbdGiRediqAAAZ1WxAfhKbNiwIUNDQ9XbwYMHaz0kAIAzdkGtB1Arl19+eV71qlfl8OHD4x4/\\\n",
              "fPhw2traJv2ZpqamNDU1nYvhAQDMmGJnAOfMmZPly5dn586d1ceOHz+enTt3pqOjo4YjAwCYWcXO\\\n",
              "ACbJ+vXr09XVlbe85S259tpr88UvfjFHjhzJRz/60VoPDQBgxhQdgB/+8IczODiYu+66KwMDA3nz\\\n",
              "m9+cf/3Xfz3pxBAAgEYyq1KpVGo9iHo1PDyclpaWDA0Npbm5udbDAQBOg8/vgtcAAgCUSgACABRG\\\n",
              "AAIAFEYAAgAURgACABRGAAIAFEYAAgAURgACABRGAAIAFEYAAgAURgACABRGAAIAFEYAAgAURgAC\\\n",
              "ABRGAAIAFEYAAgAURgACABRGAAIAFEYAAgAURgACABRGAAIAFEYAAgAURgACABRGAAIAFEYAAgAU\\\n",
              "RgACABRGAAIAFEYAAgAURgACABRGAAIAFEYAAgAURgACABRGAAIAFEYAAgAURgACABRGAAIAFEYA\\\n",
              "AgAURgACABRGAAIAFEYAAgAURgACABRGAAIAFEYAAgAURgACABRGAAIAFKYhA/Bzn/tc3va2t+Xi\\\n",
              "iy/OZZddNuk+Bw4cyM0335yLL744V1xxRT75yU/m17/+9bkdKABADVxQ6wHMhKNHj+ZDH/pQOjo6\\\n",
              "8nd/93cnbT927FhuvvnmtLW15Xvf+15+/vOf55ZbbsmFF16Yv/iLv6jBiAEAzp1ZlUqlUutBzJRt\\\n",
              "27bl9ttvz/PPPz/u8W9+85v5wz/8wxw6dCjz589Pktx33335sz/7swwODmbOnDmn9fzDw8NpaWnJ\\\n",
              "0NBQmpubz/bwAYAZ4PO7QQ8Bv5xdu3bljW98YzX+kmTlypUZHh7O008/PeXPjYyMZHh4eNwNAKDe\\\n",
              "FBmAAwMD4+IvSfX+wMDAlD+3adOmtLS0VG+LFi2a0XECAMyEugnAO++8M7NmzTrlbf/+/TM6hg0b\\\n",
              "NmRoaKh6O3jw4Iz+fQAAM6FuTgK54447snr16lPu84Y3vOG0nqutrS0/+MEPxj12+PDh6rapNDU1\\\n",
              "pamp6bT+DgCA81XdBGBra2taW1vPynN1dHTkc5/7XJ577rlcccUVSZJHH300zc3NWbp06Vn5OwAA\\\n",
              "zld1E4Bn4sCBA/nlL3+ZAwcO5NixY9mzZ0+S5Morr8wll1ySG2+8MUuXLs1HPvKR3HPPPRkYGMin\\\n",
              "P/3pdHd3m+EDABpeQ14GZvXq1XnggQdOevyxxx7LO9/5ziTJf/3Xf+W2227L448/nle/+tXp6urK\\\n",
              "3XffnQsuOP0mdho5ANQfn98NGoDnin9AAFB/fH7X0VnAAACcHQIQAKAwAhAAoDACEACgMAIQAKAw\\\n",
              "AhAAoDACEACgMAIQAKAwAhAAoDACEACgMAIQAKAwAhAAoDACEACgMAIQAKAwAhAAoDACEACgMAIQ\\\n",
              "AKAwAhAAoDACEACgMAIQAKAwAhAAoDACEACgMAIQAKAwAhAAoDACEACgMAIQAKAwAhAAoDACEACg\\\n",
              "MAIQAKAwAhAAoDACEACgMAIQAKAwAhAAoDACEACgMAIQAKAwAhAAoDACEACgMAIQAKAwAhAAoDAC\\\n",
              "EACgMAIQAKAwAhAAoDACEACgMAIQAKAwAhAAoDANGYA//elPc+utt2bJkiWZO3dufvu3fzs9PT05\\\n",
              "evTouP3+4z/+I7//+7+fiy66KIsWLco999xToxEDAJw7F9R6ADNh//79OX78eLZu3Zorr7wy/f39\\\n",
              "+fjHP54jR47kC1/4QpJkeHg4N954Y1asWJH77rsvTz31VD72sY/lsssuy5/8yZ/U+L8AAGDmzKpU\\\n",
              "KpVaD+Jc+PznP5977703//mf/5kkuffee/OpT30qAwMDmTNnTpLkzjvvzI4dO7J///7Tes7h4eG0\\\n",
              "tLRkaGgozc3NMzZ2AODs8fndoIeAJzM0NJR58+ZV7+/atSvveMc7qvGXJCtXrswzzzyT//mf/6nF\\\n",
              "EAEAzokiAvDZZ5/N5s2bs2bNmupjAwMDmT9//rj9Ru8PDAxM+jwjIyMZHh4edwMAqDd1FYB33nln\\\n",
              "Zs2adcrbxMO3P/vZz/Ke97wnH/rQh/Lxj398Wn//pk2b0tLSUr0tWrRoWs8HAFALdbUGcHBwMP/9\\\n",
              "3/99yn3e8IY3VA/rHjp0KO985ztz/fXXZ9u2bZk9+ze9e8stt2R4eDg7duyoPvbYY4/lhhtuyC9/\\\n",
              "+cu85jWvOem5R0ZGMjIyUr0/PDycRYsWFb2GAADqjTWAdXYWcGtra1pbW09r35/97Gd517veleXL\\\n",
              "l+f+++8fF39J0tHRkU996lN56aWXcuGFFyZJHn300Vx11VWTxl+SNDU1pampaXr/EQAANVZXh4BP\\\n",
              "189+9rO8853vzOLFi/OFL3whg4ODGRgYGLe274//+I8zZ86c3HrrrXn66afz0EMP5Utf+lLWr19f\\\n",
              "w5EDAMy8upoBPF2PPvponn322Tz77LNZuHDhuG2jR7xbWlry7W9/O93d3Vm+fHkuv/zy3HXXXa4B\\\n",
              "CAA0vLpaA3i+sYYAAOqPz+8GPQQMAMDUBCAAQGEEIABAYQQgAEBhBCAAQGEEIABQc729venr6zvl\\\n",
              "Pn19fent7T03A2pwDXkdQACgfvT29mbjxo3V+93d3Sft09fXl7Vr1477GV45M4AAQM1MjL+1a9ee\\\n",
              "NBM4Mf42btwoAKdJAAIANTEx/kaNjcCJ8TdKBE6PbwKZBlcSB4BXZqr4G6u9vT379u075T49PT1n\\\n",
              "HII+v80AAgA10NraOuW2ZVmWJNX4G71/ps/D1AQgAHDOdXd3Z8uWLSc93pWubM7mdKYzSdKZzmzO\\\n",
              "5nSl66R9t2zZMukJI7w8h4CnwRQyAEzP2DV+y7Ism7O5um0oQ2lJS/X+uqxLf/qTTC/+fH6bAQQA\\\n",
              "amjsTGB/+rM1W6vbxsbf1mw9K/HHCWYAp8FvEABwdixdurS65m9HdoyLv6EMZVVWJTlxYsjevXun\\\n",
              "9Xf5/DYDCADUWF9fXzX+OtM5Lv6SEzOBo2sC9+3b97LfGMLLE4AAQM1MXAO4Jmuq24YyVP3zmqyp\\\n",
              "ng082cWiOTMCEACoiYkXee5Pf7ZlW5ITa/5WZVV1TeC2bKuuAUxE4HRZAzgN1hAAwCsz1Td8JCdm\\\n",
              "AsfG3sT7Y72SE0J8fpsBBABqYHBwcMpto7HX3t4+7v6ZPg9TE4AAwDnX29ubnp6eKbdv2bIle/fu\\\n",
              "nfRi0aNeydfAcYIABABqYqoIHHtYd6pvDBF/0yMAAYCamRiBk63pmxiB4m/6Lqj1AACAso3GXGtr\\\n",
              "65QndIw+Pjg4KP7OAmcBT4OziABgan3/5zvVP3ffd0MNRzKez2+HgAEAiiMAAQAKYw0gADAjzqfD\\\n",
              "voxnBhAAoDACEACgMAIQAKAwAhAAoDACEACgMAIQAKAwAhAAoDACEACgMAIQAKAwAhAAoDACEACg\\\n",
              "MAIQAKAwAhAAoDAX1HoA9axSqSRJhoeHazwSAOB0jX5uj36Ol0gATsMLL7yQJFm0aFGNRwIAnKkX\\\n",
              "XnghLS0ttR5GTcyqlJy/03T8+PEcOnQol156aWbNmlXr4TSU4eHhLFq0KAcPHkxzc3Oth9OwvM7n\\\n",
              "htf53PA6nzv1/lpXKpW88MILWbBgQWbPLnM1nBnAaZg9e3YWLlxY62E0tObm5rp8c6k3Xudzw+t8\\\n",
              "bnidz516fq1LnfkbVWb2AgAUTAACABRGAHJeampqSk9PT5qammo9lIbmdT43vM7nhtf53PFa1z8n\\\n",
              "gQAAFMYMIABAYQQgAEBhBCAAQGEEIABAYQQg553Pfe5zedvb3paLL744l1122aT7HDhwIDfffHMu\\\n",
              "vvjiXHHFFfnkJz+ZX//61+d2oHWur68vr3/963PRRRfluuuuyw9+8INaD6nuffe738173/veLFiw\\\n",
              "ILNmzcqOHTvGba9UKrnrrrvyute9LnPnzs2KFSvy4x//uDaDrWObNm3KW9/61lx66aW54oorsmrV\\\n",
              "qjzzzDPj9nnxxRfT3d2d1772tbnkkkvygQ98IIcPH67RiOvTvffemze96U3Viz13dHTkm9/8ZnW7\\\n",
              "17i+CUDOO0ePHs2HPvSh3HbbbZNuP3bsWG6++eYcPXo03/ve9/LAAw9k27Ztueuuu87xSOvXQw89\\\n",
              "lPXr16enpyc/+tGPcs0112TlypV57rnnaj20unbkyJFcc8016evrm3T7Pffcky9/+cu577778uST\\\n",
              "T+bVr351Vq5cmRdffPEcj7S+PfHEE+nu7s73v//9PProo3nppZdy44035siRI9V9PvGJT+TrX/96\\\n",
              "Hn744TzxxBM5dOhQ3v/+99dw1PVn4cKFufvuu7N79+788Ic/zA033JD3ve99efrpp5N4jeteBc5T\\\n",
              "999/f6WlpeWkx//lX/6lMnv27MrAwED1sXvvvbfS3NxcGRkZOYcjrF/XXnttpbu7u3r/2LFjlQUL\\\n",
              "FlQ2bdpUw1E1liSVRx55pHr/+PHjlba2tsrnP//56mPPP/98pampqfLVr361BiNsHM8991wlSeWJ\\\n",
              "J56oVConXtcLL7yw8vDDD1f32bdvXyVJZdeuXbUaZkN4zWteU/nbv/1br3EDMANI3dm1a1fe+MY3\\\n",
              "Zv78+dXHVq5cmeHh4epvpkzt6NGj2b17d1asWFF9bPbs2VmxYkV27dpVw5E1tp/85CcZGBgY97q3\\\n",
              "tLTkuuuu87pP09DQUJJk3rx5SZLdu3fnpZdeGvdaX3311Vm8eLHX+hU6duxYtm/fniNHjqSjo8Nr\\\n",
              "3AAuqPUA4EwNDAyMi78k1fsDAwO1GFJd+cUvfpFjx45N+hru37+/RqNqfKP/Nid73f27feWOHz+e\\\n",
              "22+/PW9/+9uzbNmyJCde6zlz5py0hthrfeaeeuqpdHR05MUXX8wll1ySRx55JEuXLs2ePXu8xnXO\\\n",
              "DCDnxJ133plZs2ad8iY+gDPV3d2d/v7+bN++vdZDaUhXXXVV9uzZkyeffDK33XZburq6snfv3loP\\\n",
              "i7PADCDnxB133JHVq1efcp83vOENp/VcbW1tJ52xOnrmWVtb2ysaX0kuv/zyvOpVrzrpbL3Dhw97\\\n",
              "/WbQ6Gt7+PDhvO51r6s+fvjw4bz5zW+u0ajq29q1a/ONb3wj3/3ud7Nw4cLq421tbTl69Gief/75\\\n",
              "cTNU/o2fuTlz5uTKK69Mkixfvjz//u//ni996Uv58Ic/7DWuc2YAOSdaW1tz9dVXn/I2Z86c03qu\\\n",
              "jo6OPPXUU+POWH300UfT3NycpUuXztR/QsOYM2dOli9fnp07d1YfO378eHbu3JmOjo4ajqyxLVmy\\\n",
              "JG1tbeNe9+Hh4Tz55JNe9zNUqVSydu3aPPLII/nOd76TJUuWjNu+fPnyXHjhheNe62eeeSYHDhzw\\\n",
              "Wk/T8ePHMzIy4jVuAGYAOe8cOHAgv/zlL3PgwIEcO3Yse/bsSZJceeWVueSSS3LjjTdm6dKl+chH\\\n",
              "PpJ77rknAwMD+fSnP53u7u40NTXVdvB1Yv369enq6spb3vKWXHvttfniF7+YI0eO5KMf/With1bX\\\n",
              "fvWrX+XZZ5+t3v/JT36SPXv2ZN68eVm8eHFuv/32fPazn83v/M7vZMmSJfnMZz6TBQsWZNWqVbUb\\\n",
              "dB3q7u7Ogw8+mK997Wu59NJLq2vOWlpaMnfu3LS0tOTWW2/N+vXrM2/evDQ3N2fdunXp6OjI9ddf\\\n",
              "X+PR148NGzbkpptuyuLFi/PCCy/kwQcfzOOPP55vfetbXuNGUOvTkGGirq6uSpKTbo899lh1n5/+\\\n",
              "9KeVm266qTJ37tzK5ZdfXrnjjjsqL730Uu0GXYc2b95cWbx4cWXOnDmVa6+9tvL973+/1kOqe489\\\n",
              "9tik/3a7uroqlcqJS8F85jOfqcyfP7/S1NRUefe731155plnajvoOjTZa5ykcv/991f3+d///d/K\\\n",
              "n/7pn1Ze85rXVC6++OLKH/3RH1V+/vOf127QdehjH/tY5bd+67cqc+bMqbS2tlbe/e53V7797W9X\\\n",
              "t3uN69usSqVSOffZCQBArVgDCABQGAEIAFAYAQgAUBgBCABQGAEIAFAYAQgAUBgBCABQGAEIAFAY\\\n",
              "AQgAUBgBCABQGAEIAFAYAQgAUBgBCABQGAEIAFAYAQgAUBgBCABQGAEIAFAYAQgAUBgBCABQGAEI\\\n",
              "AFAYAQgAUBgBCABQGAEIAFAYAQgAUBgBCABQGAEIAFAYAQgAUBgBCABQGAEIAFAYAQgAUBgBCABQ\\\n",
              "mP8HmHEizNoGSq4AAAAASUVORK5CYII=\\\n",
              "\"\n",
              "\n",
              "\n",
              "    /* set a timeout to make sure all the above elements are created before\n",
              "       the object is initialized. */\n",
              "    setTimeout(function() {\n",
              "        anim6b230a57ba6e4be99903922cf858319a = new Animation(frames, img_id, slider_id, 500.0,\n",
              "                                 loop_select_id);\n",
              "    }, 0);\n",
              "  })()\n",
              "</script>\n"
            ]
          },
          "metadata": {},
          "execution_count": 35
        }
      ],
      "source": [
        "# create your own animation\n",
        "X = data.clone()\n",
        "fig,ax = plt.subplots()\n",
        "ani = FuncAnimation(fig, do_one, frames=5, interval=500, repeat=False)\n",
        "plt.close()\n",
        "HTML(ani.to_jshtml())"
      ]
    },
    {
      "cell_type": "markdown",
      "metadata": {
        "id": "J2AcP084Ia15"
      },
      "source": [
        "## GPU batched algorithm"
      ]
    },
    {
      "cell_type": "markdown",
      "metadata": {
        "id": "y6Ou0zLxIa15"
      },
      "source": [
        "To truly accelerate the algorithm, we need to be performing updates on a batch of points per iteration, instead of just one as we were doing."
      ]
    },
    {
      "cell_type": "code",
      "execution_count": 36,
      "metadata": {
        "id": "N1r4tV3aIa15",
        "outputId": "02489230-cc77-47dd-9b17-f16cfde18736",
        "colab": {
          "base_uri": "https://localhost:8080/"
        }
      },
      "outputs": [
        {
          "output_type": "execute_result",
          "data": {
            "text/plain": [
              "(torch.Size([5, 2]), torch.Size([1500, 2]))"
            ]
          },
          "metadata": {},
          "execution_count": 36
        }
      ],
      "source": [
        "bs=5\n",
        "X = data.clone()\n",
        "x = X[:bs]\n",
        "x.shape,X.shape"
      ]
    },
    {
      "cell_type": "code",
      "execution_count": 37,
      "metadata": {
        "id": "ziK4vKenIa15"
      },
      "outputs": [],
      "source": [
        "def dist_b(a,b): return (((a[None]-b[:,None])**2).sum(2)).sqrt()"
      ]
    },
    {
      "cell_type": "code",
      "execution_count": 38,
      "metadata": {
        "id": "vPCBRCX7Ia15",
        "outputId": "5795826d-77d9-45eb-d4c8-650de9451f9d",
        "colab": {
          "base_uri": "https://localhost:8080/"
        }
      },
      "outputs": [
        {
          "output_type": "execute_result",
          "data": {
            "text/plain": [
              "tensor([[ 0.000,  3.844,  6.667,  ..., 29.271, 25.056, 25.046],\n",
              "        [ 3.844,  0.000,  5.895,  ..., 30.594, 26.296, 26.368],\n",
              "        [ 6.667,  5.895,  0.000,  ..., 25.019, 20.707, 20.827],\n",
              "        [ 4.572,  4.175,  2.112,  ..., 26.425, 22.124, 22.202],\n",
              "        [ 2.979,  3.370,  3.701,  ..., 27.413, 23.134, 23.180]])"
            ]
          },
          "metadata": {},
          "execution_count": 38
        }
      ],
      "source": [
        "dist_b(X, x)"
      ]
    },
    {
      "cell_type": "code",
      "execution_count": 39,
      "metadata": {
        "id": "w3K1g7WlIa15",
        "outputId": "82927f16-83d1-4629-ba9e-0d9720c8c972",
        "colab": {
          "base_uri": "https://localhost:8080/"
        }
      },
      "outputs": [
        {
          "output_type": "execute_result",
          "data": {
            "text/plain": [
              "torch.Size([5, 1500])"
            ]
          },
          "metadata": {},
          "execution_count": 39
        }
      ],
      "source": [
        "dist_b(X, x).shape"
      ]
    },
    {
      "cell_type": "code",
      "execution_count": 40,
      "metadata": {
        "id": "dU9l0rdfIa15",
        "outputId": "d5276d87-f2d6-432e-90ae-e9027aab5327",
        "colab": {
          "base_uri": "https://localhost:8080/"
        }
      },
      "outputs": [
        {
          "output_type": "execute_result",
          "data": {
            "text/plain": [
              "(torch.Size([1, 1500, 2]), torch.Size([5, 1, 2]), torch.Size([5, 1500, 2]))"
            ]
          },
          "metadata": {},
          "execution_count": 40
        }
      ],
      "source": [
        "X[None,:].shape, x[:,None].shape, (X[None,:]-x[:,None]).shape"
      ]
    },
    {
      "cell_type": "code",
      "execution_count": 41,
      "metadata": {
        "id": "4Y3UATKtIa15",
        "outputId": "269d07fe-f896-4eb7-989f-a945c76b62de",
        "colab": {
          "base_uri": "https://localhost:8080/"
        }
      },
      "outputs": [
        {
          "output_type": "execute_result",
          "data": {
            "text/plain": [
              "tensor([[    0.199,     0.031,     0.001,  ...,     0.000,     0.000,     0.000],\n",
              "        [    0.031,     0.199,     0.003,  ...,     0.000,     0.000,     0.000],\n",
              "        [    0.001,     0.003,     0.199,  ...,     0.000,     0.000,     0.000],\n",
              "        [    0.015,     0.023,     0.114,  ...,     0.000,     0.000,     0.000],\n",
              "        [    0.066,     0.048,     0.036,  ...,     0.000,     0.000,     0.000]])"
            ]
          },
          "metadata": {},
          "execution_count": 41
        }
      ],
      "source": [
        "weight = gaussian(dist_b(X, x), 2)\n",
        "weight"
      ]
    },
    {
      "cell_type": "code",
      "execution_count": 42,
      "metadata": {
        "id": "GQrUao_oIa15",
        "outputId": "e7ae111a-5093-44fe-858e-f978ff762a5c",
        "colab": {
          "base_uri": "https://localhost:8080/"
        }
      },
      "outputs": [
        {
          "output_type": "execute_result",
          "data": {
            "text/plain": [
              "(torch.Size([5, 1500]), torch.Size([1500, 2]))"
            ]
          },
          "metadata": {},
          "execution_count": 42
        }
      ],
      "source": [
        "weight.shape,X.shape"
      ]
    },
    {
      "cell_type": "code",
      "execution_count": 43,
      "metadata": {
        "id": "HpFzCUitIa15",
        "outputId": "9f429fd6-7fcc-4300-f90c-6989a09fbddd",
        "colab": {
          "base_uri": "https://localhost:8080/"
        }
      },
      "outputs": [
        {
          "output_type": "execute_result",
          "data": {
            "text/plain": [
              "(torch.Size([5, 1500, 1]), torch.Size([1, 1500, 2]))"
            ]
          },
          "metadata": {},
          "execution_count": 43
        }
      ],
      "source": [
        "weight[...,None].shape, X[None].shape"
      ]
    },
    {
      "cell_type": "code",
      "execution_count": 44,
      "metadata": {
        "id": "y4qdFybzIa15",
        "outputId": "dd32df11-90ca-4132-981b-11c25a17d8cd",
        "colab": {
          "base_uri": "https://localhost:8080/"
        }
      },
      "outputs": [
        {
          "output_type": "execute_result",
          "data": {
            "text/plain": [
              "torch.Size([5, 2])"
            ]
          },
          "metadata": {},
          "execution_count": 44
        }
      ],
      "source": [
        "num = (weight[...,None]*X[None]).sum(1)\n",
        "num.shape"
      ]
    },
    {
      "cell_type": "code",
      "execution_count": 45,
      "metadata": {
        "id": "NwwyLNxoIa15",
        "outputId": "9c0f5ac6-6c15-4f35-ca42-44dc1c1e7b5e",
        "colab": {
          "base_uri": "https://localhost:8080/"
        }
      },
      "outputs": [
        {
          "output_type": "execute_result",
          "data": {
            "text/plain": [
              "tensor([[489.810, 518.227],\n",
              "        [369.022, 426.363],\n",
              "        [201.638, 212.026],\n",
              "        [450.912, 479.514],\n",
              "        [603.849, 642.769]])"
            ]
          },
          "metadata": {},
          "execution_count": 45
        }
      ],
      "source": [
        "num"
      ]
    },
    {
      "cell_type": "code",
      "execution_count": 46,
      "metadata": {
        "id": "njTA1OkEIa15",
        "outputId": "637761b7-d9df-45f7-de80-ebace1a71fd8",
        "colab": {
          "base_uri": "https://localhost:8080/"
        }
      },
      "outputs": [
        {
          "output_type": "execute_result",
          "data": {
            "text/plain": [
              "tensor([[489.810, 518.227],\n",
              "        [369.022, 426.363],\n",
              "        [201.638, 212.026],\n",
              "        [450.912, 479.514],\n",
              "        [603.849, 642.769]])"
            ]
          },
          "metadata": {},
          "execution_count": 46
        }
      ],
      "source": [
        "torch.einsum('ij,jk->ik', weight, X)"
      ]
    },
    {
      "cell_type": "code",
      "execution_count": 47,
      "metadata": {
        "id": "1l2kBbAEIa16",
        "outputId": "b3c7786b-9973-473f-e54f-0cbd5e0d5569",
        "colab": {
          "base_uri": "https://localhost:8080/"
        }
      },
      "outputs": [
        {
          "output_type": "execute_result",
          "data": {
            "text/plain": [
              "tensor([[489.810, 518.227],\n",
              "        [369.022, 426.363],\n",
              "        [201.638, 212.026],\n",
              "        [450.912, 479.514],\n",
              "        [603.849, 642.769]])"
            ]
          },
          "metadata": {},
          "execution_count": 47
        }
      ],
      "source": [
        "weight@X"
      ]
    },
    {
      "cell_type": "code",
      "execution_count": 48,
      "metadata": {
        "id": "pJjo80D_Ia16",
        "outputId": "711973bd-ab24-4ece-eec5-13af05c7baa9",
        "colab": {
          "base_uri": "https://localhost:8080/"
        }
      },
      "outputs": [
        {
          "output_type": "execute_result",
          "data": {
            "text/plain": [
              "torch.Size([5, 1])"
            ]
          },
          "metadata": {},
          "execution_count": 48
        }
      ],
      "source": [
        "div = weight.sum(1, keepdim=True)\n",
        "div.shape"
      ]
    },
    {
      "cell_type": "code",
      "execution_count": 49,
      "metadata": {
        "id": "SUCALdURIa16",
        "outputId": "4f743a96-7fa2-4f34-8ff2-8c5549219873",
        "colab": {
          "base_uri": "https://localhost:8080/"
        }
      },
      "outputs": [
        {
          "output_type": "execute_result",
          "data": {
            "text/plain": [
              "tensor([[28.101, 29.732],\n",
              "        [26.093, 30.148],\n",
              "        [25.613, 26.933],\n",
              "        [26.282, 27.949],\n",
              "        [26.893, 28.626]])"
            ]
          },
          "metadata": {},
          "execution_count": 49
        }
      ],
      "source": [
        "num/div"
      ]
    },
    {
      "cell_type": "code",
      "execution_count": 50,
      "metadata": {
        "id": "db1DHxiJIa16"
      },
      "outputs": [],
      "source": [
        "def meanshift(data, bs=500):\n",
        "    n = len(data)\n",
        "    X = data.clone()\n",
        "    for it in range(5):\n",
        "        for i in range(0, n, bs):\n",
        "            s = slice(i, min(i+bs,n))\n",
        "            weight = gaussian(dist_b(X, X[s]), 2.5)\n",
        "#             weight = tri(dist_b(X, X[s]), 8)\n",
        "            div = weight.sum(1, keepdim=True)\n",
        "            X[s] = weight@X/div\n",
        "    return X"
      ]
    },
    {
      "cell_type": "markdown",
      "metadata": {
        "id": "BI0Al8eXIa16"
      },
      "source": [
        "Although each iteration still has to launch a new cuda kernel, there are now fewer iterations, and the acceleration from updating a batch of points more than makes up for it."
      ]
    },
    {
      "cell_type": "code",
      "execution_count": 51,
      "metadata": {
        "id": "SXZgQwelIa16",
        "colab": {
          "base_uri": "https://localhost:8080/",
          "height": 263
        },
        "outputId": "446827a3-4fb7-463e-bd0c-798f85edddf7"
      },
      "outputs": [
        {
          "output_type": "error",
          "ename": "RuntimeError",
          "evalue": "Found no NVIDIA driver on your system. Please check that you have an NVIDIA GPU and installed a driver from http://www.nvidia.com/Download/index.aspx",
          "traceback": [
            "\u001b[0;31m---------------------------------------------------------------------------\u001b[0m",
            "\u001b[0;31mRuntimeError\u001b[0m                              Traceback (most recent call last)",
            "\u001b[0;32m<ipython-input-51-182b057b92c7>\u001b[0m in \u001b[0;36m<cell line: 0>\u001b[0;34m()\u001b[0m\n\u001b[0;32m----> 1\u001b[0;31m \u001b[0mdata\u001b[0m \u001b[0;34m=\u001b[0m \u001b[0mdata\u001b[0m\u001b[0;34m.\u001b[0m\u001b[0mcuda\u001b[0m\u001b[0;34m(\u001b[0m\u001b[0;34m)\u001b[0m\u001b[0;34m\u001b[0m\u001b[0;34m\u001b[0m\u001b[0m\n\u001b[0m",
            "\u001b[0;32m/usr/local/lib/python3.11/dist-packages/torch/cuda/__init__.py\u001b[0m in \u001b[0;36m_lazy_init\u001b[0;34m()\u001b[0m\n\u001b[1;32m    317\u001b[0m         \u001b[0;32mif\u001b[0m \u001b[0;34m\"CUDA_MODULE_LOADING\"\u001b[0m \u001b[0;32mnot\u001b[0m \u001b[0;32min\u001b[0m \u001b[0mos\u001b[0m\u001b[0;34m.\u001b[0m\u001b[0menviron\u001b[0m\u001b[0;34m:\u001b[0m\u001b[0;34m\u001b[0m\u001b[0;34m\u001b[0m\u001b[0m\n\u001b[1;32m    318\u001b[0m             \u001b[0mos\u001b[0m\u001b[0;34m.\u001b[0m\u001b[0menviron\u001b[0m\u001b[0;34m[\u001b[0m\u001b[0;34m\"CUDA_MODULE_LOADING\"\u001b[0m\u001b[0;34m]\u001b[0m \u001b[0;34m=\u001b[0m \u001b[0;34m\"LAZY\"\u001b[0m\u001b[0;34m\u001b[0m\u001b[0;34m\u001b[0m\u001b[0m\n\u001b[0;32m--> 319\u001b[0;31m         \u001b[0mtorch\u001b[0m\u001b[0;34m.\u001b[0m\u001b[0m_C\u001b[0m\u001b[0;34m.\u001b[0m\u001b[0m_cuda_init\u001b[0m\u001b[0;34m(\u001b[0m\u001b[0;34m)\u001b[0m\u001b[0;34m\u001b[0m\u001b[0;34m\u001b[0m\u001b[0m\n\u001b[0m\u001b[1;32m    320\u001b[0m         \u001b[0;31m# Some of the queued calls may reentrantly call _lazy_init();\u001b[0m\u001b[0;34m\u001b[0m\u001b[0;34m\u001b[0m\u001b[0m\n\u001b[1;32m    321\u001b[0m         \u001b[0;31m# we need to just return without initializing in that case.\u001b[0m\u001b[0;34m\u001b[0m\u001b[0;34m\u001b[0m\u001b[0m\n",
            "\u001b[0;31mRuntimeError\u001b[0m: Found no NVIDIA driver on your system. Please check that you have an NVIDIA GPU and installed a driver from http://www.nvidia.com/Download/index.aspx"
          ]
        }
      ],
      "source": [
        "data = data.cuda()"
      ]
    },
    {
      "cell_type": "code",
      "execution_count": 52,
      "metadata": {
        "id": "JGO7WOPeIa16"
      },
      "outputs": [],
      "source": [
        "X = meanshift(data).cpu()"
      ]
    },
    {
      "cell_type": "code",
      "execution_count": 53,
      "metadata": {
        "id": "v9doSoBgIa16",
        "outputId": "d8b12717-022e-4f81-b8a5-ec66b08c2bd9",
        "colab": {
          "base_uri": "https://localhost:8080/"
        }
      },
      "outputs": [
        {
          "output_type": "stream",
          "name": "stdout",
          "text": [
            "648 ms ± 89.9 ms per loop (mean ± std. dev. of 7 runs, 5 loops each)\n"
          ]
        }
      ],
      "source": [
        "%timeit -n 5 _=meanshift(data, 1250).cpu()"
      ]
    },
    {
      "cell_type": "code",
      "execution_count": 54,
      "metadata": {
        "id": "r5q9QpulIa16",
        "outputId": "eebaa3b4-f2a4-4990-cf92-17004ef126ba",
        "colab": {
          "base_uri": "https://localhost:8080/",
          "height": 430
        }
      },
      "outputs": [
        {
          "output_type": "display_data",
          "data": {
            "text/plain": [
              "<Figure size 640x480 with 1 Axes>"
            ],
            "image/png": "[encoded data removed]"
          },
          "metadata": {}
        }
      ],
      "source": [
        "plot_data(centroids+2, X, n_samples)"
      ]
    },
    {
      "cell_type": "markdown",
      "metadata": {
        "id": "T1_Gk9z0Ia16"
      },
      "source": [
        "**Homework:** implement k-means clustering, dbscan, locality sensitive hashing, or some other clustering, fast nearest neighbors, or similar algorithm of your choice, on the GPU. Check if your version is faster than a pure python or CPU version.\n",
        "\n",
        "Bonus: Implement it in APL too!\n",
        "\n",
        "Super bonus: Invent a new meanshift algorithm which picks only the closest points, to avoid quadratic time.\n",
        "\n",
        "Super super bonus: Publish a paper that describes it :D"
      ]
    },
    {
      "cell_type": "code",
      "execution_count": 54,
      "metadata": {
        "id": "2XtqNPLdIa16"
      },
      "outputs": [],
      "source": [
        "# Identify Core Points: For each point in the dataset, count the number of points within its eps neighborhood. If the count meets or exceeds MinPts, mark the point as a core point.\n",
        "# Form Clusters: For each core point that is not already assigned to a cluster, create a new cluster. Recursively find all density-connected points (points within the eps radius of the core point) and add them to the cluster.\n",
        "# Density Connectivity: Two points, a and b, are density-connected if there exists a chain of points where each point is within the eps radius of the next, and at least one point in the chain is a core point. This chaining process ensures that all points in a cluster are connected through a series of dense regions.\n",
        "# Label Noise Points: After processing all points, any point that does not belong to a cluster is labeled as noise."
      ]
    }
  ],
  "metadata": {
    "kernelspec": {
      "display_name": "Python 3 (ipykernel)",
      "language": "python",
      "name": "python3"
    },
    "colab": {
      "provenance": []
    }
  },
  "nbformat": 4,
  "nbformat_minor": 0
}